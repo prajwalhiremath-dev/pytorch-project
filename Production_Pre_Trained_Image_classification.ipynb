{
  "cells": [
    {
      "cell_type": "code",
      "execution_count": null,
      "metadata": {
        "colab": {
          "base_uri": "https://localhost:8080/"
        },
        "id": "4FBqNdrYbYtK",
        "outputId": "9b9442a5-b31b-4615-c9e7-3a3ee374e5b4"
      },
      "outputs": [],
      "source": [
        "!pip install opendatasets --quiet\n",
        "import opendatasets as od\n",
        "od.download(\"https://www.kaggle.com/datasets/marquis03/bean-leaf-lesions-classification\")"
      ]
    },
    {
      "cell_type": "markdown",
      "metadata": {
        "id": "tfYHArXoHVI6"
      },
      "source": [
        "# Pre-Trained : Image Classification :Production"
      ]
    },
    {
      "cell_type": "code",
      "execution_count": 1,
      "metadata": {
        "colab": {
          "base_uri": "https://localhost:8080/"
        },
        "id": "gMXwvbk7Hb50",
        "outputId": "59d97868-db5e-4cd3-8d0c-ce9a336fcbea"
      },
      "outputs": [
        {
          "name": "stdout",
          "output_type": "stream",
          "text": [
            "Skipping, found downloaded files in \"./bean-leaf-lesions-classification\" (use force=True to force download)\n"
          ]
        }
      ],
      "source": [
        "!pip install opendatasets --quiet\n",
        "import opendatasets as od\n",
        "od.download(\"https://www.kaggle.com/datasets/marquis03/bean-leaf-lesions-classification\")"
      ]
    },
    {
      "cell_type": "code",
      "execution_count": 2,
      "metadata": {
        "id": "9veUT8ngHmiV"
      },
      "outputs": [],
      "source": [
        "!pip install torchmetrics --quiet"
      ]
    },
    {
      "cell_type": "code",
      "execution_count": 3,
      "metadata": {
        "id": "dBsAcIlWHezi"
      },
      "outputs": [],
      "source": [
        "import torch\n",
        "import torch.nn as nn\n",
        "import torch.optim as optim\n",
        "from torch.utils.data import Dataset, DataLoader\n",
        "import torchvision.transforms as transforms\n",
        "import torchvision.models as models\n",
        "from torchvision.transforms.functional import InterpolationMode\n",
        "from sklearn.model_selection import train_test_split\n",
        "from sklearn.metrics import classification_report\n",
        "from PIL import Image\n",
        "import pandas as pd\n",
        "import numpy as np\n",
        "import os\n",
        "import time\n",
        "import json\n",
        "import torchmetrics\n",
        "import matplotlib.pyplot as plt\n",
        "import copy"
      ]
    },
    {
      "cell_type": "markdown",
      "metadata": {
        "id": "HOy5byT7HwJt"
      },
      "source": [
        "## Configurations"
      ]
    },
    {
      "cell_type": "code",
      "execution_count": 4,
      "metadata": {
        "id": "g7Du4iiQHjpg"
      },
      "outputs": [],
      "source": [
        "TRAIN_CSV = \"/content/bean-leaf-lesions-classification/train.csv\"\n",
        "VAL_CSV = \"/content/bean-leaf-lesions-classification/val.csv\"\n",
        "\n",
        "IMAGE_BASE_DIR = \"/content/bean-leaf-lesions-classification/\" # Directory containing the image folders ('train', 'val')"
      ]
    },
    {
      "cell_type": "code",
      "execution_count": 5,
      "metadata": {
        "colab": {
          "base_uri": "https://localhost:8080/"
        },
        "id": "Ur6fKuavHx1m",
        "outputId": "8d479baa-3e67-41dd-83c3-0054c2df054e"
      },
      "outputs": [
        {
          "name": "stdout",
          "output_type": "stream",
          "text": [
            "Using device: cuda\n",
            "Using model: resnet18\n",
            "Feature Extract Mode: True\n"
          ]
        }
      ],
      "source": [
        "# Model & Training Settings\n",
        "MODEL_NAME = \"resnet18\" # Options: \"resnet18\", \"googlenet\", \"efficientnet_b0\", etc.\n",
        "FEATURE_EXTRACT = True # True: Freeze base model, train only classifier. False: Fine-tune all layers.\n",
        "MODEL_SAVE_PATH = f\"best_{MODEL_NAME}_feature_extract_{FEATURE_EXTRACT}.pth\"\n",
        "# LABEL_MAP_PATH = \"bean_label_mapping.json\" # No longer needed if labels are numerical\n",
        "IMAGE_SIZE = 224 # Common size for ImageNet models (GoogLeNet might prefer 299)\n",
        "BATCH_SIZE = 32\n",
        "EPOCHS = 20 # Can increase if needed\n",
        "LEARNING_RATE = 1e-3 if FEATURE_EXTRACT else 1e-4 # Lower LR for fine-tuning\n",
        "RANDOM_STATE = 42\n",
        "DEVICE = \"cuda\" if torch.cuda.is_available() else \"cpu\"\n",
        "NUM_WORKERS = 2\n",
        "EARLY_STOPPING_PATIENCE = 5\n",
        "\n",
        "# Define image and label column names based on user's structure\n",
        "IMAGE_COLUMN = \"image:FILE\"\n",
        "LABEL_COLUMN = \"category\"\n",
        "\n",
        "print(f\"Using device: {DEVICE}\")\n",
        "print(f\"Using model: {MODEL_NAME}\")\n",
        "print(f\"Feature Extract Mode: {FEATURE_EXTRACT}\")"
      ]
    },
    {
      "cell_type": "markdown",
      "metadata": {
        "id": "Tm3sr6FBIKGJ"
      },
      "source": [
        "## 1. Data Loading and Preparation"
      ]
    },
    {
      "cell_type": "code",
      "execution_count": 6,
      "metadata": {
        "id": "i6Ok-QfxH6A6"
      },
      "outputs": [],
      "source": [
        "def load_data_from_csv(csv_path, image_base_dir, image_col, label_col):\n",
        "    \"\"\"Loads image paths and numerical labels from a CSV file.\"\"\"\n",
        "    try:\n",
        "        df = pd.read_csv(csv_path)\n",
        "        # Check if required columns exist\n",
        "        if image_col not in df.columns or label_col not in df.columns:\n",
        "            raise ValueError(f\"CSV must contain '{image_col}' and '{label_col}' columns.\")\n",
        "\n",
        "        # Construct full image path - assumes image_col contains relative paths from image_base_dir\n",
        "        # If image_col already contains full paths, adjust this line or the IMAGE_BASE_DIR setting\n",
        "        df['image_path'] = df[image_col].apply(lambda x: os.path.join(image_base_dir, x))\n",
        "\n",
        "        # Rename the numerical label column to 'label_idx' for consistency\n",
        "        df = df.rename(columns={label_col: 'label_idx'})\n",
        "\n",
        "        # Ensure labels are integers\n",
        "        if not pd.api.types.is_integer_dtype(df['label_idx']):\n",
        "             try:\n",
        "                 df['label_idx'] = df['label_idx'].astype(int)\n",
        "             except ValueError:\n",
        "                 raise ValueError(f\"Column '{label_col}' could not be converted to integers.\")\n",
        "\n",
        "        # Check if paths exist (optional but recommended for robustness)\n",
        "        # exist_mask = df['image_path'].apply(os.path.exists)\n",
        "        # print(f\"Found {exist_mask.sum()} existing images out of {len(df)} for {os.path.basename(csv_path)}\")\n",
        "        # df = df[exist_mask]\n",
        "\n",
        "        if len(df) == 0:\n",
        "             raise ValueError(f\"No valid image paths found for {os.path.basename(csv_path)}.\")\n",
        "\n",
        "        return df\n",
        "    except FileNotFoundError:\n",
        "        raise ValueError(f\"CSV file not found at {csv_path}\")\n",
        "    except Exception as e:\n",
        "        raise RuntimeError(f\"Error loading data from {csv_path}: {e}\")"
      ]
    },
    {
      "cell_type": "code",
      "execution_count": 7,
      "metadata": {
        "colab": {
          "base_uri": "https://localhost:8080/"
        },
        "id": "zmf0p92UIUf_",
        "outputId": "66fa08c0-35e0-41e8-9c6d-0d2bfb13e84b"
      },
      "outputs": [
        {
          "name": "stdout",
          "output_type": "stream",
          "text": [
            "Number of classes detected: 3\n",
            "Detected class indices: [np.int64(0), np.int64(1), np.int64(2)]\n",
            "\n",
            "Dataset loaded:\n",
            "Train samples: 1034\n",
            "Train class distribution:\n",
            "label_idx\n",
            "0    341\n",
            "1    345\n",
            "2    348\n",
            "Name: count, dtype: int64\n",
            "Validation samples: 133\n",
            "Validation class distribution:\n",
            "label_idx\n",
            "0    44\n",
            "1    44\n",
            "2    45\n",
            "Name: count, dtype: int64\n"
          ]
        }
      ],
      "source": [
        "try:\n",
        "    train_df_raw = load_data_from_csv(TRAIN_CSV, IMAGE_BASE_DIR, IMAGE_COLUMN, LABEL_COLUMN)\n",
        "    val_df_raw = load_data_from_csv(VAL_CSV, IMAGE_BASE_DIR, IMAGE_COLUMN, LABEL_COLUMN)\n",
        "\n",
        "    # Determine number of classes from the loaded data\n",
        "    all_labels = pd.concat([train_df_raw['label_idx'], val_df_raw['label_idx']]).unique()\n",
        "    num_classes = len(all_labels)\n",
        "    if num_classes <= 1:\n",
        "        raise ValueError(\"Detected only one or zero classes. Need at least two classes for classification.\")\n",
        "    print(f\"Number of classes detected: {num_classes}\")\n",
        "    print(f\"Detected class indices: {sorted(all_labels)}\")\n",
        "\n",
        "    # Assign directly as labels are already numerical indices\n",
        "    train_df = train_df_raw\n",
        "    val_df = val_df_raw\n",
        "\n",
        "    # Optional: Save the number of classes if needed for inference structure\n",
        "    # class_info = {'num_classes': num_classes}\n",
        "    # with open(\"class_info.json\", 'w') as f:\n",
        "    #    json.dump(class_info, f)\n",
        "\n",
        "    print(f\"\\nDataset loaded:\")\n",
        "    print(f\"Train samples: {len(train_df)}\")\n",
        "    print(f\"Train class distribution:\\n{train_df['label_idx'].value_counts().sort_index()}\")\n",
        "    print(f\"Validation samples: {len(val_df)}\")\n",
        "    print(f\"Validation class distribution:\\n{val_df['label_idx'].value_counts().sort_index()}\")\n",
        "    # print(f\"Test: {len(test_df)} samples\") # If you create a test split\n",
        "\n",
        "except ValueError as e:\n",
        "    print(f\"Data Loading Error: {e}\")\n",
        "    exit()\n",
        "except RuntimeError as e:\n",
        "    print(f\"Data Loading Error: {e}\")\n",
        "    exit()"
      ]
    },
    {
      "cell_type": "markdown",
      "metadata": {
        "id": "oTqVCO8uMv7Z"
      },
      "source": [
        "## 2. Define Transforms (Use standard ImageNet normalization)"
      ]
    },
    {
      "cell_type": "code",
      "execution_count": 8,
      "metadata": {
        "id": "a4zg7hQ0Mwos"
      },
      "outputs": [],
      "source": [
        "# Pre-trained models expect specific normalization\n",
        "normalize = transforms.Normalize(mean=[0.485, 0.456, 0.406],\n",
        "                                 std=[0.229, 0.224, 0.225])"
      ]
    },
    {
      "cell_type": "code",
      "execution_count": 9,
      "metadata": {
        "id": "44fF_xyJM0YF"
      },
      "outputs": [],
      "source": [
        "train_transform = transforms.Compose([\n",
        "    transforms.Resize((IMAGE_SIZE, IMAGE_SIZE), interpolation=InterpolationMode.BILINEAR),\n",
        "    transforms.RandomHorizontalFlip(p=0.5),\n",
        "    transforms.RandomRotation(15),\n",
        "    transforms.ColorJitter(brightness=0.2, contrast=0.2, saturation=0.2),\n",
        "    transforms.ToTensor(),\n",
        "    # transforms.ConvertImageDtype(torch.float), # ToTensor already outputs float\n",
        "    normalize\n",
        "])\n",
        "\n",
        "val_test_transform = transforms.Compose([\n",
        "    transforms.Resize((IMAGE_SIZE, IMAGE_SIZE), interpolation=InterpolationMode.BILINEAR),\n",
        "    transforms.ToTensor(),\n",
        "    # transforms.ConvertImageDtype(torch.float),\n",
        "    normalize\n",
        "])"
      ]
    },
    {
      "cell_type": "markdown",
      "metadata": {
        "id": "VPf-8XUJM8CD"
      },
      "source": [
        "## 3. Custom Dataset"
      ]
    },
    {
      "cell_type": "code",
      "execution_count": 10,
      "metadata": {
        "id": "rwpQFN8YM5nC"
      },
      "outputs": [],
      "source": [
        "class LeafDataset(Dataset):\n",
        "    def __init__(self, dataframe, transform=None):\n",
        "        self.dataframe = dataframe\n",
        "        self.transform = transform\n",
        "        # Store paths and labels directly\n",
        "        self.image_paths = dataframe['image_path'].tolist()\n",
        "        self.labels = dataframe['label_idx'].tolist() # Already numerical indices\n",
        "\n",
        "    def __len__(self):\n",
        "        return len(self.dataframe)\n",
        "\n",
        "    def __getitem__(self, idx):\n",
        "        img_path = self.image_paths[idx]\n",
        "        label = self.labels[idx]\n",
        "        try:\n",
        "            image = Image.open(img_path).convert('RGB')\n",
        "        except FileNotFoundError:\n",
        "            print(f\"Warning: Image file not found {img_path}. Skipping.\")\n",
        "            return torch.zeros(3, IMAGE_SIZE, IMAGE_SIZE), -1 # Dummy return\n",
        "        except Exception as e:\n",
        "            print(f\"Warning: Error opening image {img_path}: {e}. Skipping.\")\n",
        "            return torch.zeros(3, IMAGE_SIZE, IMAGE_SIZE), -1\n",
        "\n",
        "        if self.transform:\n",
        "            image = self.transform(image)\n",
        "        # Ensure label is returned as a long tensor for CrossEntropyLoss\n",
        "        return image, torch.tensor(label, dtype=torch.long)"
      ]
    },
    {
      "cell_type": "markdown",
      "metadata": {
        "id": "W71KPHR0NNPS"
      },
      "source": [
        "## 4. Create Datasets and DataLoaders"
      ]
    },
    {
      "cell_type": "code",
      "execution_count": 11,
      "metadata": {
        "id": "bCjqZwfTNN6M"
      },
      "outputs": [],
      "source": [
        "train_dataset = LeafDataset(train_df, transform=train_transform)\n",
        "val_dataset = LeafDataset(val_df, transform=val_test_transform)"
      ]
    },
    {
      "cell_type": "code",
      "execution_count": 12,
      "metadata": {
        "id": "9JdIxuZONQ9q"
      },
      "outputs": [],
      "source": [
        "train_loader = DataLoader(train_dataset, batch_size=BATCH_SIZE, shuffle=True, num_workers=NUM_WORKERS, pin_memory=True if DEVICE == \"cuda\" else False)\n",
        "val_loader = DataLoader(val_dataset, batch_size=BATCH_SIZE, shuffle=False, num_workers=NUM_WORKERS, pin_memory=True if DEVICE == \"cuda\" else False)"
      ]
    },
    {
      "cell_type": "markdown",
      "metadata": {
        "id": "5_EzRLoMNZ0B"
      },
      "source": [
        "## 5. Load Pre-trained Model and Modify Classifier"
      ]
    },
    {
      "cell_type": "code",
      "execution_count": 13,
      "metadata": {
        "id": "jxI-4qRMNVKv"
      },
      "outputs": [],
      "source": [
        "def get_pretrained_model(model_name, num_classes, feature_extract):\n",
        "    \"\"\"Loads a pretrained model and resets the final layer.\"\"\"\n",
        "    model_ft = None #Initailze model variable\n",
        "    input_size = 0 #initilaze expected model input size variable\n",
        "\n",
        "    weights_param = \"IMAGENET1K_V1\" # Default weights (trained on ImageNet)\n",
        "\n",
        "    #---- Step 1 : Load the Base Pre-Trained Model -\n",
        "    #Based on the model_name provided, load the corresponding architecture\n",
        "    #with weights pre-trained on the large ImageNet dataset.\n",
        "    if model_name == \"resnet18\":\n",
        "      # Benefit: Loads a well-tested architecture with powerful features learned from millions of images.\n",
        "        # Saves immense training time and data requirements compared to training from scratch.\n",
        "        model_ft = models.resnet18(weights=models.ResNet18_Weights.IMAGENET1K_V1)\n",
        "        # --- Step 2 : Set Parameter Trainability (Feature Extraction vs. Fine-Tuning) ----\n",
        "        if feature_extract:\n",
        "          # Benefit (Feature Extraction): If True, freeze all layers of the pre-trained model.\n",
        "            # Only the final, new classifier layer will be trained. Good for smaller datasets\n",
        "            # or when the pre-trained features are highly relevant. Faster training, less VRAM needed.\n",
        "            for param in model_ft.parameters():\n",
        "                param.requires_grad = False #Freeze Parameters\n",
        "        #---- Step 3 : Replace the Final Classifier Layer ----\n",
        "        # Get the number of input features to the original final layer (called 'fc' in ResNet)\n",
        "        num_ftrs = model_ft.fc.in_features\n",
        "        # Create a *new* linear layer mapping those features to YOUR number of classes.\n",
        "        model_ft.fc = nn.Linear(num_ftrs, num_classes)\n",
        "        # Benefit: Adapts the model's output to match your specific problem (3 classes instead of ImageNet's 1000).\n",
        "\n",
        "        input_size = 224 #Store the typical input size for this model\n",
        "\n",
        "    #Similar setps for potentila models\n",
        "    elif model_name == \"googlenet\":\n",
        "        model_ft = models.googlenet(weights=models.GoogLeNet_Weights.IMAGENET1K_V1)\n",
        "        if feature_extract:\n",
        "            for param in model_ft.parameters():\n",
        "                param.requires_grad = False\n",
        "        num_ftrs = model_ft.fc.in_features\n",
        "        model_ft.fc = nn.Linear(num_ftrs, num_classes)\n",
        "        input_size = 224 #GoogLeNet often uses 224, sometime 299\n",
        "\n",
        "    elif model_name == \"efficientnet_b0\":\n",
        "         model_ft = models.efficientnet_b0(weights=models.EfficientNet_B0_Weights.IMAGENET1K_V1)\n",
        "         if feature_extract:\n",
        "             for param in model_ft.parameters():\n",
        "                 param.requires_grad = False\n",
        "         # EfficientNet's classifier is structured differently (a Sequential block usually)\n",
        "         # We access the Linear layer inside it (often the last one, index [1])\n",
        "         num_ftrs = model_ft.classifier[1].in_features\n",
        "         model_ft.classifier[1] = nn.Linear(num_ftrs, num_classes)\n",
        "         # Benefit: Shows flexibility in adapting different model architectures.\n",
        "         input_size = 224 #EfficientNet B0 default size\n",
        "\n",
        "    #Step 4 : Handle the exception case\n",
        "    else:\n",
        "        raise ValueError(f\"Model name '{model_name}' not recognized.\")\n",
        "\n",
        "    # Step 5: Ensure the NEW Classifier Layer IS Trainable (Crucial for Feature Extraction)\n",
        "    if feature_extract:\n",
        "         ## Check common names for the final layer ('fc' or 'classifier')\n",
        "         if hasattr(model_ft, 'fc'):\n",
        "             # Find the parameters of the *newly added* 'fc' layer and make them trainable.\n",
        "             for param in model_ft.fc.parameters():\n",
        "                 param.requires_grad = True\n",
        "              # Benefit: Without this, NO parameters would be updated during training in feature extract mode.\n",
        "         elif hasattr(model_ft, 'classifier') and isinstance(model_ft.classifier, nn.Sequential):\n",
        "             # Handle cases like EfficientNet where 'classifier' might be Sequential or a single layer.\n",
        "             for param in model_ft.classifier[-1].parameters():\n",
        "                 # Assume the last layer in the sequence is the one we replaced.\n",
        "                 param.requires_grad = True\n",
        "         elif hasattr(model_ft, 'classifier'): # If classifier is just one layer\n",
        "             for param in model_ft.classifier.parameters():\n",
        "                 param.requires_grad = True\n",
        "\n",
        "    # --- Step 6 : Informational Output ----\n",
        "    #Print the input size the architecture was designed for.\n",
        "    print(f\"Model input size expected by architecture: {input_size}x{input_size}\")\n",
        "    #Comapre the IMAGE_SIZE used in transforms and warn if different\n",
        "    if IMAGE_SIZE != input_size:\n",
        "        print(f\"Warning: Training with IMAGE_SIZE={IMAGE_SIZE} but model expects {input_size}.\")\n",
        "\n",
        "    # --- Step 7: Returen the Modified Model ---\n",
        "    return model_ft"
      ]
    },
    {
      "cell_type": "code",
      "execution_count": 15,
      "metadata": {
        "id": "4wMOsK1MN2bu"
      },
      "outputs": [],
      "source": [
        "!pip install torchinfo --quiet"
      ]
    },
    {
      "cell_type": "code",
      "execution_count": 17,
      "metadata": {
        "colab": {
          "base_uri": "https://localhost:8080/"
        },
        "id": "JbTDSdTbNu18",
        "outputId": "729e1f6d-4d21-4497-b365-3f80f9e70af7"
      },
      "outputs": [
        {
          "name": "stdout",
          "output_type": "stream",
          "text": [
            "Model input size expected by architecture: 224x224\n",
            "\n",
            "Model loaded and modified.\n",
            "----------------------------------------------------------------\n",
            "        Layer (type)               Output Shape         Param #\n",
            "================================================================\n",
            "            Conv2d-1         [-1, 64, 112, 112]           9,408\n",
            "       BatchNorm2d-2         [-1, 64, 112, 112]             128\n",
            "              ReLU-3         [-1, 64, 112, 112]               0\n",
            "         MaxPool2d-4           [-1, 64, 56, 56]               0\n",
            "            Conv2d-5           [-1, 64, 56, 56]          36,864\n",
            "       BatchNorm2d-6           [-1, 64, 56, 56]             128\n",
            "              ReLU-7           [-1, 64, 56, 56]               0\n",
            "            Conv2d-8           [-1, 64, 56, 56]          36,864\n",
            "       BatchNorm2d-9           [-1, 64, 56, 56]             128\n",
            "             ReLU-10           [-1, 64, 56, 56]               0\n",
            "       BasicBlock-11           [-1, 64, 56, 56]               0\n",
            "           Conv2d-12           [-1, 64, 56, 56]          36,864\n",
            "      BatchNorm2d-13           [-1, 64, 56, 56]             128\n",
            "             ReLU-14           [-1, 64, 56, 56]               0\n",
            "           Conv2d-15           [-1, 64, 56, 56]          36,864\n",
            "      BatchNorm2d-16           [-1, 64, 56, 56]             128\n",
            "             ReLU-17           [-1, 64, 56, 56]               0\n",
            "       BasicBlock-18           [-1, 64, 56, 56]               0\n",
            "           Conv2d-19          [-1, 128, 28, 28]          73,728\n",
            "      BatchNorm2d-20          [-1, 128, 28, 28]             256\n",
            "             ReLU-21          [-1, 128, 28, 28]               0\n",
            "           Conv2d-22          [-1, 128, 28, 28]         147,456\n",
            "      BatchNorm2d-23          [-1, 128, 28, 28]             256\n",
            "           Conv2d-24          [-1, 128, 28, 28]           8,192\n",
            "      BatchNorm2d-25          [-1, 128, 28, 28]             256\n",
            "             ReLU-26          [-1, 128, 28, 28]               0\n",
            "       BasicBlock-27          [-1, 128, 28, 28]               0\n",
            "           Conv2d-28          [-1, 128, 28, 28]         147,456\n",
            "      BatchNorm2d-29          [-1, 128, 28, 28]             256\n",
            "             ReLU-30          [-1, 128, 28, 28]               0\n",
            "           Conv2d-31          [-1, 128, 28, 28]         147,456\n",
            "      BatchNorm2d-32          [-1, 128, 28, 28]             256\n",
            "             ReLU-33          [-1, 128, 28, 28]               0\n",
            "       BasicBlock-34          [-1, 128, 28, 28]               0\n",
            "           Conv2d-35          [-1, 256, 14, 14]         294,912\n",
            "      BatchNorm2d-36          [-1, 256, 14, 14]             512\n",
            "             ReLU-37          [-1, 256, 14, 14]               0\n",
            "           Conv2d-38          [-1, 256, 14, 14]         589,824\n",
            "      BatchNorm2d-39          [-1, 256, 14, 14]             512\n",
            "           Conv2d-40          [-1, 256, 14, 14]          32,768\n",
            "      BatchNorm2d-41          [-1, 256, 14, 14]             512\n",
            "             ReLU-42          [-1, 256, 14, 14]               0\n",
            "       BasicBlock-43          [-1, 256, 14, 14]               0\n",
            "           Conv2d-44          [-1, 256, 14, 14]         589,824\n",
            "      BatchNorm2d-45          [-1, 256, 14, 14]             512\n",
            "             ReLU-46          [-1, 256, 14, 14]               0\n",
            "           Conv2d-47          [-1, 256, 14, 14]         589,824\n",
            "      BatchNorm2d-48          [-1, 256, 14, 14]             512\n",
            "             ReLU-49          [-1, 256, 14, 14]               0\n",
            "       BasicBlock-50          [-1, 256, 14, 14]               0\n",
            "           Conv2d-51            [-1, 512, 7, 7]       1,179,648\n",
            "      BatchNorm2d-52            [-1, 512, 7, 7]           1,024\n",
            "             ReLU-53            [-1, 512, 7, 7]               0\n",
            "           Conv2d-54            [-1, 512, 7, 7]       2,359,296\n",
            "      BatchNorm2d-55            [-1, 512, 7, 7]           1,024\n",
            "           Conv2d-56            [-1, 512, 7, 7]         131,072\n",
            "      BatchNorm2d-57            [-1, 512, 7, 7]           1,024\n",
            "             ReLU-58            [-1, 512, 7, 7]               0\n",
            "       BasicBlock-59            [-1, 512, 7, 7]               0\n",
            "           Conv2d-60            [-1, 512, 7, 7]       2,359,296\n",
            "      BatchNorm2d-61            [-1, 512, 7, 7]           1,024\n",
            "             ReLU-62            [-1, 512, 7, 7]               0\n",
            "           Conv2d-63            [-1, 512, 7, 7]       2,359,296\n",
            "      BatchNorm2d-64            [-1, 512, 7, 7]           1,024\n",
            "             ReLU-65            [-1, 512, 7, 7]               0\n",
            "       BasicBlock-66            [-1, 512, 7, 7]               0\n",
            "AdaptiveAvgPool2d-67            [-1, 512, 1, 1]               0\n",
            "           Linear-68                    [-1, 3]           1,539\n",
            "================================================================\n",
            "Total params: 11,178,051\n",
            "Trainable params: 1,539\n",
            "Non-trainable params: 11,176,512\n",
            "----------------------------------------------------------------\n",
            "Input size (MB): 0.57\n",
            "Forward/backward pass size (MB): 62.79\n",
            "Params size (MB): 42.64\n",
            "Estimated Total Size (MB): 106.00\n",
            "----------------------------------------------------------------\n"
          ]
        }
      ],
      "source": [
        "# --- step 8 : Initialze the model ----\n",
        "# Call the function defined above with our specific configuration\n",
        "model = get_pretrained_model(MODEL_NAME, num_classes, FEATURE_EXTRACT)\n",
        "#Benefit : Created the ready to use model object based on our choices\n",
        "\n",
        "# -- Step 9: Move Model to Device\n",
        "#Transfer the model's parameters (weights) to the designated device (GPU or CPU).\n",
        "model = model.to(DEVICE)\n",
        "#Benefit:  Essential for leveraging GPU acceleration during training and inference.\n",
        "print(\"\\nModel loaded and modified.\")\n",
        "\n",
        "# ---Step 10: Print Model Summary (Optional)\n",
        "try:\n",
        "  # Use torchSummary to display the layers, output shapes, and parameter counts.\n",
        "    from torchsummary import summary\n",
        "    #IMPORTANT: Provide input_size WITHOUT the batch dimension (Channels, Height, Width)\n",
        "    summary(model, input_size=(3, IMAGE_SIZE, IMAGE_SIZE))\n",
        "    # Benefit: Helps verify the architecture is correct and shows how many parameters\n",
        "    # are trainable vs. non-trainable, confirming if feature extraction freezing worked.\n",
        "except ImportError:\n",
        "    print(\"\\nInstall torchinfo for model summary: pip install torchsummary\")\n",
        "except Exception as e:\n",
        "    print(f\"\\nCould not print model summary: {e}\")"
      ]
    },
    {
      "cell_type": "markdown",
      "metadata": {
        "id": "ao3jufY5ODbh"
      },
      "source": [
        "## 6. Loss, Optimizer, Metrics"
      ]
    },
    {
      "cell_type": "code",
      "execution_count": 19,
      "metadata": {
        "colab": {
          "base_uri": "https://localhost:8080/"
        },
        "id": "Uy6pd19uNyxk",
        "outputId": "369050be-6fde-45f8-f05b-bc6e82e78d6d"
      },
      "outputs": [
        {
          "name": "stdout",
          "output_type": "stream",
          "text": [
            "\n",
            "Parameters to train:\n",
            "\t fc.weight\n",
            "\t fc.bias\n"
          ]
        }
      ],
      "source": [
        "# --- Step 11: Set up Loss, Optimizer, Metrics ---\n",
        "criterion = nn.CrossEntropyLoss() # Loss function for multi-class classification\n",
        "\n",
        "params_to_update = model.parameters() # Default: all parameters\n",
        "if FEATURE_EXTRACT:\n",
        "    # Benefit: In feature extract mode, filter to ONLY update parameters where requires_grad=True\n",
        "    # (which should only be the final classifier layer after Step 5).\n",
        "    params_to_update = []\n",
        "    print(\"\\nParameters to train:\")\n",
        "    for name, param in model.named_parameters():\n",
        "        if param.requires_grad == True:\n",
        "            params_to_update.append(param)\n",
        "            print(\"\\t\", name) # Shows exactly which layer(s) are being trained\n",
        "else:\n",
        "    ## Benefit (Fine-tuning): If FEATURE_EXTRACT is False, all parameters remain trainable.\n",
        "    print(\"\\nTraining all model parameters (fine-tuning)...\")\n",
        "\n",
        "# Pass only the parameters needing updates to the optimizer.\n",
        "optimizer = optim.Adam(params_to_update, lr=LEARNING_RATE)\n",
        "# Learning rate scheduler (optional but good practice)\n",
        "scheduler = optim.lr_scheduler.ReduceLROnPlateau(optimizer, mode='max', factor=0.1, patience=3)\n",
        "\n",
        "# Metrics setup\n",
        "train_accuracy = torchmetrics.Accuracy(task=\"multiclass\", num_classes=num_classes).to(DEVICE)\n",
        "val_accuracy = torchmetrics.Accuracy(task=\"multiclass\", num_classes=num_classes).to(DEVICE)"
      ]
    },
    {
      "cell_type": "markdown",
      "metadata": {
        "id": "yULUTrtQOTxF"
      },
      "source": [
        "## 7. Training Loop (Similar structure to previous example)"
      ]
    },
    {
      "cell_type": "code",
      "execution_count": 20,
      "metadata": {
        "colab": {
          "base_uri": "https://localhost:8080/"
        },
        "id": "16myq9YjOKcd",
        "outputId": "299f5575-7c78-46df-fa62-5c30000bd353"
      },
      "outputs": [
        {
          "name": "stdout",
          "output_type": "stream",
          "text": [
            "\n",
            "Starting Training...\n",
            "Epoch 1/20 [13.25s] - Train Loss: 0.9749, Train Acc: 0.5116 | Val Loss: 0.7426, Val Acc: 0.7218\n",
            "Validation accuracy improved (0.0000 -> 0.7218). Saving model...\n",
            "Epoch 2/20 [7.72s] - Train Loss: 0.6821, Train Acc: 0.7505 | Val Loss: 0.5722, Val Acc: 0.8195\n",
            "Validation accuracy improved (0.7218 -> 0.8195). Saving model...\n",
            "Epoch 3/20 [8.88s] - Train Loss: 0.5695, Train Acc: 0.8085 | Val Loss: 0.5079, Val Acc: 0.7669\n",
            "Epoch 4/20 [8.78s] - Train Loss: 0.5186, Train Acc: 0.8046 | Val Loss: 0.4769, Val Acc: 0.8120\n",
            "Epoch 5/20 [9.32s] - Train Loss: 0.4714, Train Acc: 0.8395 | Val Loss: 0.4285, Val Acc: 0.8271\n",
            "Validation accuracy improved (0.8195 -> 0.8271). Saving model...\n",
            "Epoch 6/20 [8.84s] - Train Loss: 0.4371, Train Acc: 0.8462 | Val Loss: 0.3742, Val Acc: 0.8496\n",
            "Validation accuracy improved (0.8271 -> 0.8496). Saving model...\n",
            "Epoch 7/20 [9.89s] - Train Loss: 0.4399, Train Acc: 0.8337 | Val Loss: 0.3313, Val Acc: 0.8947\n",
            "Validation accuracy improved (0.8496 -> 0.8947). Saving model...\n",
            "Epoch 8/20 [8.63s] - Train Loss: 0.4186, Train Acc: 0.8491 | Val Loss: 0.3369, Val Acc: 0.8947\n",
            "Epoch 9/20 [9.18s] - Train Loss: 0.3900, Train Acc: 0.8520 | Val Loss: 0.3384, Val Acc: 0.8722\n",
            "Epoch 10/20 [8.85s] - Train Loss: 0.3693, Train Acc: 0.8723 | Val Loss: 0.4088, Val Acc: 0.8120\n",
            "Epoch 11/20 [9.79s] - Train Loss: 0.3451, Train Acc: 0.8743 | Val Loss: 0.3182, Val Acc: 0.8947\n",
            "Epoch 12/20 [8.29s] - Train Loss: 0.3430, Train Acc: 0.8820 | Val Loss: 0.3018, Val Acc: 0.9023\n",
            "Validation accuracy improved (0.8947 -> 0.9023). Saving model...\n",
            "Epoch 13/20 [9.56s] - Train Loss: 0.3714, Train Acc: 0.8646 | Val Loss: 0.3224, Val Acc: 0.8797\n",
            "Epoch 14/20 [9.56s] - Train Loss: 0.3472, Train Acc: 0.8733 | Val Loss: 0.3076, Val Acc: 0.8872\n",
            "Epoch 15/20 [9.85s] - Train Loss: 0.3641, Train Acc: 0.8627 | Val Loss: 0.2942, Val Acc: 0.9098\n",
            "Validation accuracy improved (0.9023 -> 0.9098). Saving model...\n",
            "Epoch 16/20 [7.96s] - Train Loss: 0.3686, Train Acc: 0.8723 | Val Loss: 0.3140, Val Acc: 0.8872\n",
            "Epoch 17/20 [9.48s] - Train Loss: 0.3326, Train Acc: 0.8926 | Val Loss: 0.3151, Val Acc: 0.8872\n",
            "Epoch 18/20 [8.85s] - Train Loss: 0.3137, Train Acc: 0.8897 | Val Loss: 0.3091, Val Acc: 0.8872\n",
            "Epoch 19/20 [7.78s] - Train Loss: 0.3418, Train Acc: 0.8839 | Val Loss: 0.3235, Val Acc: 0.8947\n",
            "Epoch 20/20 [8.92s] - Train Loss: 0.3406, Train Acc: 0.8772 | Val Loss: 0.2990, Val Acc: 0.8872\n",
            "Early stopping triggered after 20 epochs.\n",
            "\n",
            "Training Finished. Total time: 184.20s\n",
            "Best Validation Accuracy: 0.9098\n"
          ]
        }
      ],
      "source": [
        "# --- Step 12: Training Loop (and subsequent steps) ---\n",
        "history = {\n",
        "    'train_loss': [], 'val_loss': [],\n",
        "    'train_acc': [], 'val_acc': []\n",
        "}\n",
        "best_val_acc = 0.0\n",
        "best_model_wts = None\n",
        "patience_counter = 0\n",
        "\n",
        "print(\"\\nStarting Training...\")\n",
        "start_time = time.time()\n",
        "\n",
        "for epoch in range(EPOCHS): #Loop over the dataset multiple times\n",
        "    epoch_start_time = time.time()\n",
        "\n",
        "    # --- Training Phase ---\n",
        "    model.train() #<<<< STEP 1\n",
        "    running_train_loss = 0.0\n",
        "    train_accuracy.reset() v## <<<<<< STEP 2\n",
        "\n",
        "    # Loop over batches of data from the DataLoader\n",
        "    for i, (inputs, labels) in enumerate(train_loader):\n",
        "        # Filter invalid samples (if any from Dataset error handling)\n",
        "        valid_indices = labels != -1\n",
        "        if not valid_indices.all():\n",
        "            inputs = inputs[valid_indices]\n",
        "            labels = labels[valid_indices]\n",
        "            if inputs.shape[0] == 0: continue #Skip empty batch\n",
        "\n",
        "        ## Move data to the configured device (GPU or CPU)\n",
        "        inputs, labels = inputs.to(DEVICE), labels.to(DEVICE)\n",
        "\n",
        "        optimizer.zero_grad() # <<<<<< STEP 4\n",
        "        # Forward pass through the model\n",
        "        if MODEL_NAME == \"googlenet\" and model.training:\n",
        "            outputs = model(inputs).logits # <<<<<< STEP 5 (GoogLeNet specific)\n",
        "        else:\n",
        "            outputs = model(inputs) # <<<<<< STEP 5 (Standard)\n",
        "\n",
        "        # Calculate the loss\n",
        "        loss = criterion(outputs, labels) # <<<<<< STEP 6\n",
        "\n",
        "        # Backpropagation\n",
        "        loss.backward() # <<<<<< STEP 7\n",
        "\n",
        "        # Update model weights\n",
        "        optimizer.step() # <<<<<< STEP 8\n",
        "\n",
        "        # --- Metric Calculation (for logging) ---\n",
        "        running_train_loss += loss.item() * inputs.size(0) # <<<<<< STEP 9\n",
        "        train_accuracy.update(outputs, labels) # <<<<<< STEP 10\n",
        "\n",
        "    # Calculate average loss and accuracy for the epoch\n",
        "    epoch_train_loss = running_train_loss / len(train_dataset) # <<<<<< STEP 11\n",
        "    epoch_train_acc = train_accuracy.compute() # <<<<<< STEP 12\n",
        "\n",
        "    # --- Validation Phase ---\n",
        "    model.eval()\n",
        "    running_val_loss = 0.0\n",
        "    val_accuracy.reset()\n",
        "\n",
        "    with torch.no_grad():\n",
        "        for inputs, labels in val_loader:\n",
        "            valid_indices = labels != -1\n",
        "            if not valid_indices.all():\n",
        "                 inputs = inputs[valid_indices]\n",
        "                 labels = labels[valid_indices]\n",
        "                 if inputs.shape[0] == 0: continue\n",
        "\n",
        "            inputs, labels = inputs.to(DEVICE), labels.to(DEVICE)\n",
        "            outputs = model(inputs)\n",
        "            loss = criterion(outputs, labels)\n",
        "\n",
        "            running_val_loss += loss.item() * inputs.size(0)\n",
        "            val_accuracy.update(outputs, labels)\n",
        "\n",
        "    epoch_val_acc_float = 0.0\n",
        "    if len(val_dataset) > 0:\n",
        "        # Avoid division by zero if running_val_loss wasn't updated (e.g., all batches filtered)\n",
        "        if running_val_loss > 0 or len(val_loader) > 0: # Check if validation ran\n",
        "             epoch_val_loss = running_val_loss / len(val_dataset) # Divide by samples, not batches\n",
        "        else:\n",
        "             epoch_val_loss = 0.0\n",
        "\n",
        "        epoch_val_acc = val_accuracy.compute()\n",
        "        epoch_val_acc_float = epoch_val_acc.item()\n",
        "    else:\n",
        "        epoch_val_loss = 0.0\n",
        "\n",
        "    # --- Logging & Saving ---\n",
        "    history['train_loss'].append(epoch_train_loss)\n",
        "    history['train_acc'].append(epoch_train_acc.item())\n",
        "    history['val_loss'].append(epoch_val_loss)\n",
        "    history['val_acc'].append(epoch_val_acc_float)\n",
        "\n",
        "    epoch_duration = time.time() - epoch_start_time\n",
        "    print(f\"Epoch {epoch+1}/{EPOCHS} [{epoch_duration:.2f}s] - \"\n",
        "          f\"Train Loss: {epoch_train_loss:.4f}, Train Acc: {epoch_train_acc.item():.4f} | \"\n",
        "          f\"Val Loss: {epoch_val_loss:.4f}, Val Acc: {epoch_val_acc_float:.4f}\")\n",
        "\n",
        "    scheduler.step(epoch_val_acc_float)\n",
        "\n",
        "    if epoch_val_acc_float > best_val_acc:\n",
        "        print(f\"Validation accuracy improved ({best_val_acc:.4f} -> {epoch_val_acc_float:.4f}). Saving model...\")\n",
        "        best_val_acc = epoch_val_acc_float\n",
        "        best_model_wts = copy.deepcopy(model.state_dict())\n",
        "        torch.save(best_model_wts, MODEL_SAVE_PATH)\n",
        "        patience_counter = 0\n",
        "    else:\n",
        "        patience_counter += 1\n",
        "\n",
        "    if patience_counter >= EARLY_STOPPING_PATIENCE:\n",
        "        print(f\"Early stopping triggered after {epoch+1} epochs.\")\n",
        "        break\n",
        "\n",
        "total_training_time = time.time() - start_time\n",
        "print(f\"\\nTraining Finished. Total time: {total_training_time:.2f}s\")\n",
        "print(f\"Best Validation Accuracy: {best_val_acc:.4f}\")"
      ]
    },
    {
      "cell_type": "markdown",
      "metadata": {
        "id": "C22p1rGHJdXb"
      },
      "source": [
        "### Step-by-Step Explanation:\n",
        "\n",
        "1. `model.train():`\n",
        "\n",
        "* **What**: Sets the model to \"training mode\".\n",
        "\n",
        "* **Under the Hood**: This tells certain layers, specifically **Dropout** and **BatchNorm2d**, to behave as they should during training. Dropout layers will randomly zero out activations, and BatchNorm layers will update their running statistics (mean and variance) based on the current batch.\n",
        "\n",
        "* **Benefit**: Essential for proper training. Dropout helps prevent overfitting, and BatchNorm helps stabilize and speed up training. If you forget this, BatchNorm won't update its stats correctly, and Dropout won't be active.\n",
        "\n",
        "2. `running_train_loss = 0.0, train_accuracy.reset():`\n",
        "\n",
        "* **What**: Initializes variables to accumulate the loss and resets the **torchmetrics** accuracy object at the start of each epoch.\n",
        "\n",
        "* **Benefit**: Ensures that the metrics calculated at the end of the epoch are only based on the current epoch's data.\n",
        "\n",
        "3. `inputs, labels = inputs.to(DEVICE), labels.to(DEVICE):`\n",
        "\n",
        "* **What**: Moves the batch of input images (`inputs`) and their corresponding labels (`labels`) from the CPU memory (where the DataLoader typically prepares them) to the target device (GPU, if available).\n",
        "\n",
        "* **Benefit**: Crucial for performance. Model computations (especially matrix multiplications in linear and convolutional layers) are much faster on a GPU. The model itself is already on the device, so the data needs to be moved there too for the computation.\n",
        "\n",
        "4. `optimizer.zero_grad():`\n",
        "\n",
        "* **What**: Resets the gradients for all parameters that the optimizer is managing.\n",
        "\n",
        "* **Under the Hood**: PyTorch accumulates gradients by default whenever `.backward()` is called. This means if you didn't zero them, gradients from previous batches would add up, leading to incorrect weight updates. This step explicitly sets the `.grad` attribute of all optimized parameters back to `None` or zero.\n",
        "\n",
        "* **Benefit**: Ensures that the weight update (`optimizer.step()`) is based only on the error calculated from the current batch.\n",
        "\n",
        "5. `outputs = model(inputs):`\n",
        "\n",
        "* **What**: This is the **forward pass**. It feeds the input tensor (`inputs`) through the network layers defined in your `model`'s `forward` method.\n",
        "\n",
        "* **Under the Hood**: Performs all the computations (convolutions, activations, pooling, linear transformations). The final output (`outputs`) for your classification model is a tensor of raw scores (logits), typically with a shape like [batch_size, num_classes] (e.g., [32, 3]).\n",
        "\n",
        "* **GoogLeNet Specific**: GoogLeNet in training mode outputs an object containing the main `logits` and auxiliary logits. You only need the main `logits` for the primary loss calculation. In evaluation mode (`model.eval()`), it usually just returns the main logits directly.\n",
        "\n",
        "* **Benefit**: Generates the model's predictions for the current batch.\n",
        "\n",
        "6. `loss = criterion(outputs, labels):`\n",
        "\n",
        "* **What**: Calculates the loss value by comparing the model's output logits (`outputs`) with the true labels (`labels`). You named your criterion `loss_fun`, but here it's called `criterion` – it's the same `nn.CrossEntropyLoss` object.\n",
        "\n",
        "* Under the Hood (`nn.CrossEntropyLoss`):\n",
        "\n",
        "  * It first applies a `LogSoftmax` function to the raw logits (`outputs`) to convert them into log-probabilities.\n",
        "\n",
        "  * Then, it computes the Negative Log Likelihood Loss (`NLLLoss`) between these log-probabilities and the integer class labels (`labels`).\n",
        "\n",
        "  * This combination is numerically more stable than applying `Softmax` yourself and then using `NLLLoss`.\n",
        "\n",
        "* **Benefit**: Quantifies how \"wrong\" the model's predictions are for the current batch. A lower loss means better predictions. This scalar loss value is what drives the learning process.\n",
        "\n",
        "7. `loss.backward():`\n",
        "\n",
        "* **What**: Performs backpropagation.\n",
        "\n",
        "* **Under the Hood**: This is where PyTorch's automatic differentiation engine (`Autograd`) shines. It computes the gradient of the scalar `loss` with respect to every model parameter (weights, biases) that has `requires_grad=True`. It uses the chain rule to propagate the error backward through the network layers. The computed gradients are stored in the `.grad` attribute of each parameter tensor.\n",
        "\n",
        "* **Benefit**: Calculates the direction and magnitude of change needed for each parameter to reduce the loss.\n",
        "\n",
        "8. `optimizer.step():`\n",
        "\n",
        "* **What**: Updates all the model parameters based on the gradients computed in the `.backward()` step.\n",
        "\n",
        "* **Under the Hood**: The optimizer (e.g., Adam) iterates through the parameters it was initialized with. For each parameter, it uses its `.grad` attribute, the learning rate (`LEARNING_RATE`), and its internal state (like momentum estimates in Adam) to calculate the updated value for the parameter.\n",
        "\n",
        "* **Benefit**: This is the actual \"learning\" step where the model adjusts its weights to perform better on the task based on the error signal (loss).\n",
        "\n",
        "9. `running_train_loss += loss.item() * inputs.size(0):`\n",
        "\n",
        "* **What**: Accumulates the total loss for the epoch.\n",
        "\n",
        "* **loss.item()**: Extracts the scalar loss value for the current batch from the loss tensor (which might be on the GPU) as a standard Python number (on the CPU).\n",
        "\n",
        "* **inputs.size(0)**: Gets the actual number of samples in the current batch. This is usually BATCH_SIZE, but the last batch in an epoch might be smaller if the total dataset size isn't perfectly divisible by the batch size.\n",
        "\n",
        "* **inputs.size(0)**: Multiplies the average loss for the batch (which `criterion` typically returns) by the number of items in the batch. This gives the total loss for the batch.\n",
        "\n",
        "* **Benefit**: Accumulating the total batch losses allows you to calculate the correct average loss per sample over the entire epoch later (running_train_loss / len(train_dataset)), accurately accounting for potentially smaller final batches. If you just summed loss.item(), averaging by the number of batches would slightly underweight the contribution of the last batch if it was smaller.\n",
        "\n",
        "10. `train_accuracy.update(outputs, labels):`\n",
        "\n",
        "* **What**: Updates the `torchmetrics` accuracy object with the predictions (logits) and true labels for the current batch.\n",
        "\n",
        "* **Under the Hood**: `torchmetrics` handles converting logits to predicted classes (using `argmax`) and compares them to the labels, keeping track of the counts internally.\n",
        "\n",
        "* **Benefit**: Provides an efficient and reliable way to track accuracy across multiple batches.\n",
        "\n",
        "11. `epoch_train_loss = running_train_loss / len(train_dataset):`\n",
        "\n",
        "* **What**: Calculates the average training loss per sample for the entire epoch.\n",
        "\n",
        "* **Benefit**: Provides a normalized metric to compare training performance across epochs or different training runs.\n",
        "\n",
        "12. `epoch_train_acc = train_accuracy.compute():`\n",
        "\n",
        "* **What**: Calculates the final accuracy over all batches processed by the train_accuracy object during the epoch.\n",
        "\n",
        "* **Benefit**: Gives the overall training accuracy for the epoch."
      ]
    },
    {
      "cell_type": "markdown",
      "metadata": {
        "id": "yvwTTg96Oohv"
      },
      "source": [
        "## 8. Plot Training History"
      ]
    },
    {
      "cell_type": "code",
      "execution_count": 21,
      "metadata": {
        "colab": {
          "base_uri": "https://localhost:8080/",
          "height": 443
        },
        "id": "IA8KmDe0OeF2",
        "outputId": "e34d0f91-4de8-46a7-f33d-6566d41ed9ed"
      },
      "outputs": [
        {
          "data": {
            "image/png": "[encoded data removed]",
            "text/plain": [
              "<Figure size 1500x500 with 2 Axes>"
            ]
          },
          "metadata": {},
          "output_type": "display_data"
        }
      ],
      "source": [
        "plt.style.use('ggplot')\n",
        "fig, axs = plt.subplots(1, 2, figsize=(15, 5))\n",
        "axs[0].plot(history['train_loss'], label='Training Loss')\n",
        "axs[0].plot(history['val_loss'], label='Validation Loss')\n",
        "axs[0].set_title('Loss vs. Epochs'); axs[0].set_xlabel('Epochs'); axs[0].set_ylabel('Loss'); axs[0].legend()\n",
        "axs[1].plot(history['train_acc'], label='Training Accuracy')\n",
        "axs[1].plot(history['val_acc'], label='Validation Accuracy')\n",
        "axs[1].set_title('Accuracy vs. Epochs'); axs[1].set_xlabel('Epochs'); axs[1].set_ylabel('Accuracy'); axs[1].legend()\n",
        "plt.tight_layout(); plt.show()"
      ]
    },
    {
      "cell_type": "markdown",
      "metadata": {
        "id": "qV5cm0lgOxAc"
      },
      "source": [
        "## 9. Testing (Using Validation set as Test set here)"
      ]
    },
    {
      "cell_type": "code",
      "execution_count": 22,
      "metadata": {
        "colab": {
          "base_uri": "https://localhost:8080/"
        },
        "id": "6h2lnxZROxxh",
        "outputId": "445f7cdc-7f18-4a77-b0db-1d04300d58ff"
      },
      "outputs": [
        {
          "name": "stdout",
          "output_type": "stream",
          "text": [
            "\n",
            "Evaluating on Validation/Test Set...\n",
            "\n",
            "Final Test Accuracy (on Val set): 0.9098\n",
            "\n",
            "Classification Report (on Val set):\n",
            "\n",
            "Could not generate classification report: Number of classes, 3, does not match size of target_names, 133. Try specifying the labels parameter\n"
          ]
        }
      ],
      "source": [
        "print(\"\\nEvaluating on Validation/Test Set...\")\n",
        "if best_model_wts:\n",
        "    model.load_state_dict(best_model_wts)\n",
        "else:\n",
        "    print(\"Warning: No best model weights found. Evaluating with final weights.\")\n",
        "\n",
        "model.eval()\n",
        "test_accuracy = torchmetrics.Accuracy(task=\"multiclass\", num_classes=num_classes).to(DEVICE)\n",
        "all_preds = []\n",
        "all_labels = []\n",
        "\n",
        "with torch.no_grad():\n",
        "    for inputs, labels in val_loader: # Using val_loader as test set\n",
        "        valid_indices = labels != -1\n",
        "        if not valid_indices.all():\n",
        "             inputs = inputs[valid_indices]\n",
        "             labels = labels[valid_indices]\n",
        "             if inputs.shape[0] == 0: continue\n",
        "\n",
        "        inputs, labels = inputs.to(DEVICE), labels.to(DEVICE)\n",
        "        outputs = model(inputs)\n",
        "        preds = torch.argmax(outputs, dim=1)\n",
        "\n",
        "        test_accuracy.update(preds, labels)\n",
        "        all_preds.extend(preds.cpu().numpy())\n",
        "        all_labels.extend(labels.cpu().numpy())\n",
        "\n",
        "if len(val_dataset) > 0 and len(all_preds) > 0:\n",
        "    final_test_acc = test_accuracy.compute()\n",
        "    print(f\"\\nFinal Test Accuracy (on Val set): {final_test_acc.item():.4f}\")\n",
        "else:\n",
        "     print(\"\\nNo valid samples found or predicted in the validation set after filtering.\")\n",
        "\n",
        "if all_preds and all_labels:\n",
        "    try:\n",
        "        print(\"\\nClassification Report (on Val set):\")\n",
        "        # Generate report using numerical labels directly\n",
        "        print(classification_report(all_labels, all_preds, target_names=[str(i) for i in sorted(all_labels)]))\n",
        "    except Exception as e:\n",
        "        print(f\"\\nCould not generate classification report: {e}\")\n",
        "else:\n",
        "     print(\"\\nSkipping classification report.\")"
      ]
    },
    {
      "cell_type": "markdown",
      "metadata": {
        "id": "27DXJrV_O5Tx"
      },
      "source": [
        "## 10. Inference Function"
      ]
    },
    {
      "cell_type": "code",
      "execution_count": 23,
      "metadata": {
        "id": "hnhPbP9tO2DL"
      },
      "outputs": [],
      "source": [
        "def predict_transfer_learning_image(image_path, model_name, model_path, num_classes_inf, transform, device):\n",
        "    \"\"\"Loads a saved transfer learning model and predicts a single image.\"\"\"\n",
        "    try:\n",
        "        # Load image\n",
        "        image = Image.open(image_path).convert('RGB')\n",
        "        input_tensor = transform(image).unsqueeze(0).to(device)\n",
        "\n",
        "        # Load model structure (needs to know num_classes)\n",
        "        inf_model = get_pretrained_model(model_name, num_classes_inf, feature_extract=False)\n",
        "        inf_model.load_state_dict(torch.load(model_path, map_location=device))\n",
        "        inf_model = inf_model.to(device)\n",
        "        inf_model.eval()\n",
        "\n",
        "        # Predict\n",
        "        with torch.no_grad():\n",
        "            output = inf_model(input_tensor)\n",
        "            probabilities = torch.softmax(output, dim=1)\n",
        "            confidence, predicted_idx = torch.max(probabilities, 1)\n",
        "            predicted_label_idx = predicted_idx.item() # Get the predicted index\n",
        "\n",
        "        # Return the index and confidence\n",
        "        return predicted_label_idx, confidence.item()\n",
        "\n",
        "    except FileNotFoundError:\n",
        "        return f\"Error: File not found ({image_path} or {model_path}).\", 0.0\n",
        "    except Exception as e:\n",
        "        return f\"An error occurred during prediction: {e}\", 0.0\n"
      ]
    },
    {
      "cell_type": "code",
      "execution_count": 24,
      "metadata": {
        "id": "cyqY_hEqO-yz"
      },
      "outputs": [],
      "source": [
        "example_img_path = \"/content/bean-leaf-lesions-classification/val/healthy/healthy_val.0.jpg\""
      ]
    },
    {
      "cell_type": "code",
      "execution_count": 26,
      "metadata": {
        "colab": {
          "base_uri": "https://localhost:8080/"
        },
        "id": "qJMWQRGAPc4P",
        "outputId": "90020d58-5337-4039-c694-9a595eefd88b"
      },
      "outputs": [
        {
          "name": "stdout",
          "output_type": "stream",
          "text": [
            "Model input size expected by architecture: 224x224\n",
            "\n",
            "Inference on '/content/bean-leaf-lesions-classification/val/healthy/healthy_val.0.jpg':\n",
            "Predicted Class Index: 0\n",
            "Confidence: 0.4907\n"
          ]
        }
      ],
      "source": [
        "if os.path.exists(example_img_path) and os.path.exists(MODEL_SAVE_PATH):\n",
        "    # Get num_classes from the trained model context\n",
        "    predicted_class_idx, confidence_score = predict_transfer_learning_image(\n",
        "        example_img_path,\n",
        "        MODEL_NAME, # Pass the model name used for training\n",
        "        MODEL_SAVE_PATH,\n",
        "        num_classes, # Pass the number of classes used during training\n",
        "        val_test_transform, # Use non-augmenting transforms\n",
        "        DEVICE\n",
        "    )\n",
        "    print(f\"\\nInference on '{example_img_path}':\")\n",
        "    print(f\"Predicted Class Index: {predicted_class_idx}\")\n",
        "    print(f\"Confidence: {confidence_score:.4f}\")\n",
        "    # If you want to map index back to a name, you'd need to load/save that separately if needed\n",
        "else:\n",
        "    print(f\"\\nSkipping inference example: Required file(s) not found.\")\n",
        "    print(f\"Check paths: {example_img_path}, {MODEL_SAVE_PATH}\")"
      ]
    },
    {
      "cell_type": "code",
      "execution_count": null,
      "metadata": {
        "id": "pfPJGiVNPjrH"
      },
      "outputs": [],
      "source": []
    }
  ],
  "metadata": {
    "accelerator": "GPU",
    "colab": {
      "gpuType": "T4",
      "provenance": []
    },
    "kernelspec": {
      "display_name": "Python 3",
      "name": "python3"
    },
    "language_info": {
      "name": "python"
    }
  },
  "nbformat": 4,
  "nbformat_minor": 0
}
