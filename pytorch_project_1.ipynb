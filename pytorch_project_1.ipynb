{
  "nbformat": 4,
  "nbformat_minor": 0,
  "metadata": {
    "colab": {
      "provenance": [],
      "gpuType": "T4"
    },
    "kernelspec": {
      "name": "python3",
      "display_name": "Python 3"
    },
    "language_info": {
      "name": "python"
    },
    "accelerator": "GPU"
  },
  "cells": [
    {
      "cell_type": "code",
      "execution_count": 1,
      "metadata": {
        "colab": {
          "base_uri": "https://localhost:8080/"
        },
        "id": "76pfzX436yQE",
        "outputId": "964addfe-11f1-4e42-d57e-f42acd513e5c"
      },
      "outputs": [
        {
          "output_type": "stream",
          "name": "stdout",
          "text": [
            "Please provide your Kaggle credentials to download this dataset. Learn more: http://bit.ly/kaggle-creds\n",
            "Your Kaggle username: prajwalhiremath\n",
            "Your Kaggle Key: ··········\n",
            "Dataset URL: https://www.kaggle.com/datasets/mssmartypants/rice-type-classification\n",
            "Downloading rice-type-classification.zip to ./rice-type-classification\n"
          ]
        },
        {
          "output_type": "stream",
          "name": "stderr",
          "text": [
            "100%|██████████| 888k/888k [00:00<00:00, 1.25GB/s]"
          ]
        },
        {
          "output_type": "stream",
          "name": "stdout",
          "text": [
            "\n"
          ]
        },
        {
          "output_type": "stream",
          "name": "stderr",
          "text": [
            "\n"
          ]
        }
      ],
      "source": [
        "!pip install opendatasets --quiet\n",
        "import opendatasets as od\n",
        "od.download(\"https://www.kaggle.com/datasets/mssmartypants/rice-type-classification\")"
      ]
    },
    {
      "cell_type": "code",
      "source": [
        "import torch\n",
        "import torch.nn as nn\n",
        "from torch.optim import Adam\n",
        "from torch.utils.data import Dataset, DataLoader\n",
        "from torchsummary import summary\n",
        "from sklearn.model_selection import train_test_split\n",
        "from sklearn.metrics import accuracy_score\n",
        "import matplotlib.pyplot as plt\n",
        "import pandas as pd\n",
        "import numpy as np\n",
        "\n",
        "device = 'cuda' if torch.cuda.is_available() else 'cpu'\n",
        "print(device)"
      ],
      "metadata": {
        "colab": {
          "base_uri": "https://localhost:8080/"
        },
        "id": "B9gIVJoD6_-Z",
        "outputId": "e7596388-0e66-4358-f34e-f15f1da57a19"
      },
      "execution_count": 2,
      "outputs": [
        {
          "output_type": "stream",
          "name": "stdout",
          "text": [
            "cuda\n"
          ]
        }
      ]
    },
    {
      "cell_type": "code",
      "source": [
        "data_df = pd.read_csv(\"/content/rice-type-classification/riceClassification.csv\")"
      ],
      "metadata": {
        "id": "4QZjYQTd8_Sp"
      },
      "execution_count": 3,
      "outputs": []
    },
    {
      "cell_type": "code",
      "source": [
        "data_df.head()"
      ],
      "metadata": {
        "colab": {
          "base_uri": "https://localhost:8080/",
          "height": 226
        },
        "id": "EZXR9fkQ9grR",
        "outputId": "a3105395-6220-443c-9489-b048d3458b3a"
      },
      "execution_count": 4,
      "outputs": [
        {
          "output_type": "execute_result",
          "data": {
            "text/plain": [
              "   id  Area  MajorAxisLength  MinorAxisLength  Eccentricity  ConvexArea  \\\n",
              "0   1  4537        92.229316        64.012769      0.719916        4677   \n",
              "1   2  2872        74.691881        51.400454      0.725553        3015   \n",
              "2   3  3048        76.293164        52.043491      0.731211        3132   \n",
              "3   4  3073        77.033628        51.928487      0.738639        3157   \n",
              "4   5  3693        85.124785        56.374021      0.749282        3802   \n",
              "\n",
              "   EquivDiameter    Extent  Perimeter  Roundness  AspectRation  Class  \n",
              "0      76.004525  0.657536    273.085   0.764510      1.440796      1  \n",
              "1      60.471018  0.713009    208.317   0.831658      1.453137      1  \n",
              "2      62.296341  0.759153    210.012   0.868434      1.465950      1  \n",
              "3      62.551300  0.783529    210.657   0.870203      1.483456      1  \n",
              "4      68.571668  0.769375    230.332   0.874743      1.510000      1  "
            ],
            "text/html": [
              "\n",
              "  <div id=\"df-b165cb6d-25ce-4b38-a412-d5507874bc76\" class=\"colab-df-container\">\n",
              "    <div>\n",
              "<style scoped>\n",
              "    .dataframe tbody tr th:only-of-type {\n",
              "        vertical-align: middle;\n",
              "    }\n",
              "\n",
              "    .dataframe tbody tr th {\n",
              "        vertical-align: top;\n",
              "    }\n",
              "\n",
              "    .dataframe thead th {\n",
              "        text-align: right;\n",
              "    }\n",
              "</style>\n",
              "<table border=\"1\" class=\"dataframe\">\n",
              "  <thead>\n",
              "    <tr style=\"text-align: right;\">\n",
              "      <th></th>\n",
              "      <th>id</th>\n",
              "      <th>Area</th>\n",
              "      <th>MajorAxisLength</th>\n",
              "      <th>MinorAxisLength</th>\n",
              "      <th>Eccentricity</th>\n",
              "      <th>ConvexArea</th>\n",
              "      <th>EquivDiameter</th>\n",
              "      <th>Extent</th>\n",
              "      <th>Perimeter</th>\n",
              "      <th>Roundness</th>\n",
              "      <th>AspectRation</th>\n",
              "      <th>Class</th>\n",
              "    </tr>\n",
              "  </thead>\n",
              "  <tbody>\n",
              "    <tr>\n",
              "      <th>0</th>\n",
              "      <td>1</td>\n",
              "      <td>4537</td>\n",
              "      <td>92.229316</td>\n",
              "      <td>64.012769</td>\n",
              "      <td>0.719916</td>\n",
              "      <td>4677</td>\n",
              "      <td>76.004525</td>\n",
              "      <td>0.657536</td>\n",
              "      <td>273.085</td>\n",
              "      <td>0.764510</td>\n",
              "      <td>1.440796</td>\n",
              "      <td>1</td>\n",
              "    </tr>\n",
              "    <tr>\n",
              "      <th>1</th>\n",
              "      <td>2</td>\n",
              "      <td>2872</td>\n",
              "      <td>74.691881</td>\n",
              "      <td>51.400454</td>\n",
              "      <td>0.725553</td>\n",
              "      <td>3015</td>\n",
              "      <td>60.471018</td>\n",
              "      <td>0.713009</td>\n",
              "      <td>208.317</td>\n",
              "      <td>0.831658</td>\n",
              "      <td>1.453137</td>\n",
              "      <td>1</td>\n",
              "    </tr>\n",
              "    <tr>\n",
              "      <th>2</th>\n",
              "      <td>3</td>\n",
              "      <td>3048</td>\n",
              "      <td>76.293164</td>\n",
              "      <td>52.043491</td>\n",
              "      <td>0.731211</td>\n",
              "      <td>3132</td>\n",
              "      <td>62.296341</td>\n",
              "      <td>0.759153</td>\n",
              "      <td>210.012</td>\n",
              "      <td>0.868434</td>\n",
              "      <td>1.465950</td>\n",
              "      <td>1</td>\n",
              "    </tr>\n",
              "    <tr>\n",
              "      <th>3</th>\n",
              "      <td>4</td>\n",
              "      <td>3073</td>\n",
              "      <td>77.033628</td>\n",
              "      <td>51.928487</td>\n",
              "      <td>0.738639</td>\n",
              "      <td>3157</td>\n",
              "      <td>62.551300</td>\n",
              "      <td>0.783529</td>\n",
              "      <td>210.657</td>\n",
              "      <td>0.870203</td>\n",
              "      <td>1.483456</td>\n",
              "      <td>1</td>\n",
              "    </tr>\n",
              "    <tr>\n",
              "      <th>4</th>\n",
              "      <td>5</td>\n",
              "      <td>3693</td>\n",
              "      <td>85.124785</td>\n",
              "      <td>56.374021</td>\n",
              "      <td>0.749282</td>\n",
              "      <td>3802</td>\n",
              "      <td>68.571668</td>\n",
              "      <td>0.769375</td>\n",
              "      <td>230.332</td>\n",
              "      <td>0.874743</td>\n",
              "      <td>1.510000</td>\n",
              "      <td>1</td>\n",
              "    </tr>\n",
              "  </tbody>\n",
              "</table>\n",
              "</div>\n",
              "    <div class=\"colab-df-buttons\">\n",
              "\n",
              "  <div class=\"colab-df-container\">\n",
              "    <button class=\"colab-df-convert\" onclick=\"convertToInteractive('df-b165cb6d-25ce-4b38-a412-d5507874bc76')\"\n",
              "            title=\"Convert this dataframe to an interactive table.\"\n",
              "            style=\"display:none;\">\n",
              "\n",
              "  <svg xmlns=\"http://www.w3.org/2000/svg\" height=\"24px\" viewBox=\"0 -960 960 960\">\n",
              "    <path d=\"M120-120v-720h720v720H120Zm60-500h600v-160H180v160Zm220 220h160v-160H400v160Zm0 220h160v-160H400v160ZM180-400h160v-160H180v160Zm440 0h160v-160H620v160ZM180-180h160v-160H180v160Zm440 0h160v-160H620v160Z\"/>\n",
              "  </svg>\n",
              "    </button>\n",
              "\n",
              "  <style>\n",
              "    .colab-df-container {\n",
              "      display:flex;\n",
              "      gap: 12px;\n",
              "    }\n",
              "\n",
              "    .colab-df-convert {\n",
              "      background-color: #E8F0FE;\n",
              "      border: none;\n",
              "      border-radius: 50%;\n",
              "      cursor: pointer;\n",
              "      display: none;\n",
              "      fill: #1967D2;\n",
              "      height: 32px;\n",
              "      padding: 0 0 0 0;\n",
              "      width: 32px;\n",
              "    }\n",
              "\n",
              "    .colab-df-convert:hover {\n",
              "      background-color: #E2EBFA;\n",
              "      box-shadow: 0px 1px 2px rgba(60, 64, 67, 0.3), 0px 1px 3px 1px rgba(60, 64, 67, 0.15);\n",
              "      fill: #174EA6;\n",
              "    }\n",
              "\n",
              "    .colab-df-buttons div {\n",
              "      margin-bottom: 4px;\n",
              "    }\n",
              "\n",
              "    [theme=dark] .colab-df-convert {\n",
              "      background-color: #3B4455;\n",
              "      fill: #D2E3FC;\n",
              "    }\n",
              "\n",
              "    [theme=dark] .colab-df-convert:hover {\n",
              "      background-color: #434B5C;\n",
              "      box-shadow: 0px 1px 3px 1px rgba(0, 0, 0, 0.15);\n",
              "      filter: drop-shadow(0px 1px 2px rgba(0, 0, 0, 0.3));\n",
              "      fill: #FFFFFF;\n",
              "    }\n",
              "  </style>\n",
              "\n",
              "    <script>\n",
              "      const buttonEl =\n",
              "        document.querySelector('#df-b165cb6d-25ce-4b38-a412-d5507874bc76 button.colab-df-convert');\n",
              "      buttonEl.style.display =\n",
              "        google.colab.kernel.accessAllowed ? 'block' : 'none';\n",
              "\n",
              "      async function convertToInteractive(key) {\n",
              "        const element = document.querySelector('#df-b165cb6d-25ce-4b38-a412-d5507874bc76');\n",
              "        const dataTable =\n",
              "          await google.colab.kernel.invokeFunction('convertToInteractive',\n",
              "                                                    [key], {});\n",
              "        if (!dataTable) return;\n",
              "\n",
              "        const docLinkHtml = 'Like what you see? Visit the ' +\n",
              "          '<a target=\"_blank\" href=https://colab.research.google.com/notebooks/data_table.ipynb>data table notebook</a>'\n",
              "          + ' to learn more about interactive tables.';\n",
              "        element.innerHTML = '';\n",
              "        dataTable['output_type'] = 'display_data';\n",
              "        await google.colab.output.renderOutput(dataTable, element);\n",
              "        const docLink = document.createElement('div');\n",
              "        docLink.innerHTML = docLinkHtml;\n",
              "        element.appendChild(docLink);\n",
              "      }\n",
              "    </script>\n",
              "  </div>\n",
              "\n",
              "\n",
              "    <div id=\"df-1d1b5522-9854-4879-80ae-9c3f6ba1757d\">\n",
              "      <button class=\"colab-df-quickchart\" onclick=\"quickchart('df-1d1b5522-9854-4879-80ae-9c3f6ba1757d')\"\n",
              "                title=\"Suggest charts\"\n",
              "                style=\"display:none;\">\n",
              "\n",
              "<svg xmlns=\"http://www.w3.org/2000/svg\" height=\"24px\"viewBox=\"0 0 24 24\"\n",
              "     width=\"24px\">\n",
              "    <g>\n",
              "        <path d=\"M19 3H5c-1.1 0-2 .9-2 2v14c0 1.1.9 2 2 2h14c1.1 0 2-.9 2-2V5c0-1.1-.9-2-2-2zM9 17H7v-7h2v7zm4 0h-2V7h2v10zm4 0h-2v-4h2v4z\"/>\n",
              "    </g>\n",
              "</svg>\n",
              "      </button>\n",
              "\n",
              "<style>\n",
              "  .colab-df-quickchart {\n",
              "      --bg-color: #E8F0FE;\n",
              "      --fill-color: #1967D2;\n",
              "      --hover-bg-color: #E2EBFA;\n",
              "      --hover-fill-color: #174EA6;\n",
              "      --disabled-fill-color: #AAA;\n",
              "      --disabled-bg-color: #DDD;\n",
              "  }\n",
              "\n",
              "  [theme=dark] .colab-df-quickchart {\n",
              "      --bg-color: #3B4455;\n",
              "      --fill-color: #D2E3FC;\n",
              "      --hover-bg-color: #434B5C;\n",
              "      --hover-fill-color: #FFFFFF;\n",
              "      --disabled-bg-color: #3B4455;\n",
              "      --disabled-fill-color: #666;\n",
              "  }\n",
              "\n",
              "  .colab-df-quickchart {\n",
              "    background-color: var(--bg-color);\n",
              "    border: none;\n",
              "    border-radius: 50%;\n",
              "    cursor: pointer;\n",
              "    display: none;\n",
              "    fill: var(--fill-color);\n",
              "    height: 32px;\n",
              "    padding: 0;\n",
              "    width: 32px;\n",
              "  }\n",
              "\n",
              "  .colab-df-quickchart:hover {\n",
              "    background-color: var(--hover-bg-color);\n",
              "    box-shadow: 0 1px 2px rgba(60, 64, 67, 0.3), 0 1px 3px 1px rgba(60, 64, 67, 0.15);\n",
              "    fill: var(--button-hover-fill-color);\n",
              "  }\n",
              "\n",
              "  .colab-df-quickchart-complete:disabled,\n",
              "  .colab-df-quickchart-complete:disabled:hover {\n",
              "    background-color: var(--disabled-bg-color);\n",
              "    fill: var(--disabled-fill-color);\n",
              "    box-shadow: none;\n",
              "  }\n",
              "\n",
              "  .colab-df-spinner {\n",
              "    border: 2px solid var(--fill-color);\n",
              "    border-color: transparent;\n",
              "    border-bottom-color: var(--fill-color);\n",
              "    animation:\n",
              "      spin 1s steps(1) infinite;\n",
              "  }\n",
              "\n",
              "  @keyframes spin {\n",
              "    0% {\n",
              "      border-color: transparent;\n",
              "      border-bottom-color: var(--fill-color);\n",
              "      border-left-color: var(--fill-color);\n",
              "    }\n",
              "    20% {\n",
              "      border-color: transparent;\n",
              "      border-left-color: var(--fill-color);\n",
              "      border-top-color: var(--fill-color);\n",
              "    }\n",
              "    30% {\n",
              "      border-color: transparent;\n",
              "      border-left-color: var(--fill-color);\n",
              "      border-top-color: var(--fill-color);\n",
              "      border-right-color: var(--fill-color);\n",
              "    }\n",
              "    40% {\n",
              "      border-color: transparent;\n",
              "      border-right-color: var(--fill-color);\n",
              "      border-top-color: var(--fill-color);\n",
              "    }\n",
              "    60% {\n",
              "      border-color: transparent;\n",
              "      border-right-color: var(--fill-color);\n",
              "    }\n",
              "    80% {\n",
              "      border-color: transparent;\n",
              "      border-right-color: var(--fill-color);\n",
              "      border-bottom-color: var(--fill-color);\n",
              "    }\n",
              "    90% {\n",
              "      border-color: transparent;\n",
              "      border-bottom-color: var(--fill-color);\n",
              "    }\n",
              "  }\n",
              "</style>\n",
              "\n",
              "      <script>\n",
              "        async function quickchart(key) {\n",
              "          const quickchartButtonEl =\n",
              "            document.querySelector('#' + key + ' button');\n",
              "          quickchartButtonEl.disabled = true;  // To prevent multiple clicks.\n",
              "          quickchartButtonEl.classList.add('colab-df-spinner');\n",
              "          try {\n",
              "            const charts = await google.colab.kernel.invokeFunction(\n",
              "                'suggestCharts', [key], {});\n",
              "          } catch (error) {\n",
              "            console.error('Error during call to suggestCharts:', error);\n",
              "          }\n",
              "          quickchartButtonEl.classList.remove('colab-df-spinner');\n",
              "          quickchartButtonEl.classList.add('colab-df-quickchart-complete');\n",
              "        }\n",
              "        (() => {\n",
              "          let quickchartButtonEl =\n",
              "            document.querySelector('#df-1d1b5522-9854-4879-80ae-9c3f6ba1757d button');\n",
              "          quickchartButtonEl.style.display =\n",
              "            google.colab.kernel.accessAllowed ? 'block' : 'none';\n",
              "        })();\n",
              "      </script>\n",
              "    </div>\n",
              "\n",
              "    </div>\n",
              "  </div>\n"
            ],
            "application/vnd.google.colaboratory.intrinsic+json": {
              "type": "dataframe",
              "variable_name": "data_df",
              "summary": "{\n  \"name\": \"data_df\",\n  \"rows\": 18185,\n  \"fields\": [\n    {\n      \"column\": \"id\",\n      \"properties\": {\n        \"dtype\": \"number\",\n        \"std\": 5249,\n        \"min\": 1,\n        \"max\": 18185,\n        \"num_unique_values\": 18185,\n        \"samples\": [\n          18057,\n          3257,\n          17107\n        ],\n        \"semantic_type\": \"\",\n        \"description\": \"\"\n      }\n    },\n    {\n      \"column\": \"Area\",\n      \"properties\": {\n        \"dtype\": \"number\",\n        \"std\": 1467,\n        \"min\": 2522,\n        \"max\": 10210,\n        \"num_unique_values\": 5343,\n        \"samples\": [\n          6932,\n          7847,\n          7428\n        ],\n        \"semantic_type\": \"\",\n        \"description\": \"\"\n      }\n    },\n    {\n      \"column\": \"MajorAxisLength\",\n      \"properties\": {\n        \"dtype\": \"number\",\n        \"std\": 12.376402475210195,\n        \"min\": 74.13311404,\n        \"max\": 183.2114344,\n        \"num_unique_values\": 18185,\n        \"samples\": [\n          174.6713776,\n          145.8075716,\n          158.0124457\n        ],\n        \"semantic_type\": \"\",\n        \"description\": \"\"\n      }\n    },\n    {\n      \"column\": \"MinorAxisLength\",\n      \"properties\": {\n        \"dtype\": \"number\",\n        \"std\": 10.061652559362898,\n        \"min\": 34.40989421,\n        \"max\": 82.55076212,\n        \"num_unique_values\": 18185,\n        \"samples\": [\n          69.66136016,\n          51.67327984,\n          67.8482643\n        ],\n        \"semantic_type\": \"\",\n        \"description\": \"\"\n      }\n    },\n    {\n      \"column\": \"Eccentricity\",\n      \"properties\": {\n        \"dtype\": \"number\",\n        \"std\": 0.030575132488673995,\n        \"min\": 0.6766470565,\n        \"max\": 0.9667736672,\n        \"num_unique_values\": 18185,\n        \"samples\": [\n          0.9170319151,\n          0.935096321,\n          0.9031212715\n        ],\n        \"semantic_type\": \"\",\n        \"description\": \"\"\n      }\n    },\n    {\n      \"column\": \"ConvexArea\",\n      \"properties\": {\n        \"dtype\": \"number\",\n        \"std\": 1502,\n        \"min\": 2579,\n        \"max\": 11008,\n        \"num_unique_values\": 5450,\n        \"samples\": [\n          9985,\n          4647,\n          7443\n        ],\n        \"semantic_type\": \"\",\n        \"description\": \"\"\n      }\n    },\n    {\n      \"column\": \"EquivDiameter\",\n      \"properties\": {\n        \"dtype\": \"number\",\n        \"std\": 9.90625046973775,\n        \"min\": 56.66665803,\n        \"max\": 114.0165591,\n        \"num_unique_values\": 5343,\n        \"samples\": [\n          93.94730717,\n          99.95554366,\n          97.25031279\n        ],\n        \"semantic_type\": \"\",\n        \"description\": \"\"\n      }\n    },\n    {\n      \"column\": \"Extent\",\n      \"properties\": {\n        \"dtype\": \"number\",\n        \"std\": 0.10438942430267766,\n        \"min\": 0.3832391714,\n        \"max\": 0.8865730584,\n        \"num_unique_values\": 18007,\n        \"samples\": [\n          0.4601652893,\n          0.5858939017,\n          0.5505580357\n        ],\n        \"semantic_type\": \"\",\n        \"description\": \"\"\n      }\n    },\n    {\n      \"column\": \"Perimeter\",\n      \"properties\": {\n        \"dtype\": \"number\",\n        \"std\": 29.5006198759396,\n        \"min\": 197.015,\n        \"max\": 508.511,\n        \"num_unique_values\": 16246,\n        \"samples\": [\n          356.973,\n          374.084,\n          388.049\n        ],\n        \"semantic_type\": \"\",\n        \"description\": \"\"\n      }\n    },\n    {\n      \"column\": \"Roundness\",\n      \"properties\": {\n        \"dtype\": \"number\",\n        \"std\": 0.06731016002659161,\n        \"min\": 0.1745901779,\n        \"max\": 0.9047483132,\n        \"num_unique_values\": 18184,\n        \"samples\": [\n          0.6384175711,\n          0.6501997504,\n          0.6459622092\n        ],\n        \"semantic_type\": \"\",\n        \"description\": \"\"\n      }\n    },\n    {\n      \"column\": \"AspectRation\",\n      \"properties\": {\n        \"dtype\": \"number\",\n        \"std\": 0.4348364637403803,\n        \"min\": 1.358128195,\n        \"max\": 3.911844673,\n        \"num_unique_values\": 18185,\n        \"samples\": [\n          2.507435646,\n          2.82172086,\n          2.328909182\n        ],\n        \"semantic_type\": \"\",\n        \"description\": \"\"\n      }\n    },\n    {\n      \"column\": \"Class\",\n      \"properties\": {\n        \"dtype\": \"number\",\n        \"std\": 0,\n        \"min\": 0,\n        \"max\": 1,\n        \"num_unique_values\": 2,\n        \"samples\": [\n          0,\n          1\n        ],\n        \"semantic_type\": \"\",\n        \"description\": \"\"\n      }\n    }\n  ]\n}"
            }
          },
          "metadata": {},
          "execution_count": 4
        }
      ]
    },
    {
      "cell_type": "code",
      "source": [
        "print(\"Before drop\",data_df.shape)\n",
        "data_df.drop(['id'], axis=1, inplace=True)\n",
        "print(\"After drop\",data_df.shape)"
      ],
      "metadata": {
        "colab": {
          "base_uri": "https://localhost:8080/"
        },
        "id": "SB8RAjGS9igL",
        "outputId": "9f615a13-5ec7-4736-929d-0937b18275b1"
      },
      "execution_count": 5,
      "outputs": [
        {
          "output_type": "stream",
          "name": "stdout",
          "text": [
            "Before drop (18185, 12)\n",
            "After drop (18185, 11)\n"
          ]
        }
      ]
    },
    {
      "cell_type": "code",
      "source": [
        "data_df[\"Class\"].value_counts()"
      ],
      "metadata": {
        "colab": {
          "base_uri": "https://localhost:8080/",
          "height": 178
        },
        "id": "K4PUYNu9-Pa0",
        "outputId": "f1e66120-99eb-469c-9fc1-7833c6420a73"
      },
      "execution_count": 6,
      "outputs": [
        {
          "output_type": "execute_result",
          "data": {
            "text/plain": [
              "Class\n",
              "1    9985\n",
              "0    8200\n",
              "Name: count, dtype: int64"
            ],
            "text/html": [
              "<div>\n",
              "<style scoped>\n",
              "    .dataframe tbody tr th:only-of-type {\n",
              "        vertical-align: middle;\n",
              "    }\n",
              "\n",
              "    .dataframe tbody tr th {\n",
              "        vertical-align: top;\n",
              "    }\n",
              "\n",
              "    .dataframe thead th {\n",
              "        text-align: right;\n",
              "    }\n",
              "</style>\n",
              "<table border=\"1\" class=\"dataframe\">\n",
              "  <thead>\n",
              "    <tr style=\"text-align: right;\">\n",
              "      <th></th>\n",
              "      <th>count</th>\n",
              "    </tr>\n",
              "    <tr>\n",
              "      <th>Class</th>\n",
              "      <th></th>\n",
              "    </tr>\n",
              "  </thead>\n",
              "  <tbody>\n",
              "    <tr>\n",
              "      <th>1</th>\n",
              "      <td>9985</td>\n",
              "    </tr>\n",
              "    <tr>\n",
              "      <th>0</th>\n",
              "      <td>8200</td>\n",
              "    </tr>\n",
              "  </tbody>\n",
              "</table>\n",
              "</div><br><label><b>dtype:</b> int64</label>"
            ]
          },
          "metadata": {},
          "execution_count": 6
        }
      ]
    },
    {
      "cell_type": "code",
      "source": [
        "original_df = data_df.copy()\n",
        "for col in data_df.columns:\n",
        "  data_df[col] = data_df[col]/data_df[col].abs().max()\n",
        "data_df.head()"
      ],
      "metadata": {
        "colab": {
          "base_uri": "https://localhost:8080/",
          "height": 226
        },
        "id": "W2ryZKQO-1mf",
        "outputId": "32aa6530-4a2b-4980-a5e9-297a49cebc1d"
      },
      "execution_count": 7,
      "outputs": [
        {
          "output_type": "execute_result",
          "data": {
            "text/plain": [
              "       Area  MajorAxisLength  MinorAxisLength  Eccentricity  ConvexArea  \\\n",
              "0  0.444368         0.503404         0.775435      0.744658    0.424873   \n",
              "1  0.281293         0.407681         0.622653      0.750489    0.273892   \n",
              "2  0.298531         0.416421         0.630442      0.756341    0.284520   \n",
              "3  0.300979         0.420463         0.629049      0.764024    0.286791   \n",
              "4  0.361704         0.464626         0.682901      0.775033    0.345385   \n",
              "\n",
              "   EquivDiameter    Extent  Perimeter  Roundness  AspectRation  Class  \n",
              "0       0.666610  0.741661   0.537029   0.844997      0.368316    1.0  \n",
              "1       0.530370  0.804230   0.409661   0.919215      0.371471    1.0  \n",
              "2       0.546380  0.856278   0.412994   0.959862      0.374747    1.0  \n",
              "3       0.548616  0.883772   0.414262   0.961818      0.379222    1.0  \n",
              "4       0.601418  0.867808   0.452954   0.966836      0.386007    1.0  "
            ],
            "text/html": [
              "\n",
              "  <div id=\"df-a279de7a-09d2-4906-a187-a5e9f30be7a5\" class=\"colab-df-container\">\n",
              "    <div>\n",
              "<style scoped>\n",
              "    .dataframe tbody tr th:only-of-type {\n",
              "        vertical-align: middle;\n",
              "    }\n",
              "\n",
              "    .dataframe tbody tr th {\n",
              "        vertical-align: top;\n",
              "    }\n",
              "\n",
              "    .dataframe thead th {\n",
              "        text-align: right;\n",
              "    }\n",
              "</style>\n",
              "<table border=\"1\" class=\"dataframe\">\n",
              "  <thead>\n",
              "    <tr style=\"text-align: right;\">\n",
              "      <th></th>\n",
              "      <th>Area</th>\n",
              "      <th>MajorAxisLength</th>\n",
              "      <th>MinorAxisLength</th>\n",
              "      <th>Eccentricity</th>\n",
              "      <th>ConvexArea</th>\n",
              "      <th>EquivDiameter</th>\n",
              "      <th>Extent</th>\n",
              "      <th>Perimeter</th>\n",
              "      <th>Roundness</th>\n",
              "      <th>AspectRation</th>\n",
              "      <th>Class</th>\n",
              "    </tr>\n",
              "  </thead>\n",
              "  <tbody>\n",
              "    <tr>\n",
              "      <th>0</th>\n",
              "      <td>0.444368</td>\n",
              "      <td>0.503404</td>\n",
              "      <td>0.775435</td>\n",
              "      <td>0.744658</td>\n",
              "      <td>0.424873</td>\n",
              "      <td>0.666610</td>\n",
              "      <td>0.741661</td>\n",
              "      <td>0.537029</td>\n",
              "      <td>0.844997</td>\n",
              "      <td>0.368316</td>\n",
              "      <td>1.0</td>\n",
              "    </tr>\n",
              "    <tr>\n",
              "      <th>1</th>\n",
              "      <td>0.281293</td>\n",
              "      <td>0.407681</td>\n",
              "      <td>0.622653</td>\n",
              "      <td>0.750489</td>\n",
              "      <td>0.273892</td>\n",
              "      <td>0.530370</td>\n",
              "      <td>0.804230</td>\n",
              "      <td>0.409661</td>\n",
              "      <td>0.919215</td>\n",
              "      <td>0.371471</td>\n",
              "      <td>1.0</td>\n",
              "    </tr>\n",
              "    <tr>\n",
              "      <th>2</th>\n",
              "      <td>0.298531</td>\n",
              "      <td>0.416421</td>\n",
              "      <td>0.630442</td>\n",
              "      <td>0.756341</td>\n",
              "      <td>0.284520</td>\n",
              "      <td>0.546380</td>\n",
              "      <td>0.856278</td>\n",
              "      <td>0.412994</td>\n",
              "      <td>0.959862</td>\n",
              "      <td>0.374747</td>\n",
              "      <td>1.0</td>\n",
              "    </tr>\n",
              "    <tr>\n",
              "      <th>3</th>\n",
              "      <td>0.300979</td>\n",
              "      <td>0.420463</td>\n",
              "      <td>0.629049</td>\n",
              "      <td>0.764024</td>\n",
              "      <td>0.286791</td>\n",
              "      <td>0.548616</td>\n",
              "      <td>0.883772</td>\n",
              "      <td>0.414262</td>\n",
              "      <td>0.961818</td>\n",
              "      <td>0.379222</td>\n",
              "      <td>1.0</td>\n",
              "    </tr>\n",
              "    <tr>\n",
              "      <th>4</th>\n",
              "      <td>0.361704</td>\n",
              "      <td>0.464626</td>\n",
              "      <td>0.682901</td>\n",
              "      <td>0.775033</td>\n",
              "      <td>0.345385</td>\n",
              "      <td>0.601418</td>\n",
              "      <td>0.867808</td>\n",
              "      <td>0.452954</td>\n",
              "      <td>0.966836</td>\n",
              "      <td>0.386007</td>\n",
              "      <td>1.0</td>\n",
              "    </tr>\n",
              "  </tbody>\n",
              "</table>\n",
              "</div>\n",
              "    <div class=\"colab-df-buttons\">\n",
              "\n",
              "  <div class=\"colab-df-container\">\n",
              "    <button class=\"colab-df-convert\" onclick=\"convertToInteractive('df-a279de7a-09d2-4906-a187-a5e9f30be7a5')\"\n",
              "            title=\"Convert this dataframe to an interactive table.\"\n",
              "            style=\"display:none;\">\n",
              "\n",
              "  <svg xmlns=\"http://www.w3.org/2000/svg\" height=\"24px\" viewBox=\"0 -960 960 960\">\n",
              "    <path d=\"M120-120v-720h720v720H120Zm60-500h600v-160H180v160Zm220 220h160v-160H400v160Zm0 220h160v-160H400v160ZM180-400h160v-160H180v160Zm440 0h160v-160H620v160ZM180-180h160v-160H180v160Zm440 0h160v-160H620v160Z\"/>\n",
              "  </svg>\n",
              "    </button>\n",
              "\n",
              "  <style>\n",
              "    .colab-df-container {\n",
              "      display:flex;\n",
              "      gap: 12px;\n",
              "    }\n",
              "\n",
              "    .colab-df-convert {\n",
              "      background-color: #E8F0FE;\n",
              "      border: none;\n",
              "      border-radius: 50%;\n",
              "      cursor: pointer;\n",
              "      display: none;\n",
              "      fill: #1967D2;\n",
              "      height: 32px;\n",
              "      padding: 0 0 0 0;\n",
              "      width: 32px;\n",
              "    }\n",
              "\n",
              "    .colab-df-convert:hover {\n",
              "      background-color: #E2EBFA;\n",
              "      box-shadow: 0px 1px 2px rgba(60, 64, 67, 0.3), 0px 1px 3px 1px rgba(60, 64, 67, 0.15);\n",
              "      fill: #174EA6;\n",
              "    }\n",
              "\n",
              "    .colab-df-buttons div {\n",
              "      margin-bottom: 4px;\n",
              "    }\n",
              "\n",
              "    [theme=dark] .colab-df-convert {\n",
              "      background-color: #3B4455;\n",
              "      fill: #D2E3FC;\n",
              "    }\n",
              "\n",
              "    [theme=dark] .colab-df-convert:hover {\n",
              "      background-color: #434B5C;\n",
              "      box-shadow: 0px 1px 3px 1px rgba(0, 0, 0, 0.15);\n",
              "      filter: drop-shadow(0px 1px 2px rgba(0, 0, 0, 0.3));\n",
              "      fill: #FFFFFF;\n",
              "    }\n",
              "  </style>\n",
              "\n",
              "    <script>\n",
              "      const buttonEl =\n",
              "        document.querySelector('#df-a279de7a-09d2-4906-a187-a5e9f30be7a5 button.colab-df-convert');\n",
              "      buttonEl.style.display =\n",
              "        google.colab.kernel.accessAllowed ? 'block' : 'none';\n",
              "\n",
              "      async function convertToInteractive(key) {\n",
              "        const element = document.querySelector('#df-a279de7a-09d2-4906-a187-a5e9f30be7a5');\n",
              "        const dataTable =\n",
              "          await google.colab.kernel.invokeFunction('convertToInteractive',\n",
              "                                                    [key], {});\n",
              "        if (!dataTable) return;\n",
              "\n",
              "        const docLinkHtml = 'Like what you see? Visit the ' +\n",
              "          '<a target=\"_blank\" href=https://colab.research.google.com/notebooks/data_table.ipynb>data table notebook</a>'\n",
              "          + ' to learn more about interactive tables.';\n",
              "        element.innerHTML = '';\n",
              "        dataTable['output_type'] = 'display_data';\n",
              "        await google.colab.output.renderOutput(dataTable, element);\n",
              "        const docLink = document.createElement('div');\n",
              "        docLink.innerHTML = docLinkHtml;\n",
              "        element.appendChild(docLink);\n",
              "      }\n",
              "    </script>\n",
              "  </div>\n",
              "\n",
              "\n",
              "    <div id=\"df-149ddf4d-03e4-4eca-847f-03a12b38890a\">\n",
              "      <button class=\"colab-df-quickchart\" onclick=\"quickchart('df-149ddf4d-03e4-4eca-847f-03a12b38890a')\"\n",
              "                title=\"Suggest charts\"\n",
              "                style=\"display:none;\">\n",
              "\n",
              "<svg xmlns=\"http://www.w3.org/2000/svg\" height=\"24px\"viewBox=\"0 0 24 24\"\n",
              "     width=\"24px\">\n",
              "    <g>\n",
              "        <path d=\"M19 3H5c-1.1 0-2 .9-2 2v14c0 1.1.9 2 2 2h14c1.1 0 2-.9 2-2V5c0-1.1-.9-2-2-2zM9 17H7v-7h2v7zm4 0h-2V7h2v10zm4 0h-2v-4h2v4z\"/>\n",
              "    </g>\n",
              "</svg>\n",
              "      </button>\n",
              "\n",
              "<style>\n",
              "  .colab-df-quickchart {\n",
              "      --bg-color: #E8F0FE;\n",
              "      --fill-color: #1967D2;\n",
              "      --hover-bg-color: #E2EBFA;\n",
              "      --hover-fill-color: #174EA6;\n",
              "      --disabled-fill-color: #AAA;\n",
              "      --disabled-bg-color: #DDD;\n",
              "  }\n",
              "\n",
              "  [theme=dark] .colab-df-quickchart {\n",
              "      --bg-color: #3B4455;\n",
              "      --fill-color: #D2E3FC;\n",
              "      --hover-bg-color: #434B5C;\n",
              "      --hover-fill-color: #FFFFFF;\n",
              "      --disabled-bg-color: #3B4455;\n",
              "      --disabled-fill-color: #666;\n",
              "  }\n",
              "\n",
              "  .colab-df-quickchart {\n",
              "    background-color: var(--bg-color);\n",
              "    border: none;\n",
              "    border-radius: 50%;\n",
              "    cursor: pointer;\n",
              "    display: none;\n",
              "    fill: var(--fill-color);\n",
              "    height: 32px;\n",
              "    padding: 0;\n",
              "    width: 32px;\n",
              "  }\n",
              "\n",
              "  .colab-df-quickchart:hover {\n",
              "    background-color: var(--hover-bg-color);\n",
              "    box-shadow: 0 1px 2px rgba(60, 64, 67, 0.3), 0 1px 3px 1px rgba(60, 64, 67, 0.15);\n",
              "    fill: var(--button-hover-fill-color);\n",
              "  }\n",
              "\n",
              "  .colab-df-quickchart-complete:disabled,\n",
              "  .colab-df-quickchart-complete:disabled:hover {\n",
              "    background-color: var(--disabled-bg-color);\n",
              "    fill: var(--disabled-fill-color);\n",
              "    box-shadow: none;\n",
              "  }\n",
              "\n",
              "  .colab-df-spinner {\n",
              "    border: 2px solid var(--fill-color);\n",
              "    border-color: transparent;\n",
              "    border-bottom-color: var(--fill-color);\n",
              "    animation:\n",
              "      spin 1s steps(1) infinite;\n",
              "  }\n",
              "\n",
              "  @keyframes spin {\n",
              "    0% {\n",
              "      border-color: transparent;\n",
              "      border-bottom-color: var(--fill-color);\n",
              "      border-left-color: var(--fill-color);\n",
              "    }\n",
              "    20% {\n",
              "      border-color: transparent;\n",
              "      border-left-color: var(--fill-color);\n",
              "      border-top-color: var(--fill-color);\n",
              "    }\n",
              "    30% {\n",
              "      border-color: transparent;\n",
              "      border-left-color: var(--fill-color);\n",
              "      border-top-color: var(--fill-color);\n",
              "      border-right-color: var(--fill-color);\n",
              "    }\n",
              "    40% {\n",
              "      border-color: transparent;\n",
              "      border-right-color: var(--fill-color);\n",
              "      border-top-color: var(--fill-color);\n",
              "    }\n",
              "    60% {\n",
              "      border-color: transparent;\n",
              "      border-right-color: var(--fill-color);\n",
              "    }\n",
              "    80% {\n",
              "      border-color: transparent;\n",
              "      border-right-color: var(--fill-color);\n",
              "      border-bottom-color: var(--fill-color);\n",
              "    }\n",
              "    90% {\n",
              "      border-color: transparent;\n",
              "      border-bottom-color: var(--fill-color);\n",
              "    }\n",
              "  }\n",
              "</style>\n",
              "\n",
              "      <script>\n",
              "        async function quickchart(key) {\n",
              "          const quickchartButtonEl =\n",
              "            document.querySelector('#' + key + ' button');\n",
              "          quickchartButtonEl.disabled = true;  // To prevent multiple clicks.\n",
              "          quickchartButtonEl.classList.add('colab-df-spinner');\n",
              "          try {\n",
              "            const charts = await google.colab.kernel.invokeFunction(\n",
              "                'suggestCharts', [key], {});\n",
              "          } catch (error) {\n",
              "            console.error('Error during call to suggestCharts:', error);\n",
              "          }\n",
              "          quickchartButtonEl.classList.remove('colab-df-spinner');\n",
              "          quickchartButtonEl.classList.add('colab-df-quickchart-complete');\n",
              "        }\n",
              "        (() => {\n",
              "          let quickchartButtonEl =\n",
              "            document.querySelector('#df-149ddf4d-03e4-4eca-847f-03a12b38890a button');\n",
              "          quickchartButtonEl.style.display =\n",
              "            google.colab.kernel.accessAllowed ? 'block' : 'none';\n",
              "        })();\n",
              "      </script>\n",
              "    </div>\n",
              "\n",
              "    </div>\n",
              "  </div>\n"
            ],
            "application/vnd.google.colaboratory.intrinsic+json": {
              "type": "dataframe",
              "variable_name": "data_df",
              "summary": "{\n  \"name\": \"data_df\",\n  \"rows\": 18185,\n  \"fields\": [\n    {\n      \"column\": \"Area\",\n      \"properties\": {\n        \"dtype\": \"number\",\n        \"std\": 0.14370197357033015,\n        \"min\": 0.24701273261508325,\n        \"max\": 1.0,\n        \"num_unique_values\": 5343,\n        \"samples\": [\n          0.6789422135161606,\n          0.7685602350636631,\n          0.7275220372184134\n        ],\n        \"semantic_type\": \"\",\n        \"description\": \"\"\n      }\n    },\n    {\n      \"column\": \"MajorAxisLength\",\n      \"properties\": {\n        \"dtype\": \"number\",\n        \"std\": 0.06755256578685567,\n        \"min\": 0.4046314810141566,\n        \"max\": 1.0,\n        \"num_unique_values\": 18185,\n        \"samples\": [\n          0.9533868787831509,\n          0.7958431856478058,\n          0.8624595196117301\n        ],\n        \"semantic_type\": \"\",\n        \"description\": \"\"\n      }\n    },\n    {\n      \"column\": \"MinorAxisLength\",\n      \"properties\": {\n        \"dtype\": \"number\",\n        \"std\": 0.12188442966446315,\n        \"min\": 0.41683315000750715,\n        \"max\": 1.0,\n        \"num_unique_values\": 18185,\n        \"samples\": [\n          0.8438608968713904,\n          0.6259576351928172,\n          0.8218974914050132\n        ],\n        \"semantic_type\": \"\",\n        \"description\": \"\"\n      }\n    },\n    {\n      \"column\": \"Eccentricity\",\n      \"properties\": {\n        \"dtype\": \"number\",\n        \"std\": 0.03162594671949088,\n        \"min\": 0.6999022412967931,\n        \"max\": 1.0,\n        \"num_unique_values\": 18185,\n        \"samples\": [\n          0.948548710222876,\n          0.9672339583971655,\n          0.9341599819486684\n        ],\n        \"semantic_type\": \"\",\n        \"description\": \"\"\n      }\n    },\n    {\n      \"column\": \"ConvexArea\",\n      \"properties\": {\n        \"dtype\": \"number\",\n        \"std\": 0.13644681787780938,\n        \"min\": 0.23428415697674418,\n        \"max\": 1.0,\n        \"num_unique_values\": 5450,\n        \"samples\": [\n          0.9070675872093024,\n          0.42214752906976744,\n          0.6761446220930233\n        ],\n        \"semantic_type\": \"\",\n        \"description\": \"\"\n      }\n    },\n    {\n      \"column\": \"EquivDiameter\",\n      \"properties\": {\n        \"dtype\": \"number\",\n        \"std\": 0.08688431354124022,\n        \"min\": 0.497003755220324,\n        \"max\": 1.0,\n        \"num_unique_values\": 5343,\n        \"samples\": [\n          0.823979498342886,\n          0.876675672805846,\n          0.852949023875603\n        ],\n        \"semantic_type\": \"\",\n        \"description\": \"\"\n      }\n    },\n    {\n      \"column\": \"Extent\",\n      \"properties\": {\n        \"dtype\": \"number\",\n        \"std\": 0.11774486413005775,\n        \"min\": 0.4322702655679978,\n        \"max\": 1.0,\n        \"num_unique_values\": 18007,\n        \"samples\": [\n          0.5190382055264133,\n          0.660852364222937,\n          0.6209956759723706\n        ],\n        \"semantic_type\": \"\",\n        \"description\": \"\"\n      }\n    },\n    {\n      \"column\": \"Perimeter\",\n      \"properties\": {\n        \"dtype\": \"number\",\n        \"std\": 0.0580137300391528,\n        \"min\": 0.3874350800670978,\n        \"max\": 1.0,\n        \"num_unique_values\": 16246,\n        \"samples\": [\n          0.701996613642576,\n          0.735645836569907,\n          0.7631083693371431\n        ],\n        \"semantic_type\": \"\",\n        \"description\": \"\"\n      }\n    },\n    {\n      \"column\": \"Roundness\",\n      \"properties\": {\n        \"dtype\": \"number\",\n        \"std\": 0.07439655763327434,\n        \"min\": 0.19297099022212358,\n        \"max\": 1.0,\n        \"num_unique_values\": 18184,\n        \"samples\": [\n          0.7056300208419112,\n          0.7186526251707633,\n          0.7139689566430905\n        ],\n        \"semantic_type\": \"\",\n        \"description\": \"\"\n      }\n    },\n    {\n      \"column\": \"AspectRation\",\n      \"properties\": {\n        \"dtype\": \"number\",\n        \"std\": 0.11115892886588072,\n        \"min\": 0.347183569013861,\n        \"max\": 1.0,\n        \"num_unique_values\": 18185,\n        \"samples\": [\n          0.6409854827075849,\n          0.7213274288408844,\n          0.5953480714800354\n        ],\n        \"semantic_type\": \"\",\n        \"description\": \"\"\n      }\n    },\n    {\n      \"column\": \"Class\",\n      \"properties\": {\n        \"dtype\": \"number\",\n        \"std\": 0.4975991120990263,\n        \"min\": 0.0,\n        \"max\": 1.0,\n        \"num_unique_values\": 2,\n        \"samples\": [\n          0.0,\n          1.0\n        ],\n        \"semantic_type\": \"\",\n        \"description\": \"\"\n      }\n    }\n  ]\n}"
            }
          },
          "metadata": {},
          "execution_count": 7
        }
      ]
    },
    {
      "cell_type": "code",
      "source": [
        "X  = np.array(data_df.iloc[:, :-1]) #all the rows, all the columns except the last one\n",
        "y = np.array(data_df.iloc[:, -1])"
      ],
      "metadata": {
        "id": "7t7J4mJe_te1"
      },
      "execution_count": 8,
      "outputs": []
    },
    {
      "cell_type": "code",
      "source": [
        "X"
      ],
      "metadata": {
        "colab": {
          "base_uri": "https://localhost:8080/"
        },
        "id": "2x4PqSSETpdc",
        "outputId": "000973af-27cb-4759-b94c-198af123c858"
      },
      "execution_count": 9,
      "outputs": [
        {
          "output_type": "execute_result",
          "data": {
            "text/plain": [
              "array([[0.44436827, 0.50340371, 0.77543522, ..., 0.5370287 , 0.844997  ,\n",
              "        0.36831616],\n",
              "       [0.28129285, 0.40768133, 0.62265269, ..., 0.40966075, 0.91921498,\n",
              "        0.37147093],\n",
              "       [0.29853085, 0.41642141, 0.63044229, ..., 0.41299402, 0.95986205,\n",
              "        0.37474651],\n",
              "       ...,\n",
              "       [0.62340842, 0.84480035, 0.64091576, ..., 0.67304935, 0.75472018,\n",
              "        0.74783024],\n",
              "       [0.58374143, 0.8263563 , 0.62355087, ..., 0.67524793, 0.70210346,\n",
              "        0.75187447],\n",
              "       [0.60078355, 0.83554818, 0.62495614, ..., 0.6658912 , 0.74305096,\n",
              "        0.7585284 ]])"
            ]
          },
          "metadata": {},
          "execution_count": 9
        }
      ]
    },
    {
      "cell_type": "code",
      "source": [
        "X_train, X_test, y_train, y_test = train_test_split(X, y, test_size=0.3)"
      ],
      "metadata": {
        "id": "dvrsen3cAPlY"
      },
      "execution_count": 10,
      "outputs": []
    },
    {
      "cell_type": "code",
      "source": [
        "X_test, X_val, y_test, y_val = train_test_split(X_test, y_test, test_size=0.5)"
      ],
      "metadata": {
        "id": "aw0eP3LdAxpf"
      },
      "execution_count": 11,
      "outputs": []
    },
    {
      "cell_type": "code",
      "source": [
        "X_test.shape"
      ],
      "metadata": {
        "colab": {
          "base_uri": "https://localhost:8080/"
        },
        "id": "OF6RKEziBAWI",
        "outputId": "c613bf41-8638-4d7d-bd3a-3aa4f065faea"
      },
      "execution_count": 12,
      "outputs": [
        {
          "output_type": "execute_result",
          "data": {
            "text/plain": [
              "(2728, 10)"
            ]
          },
          "metadata": {},
          "execution_count": 12
        }
      ]
    },
    {
      "cell_type": "markdown",
      "source": [
        "## Convert np dataset to pytorch dataset"
      ],
      "metadata": {
        "id": "pV-m2Q65BQaA"
      }
    },
    {
      "cell_type": "code",
      "source": [
        "class dataset(Dataset):\n",
        "  def __init__(self, X, Y):\n",
        "    self.X = torch.tensor(X, dtype=torch.float32).to(device)\n",
        "    self.Y = torch.tensor(Y, dtype=torch.float32).to(device)\n",
        "  def __len__(self):\n",
        "    return len(self.X)\n",
        "  def __getitem__(self, index):\n",
        "    return self.X[index], self.Y[index]"
      ],
      "metadata": {
        "id": "Pj4C5OriBC4y"
      },
      "execution_count": 13,
      "outputs": []
    },
    {
      "cell_type": "code",
      "source": [
        "training_data = dataset(X_train, y_train)\n",
        "validation_data = dataset(X_val, y_val)\n",
        "testing_data = dataset(X_test, y_test)"
      ],
      "metadata": {
        "id": "qyjEZafOCam9"
      },
      "execution_count": 14,
      "outputs": []
    },
    {
      "cell_type": "code",
      "source": [
        "BATCH_SIZE = 32\n",
        "EPOCHS = 10\n",
        "HIDDEN_NEURONS = 10\n",
        "LR = 1e-3"
      ],
      "metadata": {
        "id": "byyAY8lwn4lt"
      },
      "execution_count": 15,
      "outputs": []
    },
    {
      "cell_type": "code",
      "source": [
        "train_dataloader = DataLoader(training_data, batch_size=BATCH_SIZE, shuffle=True)\n",
        "validation_dataloader = DataLoader(validation_data, batch_size=BATCH_SIZE, shuffle=True)\n",
        "testing_dataloader = DataLoader(testing_data, batch_size=BATCH_SIZE, shuffle=True)"
      ],
      "metadata": {
        "id": "OSN71KSIC0iF"
      },
      "execution_count": 16,
      "outputs": []
    },
    {
      "cell_type": "markdown",
      "source": [
        "## Buiding the model"
      ],
      "metadata": {
        "id": "i0_P4EJtD2qL"
      }
    },
    {
      "cell_type": "code",
      "source": [
        "class MyModel(nn.Module):\n",
        "  def __init__(self):\n",
        "    super(MyModel, self).__init__()\n",
        "    self.input_layer = nn.Linear(X.shape[1], HIDDEN_NEURONS)\n",
        "    self.linear = nn.Linear(HIDDEN_NEURONS, 1)\n",
        "    self.sigmoid = nn.Sigmoid()\n",
        "\n",
        "  def forward(self, x):\n",
        "    x = self.input_layer(x)\n",
        "    x = self.linear(x)\n",
        "    x = self.sigmoid(x)\n",
        "    return x\n",
        "\n",
        "model = MyModel().to(device)"
      ],
      "metadata": {
        "id": "omEOtOTqD2Am"
      },
      "execution_count": 17,
      "outputs": []
    },
    {
      "cell_type": "code",
      "source": [
        "summary(model, (X.shape[1],))"
      ],
      "metadata": {
        "colab": {
          "base_uri": "https://localhost:8080/"
        },
        "id": "O3t3wGewDcBE",
        "outputId": "15f08358-4fa4-42d6-d561-df0556ec1bfc"
      },
      "execution_count": 18,
      "outputs": [
        {
          "output_type": "stream",
          "name": "stdout",
          "text": [
            "----------------------------------------------------------------\n",
            "        Layer (type)               Output Shape         Param #\n",
            "================================================================\n",
            "            Linear-1                   [-1, 10]             110\n",
            "            Linear-2                    [-1, 1]              11\n",
            "           Sigmoid-3                    [-1, 1]               0\n",
            "================================================================\n",
            "Total params: 121\n",
            "Trainable params: 121\n",
            "Non-trainable params: 0\n",
            "----------------------------------------------------------------\n",
            "Input size (MB): 0.00\n",
            "Forward/backward pass size (MB): 0.00\n",
            "Params size (MB): 0.00\n",
            "Estimated Total Size (MB): 0.00\n",
            "----------------------------------------------------------------\n"
          ]
        }
      ]
    },
    {
      "cell_type": "code",
      "source": [
        "criterion = nn.BCELoss() #binary cross entropy loss\n",
        "optimizer = Adam(model.parameters(), lr = LR)"
      ],
      "metadata": {
        "id": "UJ6c100jFW6w"
      },
      "execution_count": 19,
      "outputs": []
    },
    {
      "cell_type": "markdown",
      "source": [
        "## Training"
      ],
      "metadata": {
        "id": "exVBOfPzdE0W"
      }
    },
    {
      "cell_type": "code",
      "source": [
        "total_loss_train_plot = []\n",
        "total_loss_validation_plot = []\n",
        "total_acc_train_plot = []\n",
        "total_acc_validation_plot = []\n",
        "\n",
        "\n",
        "for epoch in range(EPOCHS):\n",
        "  total_acc_train = 0\n",
        "  total_loss_train = 0\n",
        "  total_acc_val = 0\n",
        "  total_loss_val = 0\n",
        "\n",
        "  for data in train_dataloader:\n",
        "    inputs, labels = data\n",
        "\n",
        "    prediction = model(inputs).squeeze(1) #will change prediction.shape -> [8,1] to prediction.shape -> [8]\n",
        "\n",
        "    batch_loss = criterion(prediction, labels)\n",
        "\n",
        "    total_loss_train += batch_loss.item()\n",
        "\n",
        "    acc = ((prediction).round() == labels).sum().item() #.item will give integer, .sum() will have the value along with tensor\n",
        "\n",
        "    total_acc_train += acc\n",
        "\n",
        "    batch_loss.backward()\n",
        "    optimizer.step() #we are saying optimizer take a step and change the steps\n",
        "    optimizer.zero_grad() #after the optimizer changes the weight in the batch, the optimizer restart again.\n",
        "\n",
        "  with torch.no_grad(): #use pytorch model not for training. Here no weights will changed\n",
        "    for data in validation_dataloader:\n",
        "      inputs, labels = data\n",
        "\n",
        "      prediction = model(inputs).squeeze(1)\n",
        "      batch_loss = criterion(prediction, labels)\n",
        "\n",
        "      total_loss_val += batch_loss.item()\n",
        "      acc = ((prediction).round() == labels).sum().item()\n",
        "\n",
        "      total_acc_val += acc\n",
        "  total_loss_train_plot.append(round(total_loss_train/1000, 4))\n",
        "  total_loss_validation_plot.append(round(total_loss_val/1000, 4))\n",
        "\n",
        "  total_acc_train_plot.append(round(total_acc_train/(training_data.__len__())* 100, 4))\n",
        "  total_acc_validation_plot.append(round(total_acc_val/(validation_data.__len__())* 100, 4))\n",
        "\n",
        "\n",
        "  print(f\"\"\"Epoch no. {epoch+1} Train Loss : {round(total_loss_train/1000, 4)} Train Accuray :{round(total_acc_train/(training_data.__len__()) * 100, 4)}\n",
        "          Validation loss : {round(total_loss_val/1000, 4)} Validation Accuracy : {round(total_acc_val/(validation_data.__len__()) * 100, 4)}\"\"\")\n",
        "\n",
        "  print(\"=\"*25)\n",
        "\n",
        "\n",
        "\n"
      ],
      "metadata": {
        "colab": {
          "base_uri": "https://localhost:8080/"
        },
        "id": "7htx6wQvHeXp",
        "outputId": "fcddc3bd-d6a4-4f54-f4f2-26db3c7270f7"
      },
      "execution_count": 20,
      "outputs": [
        {
          "output_type": "stream",
          "name": "stdout",
          "text": [
            "Epoch no. 1 Train Loss : 0.2434 Train Accuray :81.224\n",
            "          Validation loss : 0.0413 Validation Accuracy : 97.2141\n",
            "=========================\n",
            "Epoch no. 2 Train Loss : 0.1279 Train Accuray :98.146\n",
            "          Validation loss : 0.0173 Validation Accuracy : 97.9106\n",
            "=========================\n",
            "Epoch no. 3 Train Loss : 0.0575 Train Accuray :98.4524\n",
            "          Validation loss : 0.0095 Validation Accuracy : 98.1672\n",
            "=========================\n",
            "Epoch no. 4 Train Loss : 0.0355 Train Accuray :98.5623\n",
            "          Validation loss : 0.007 Validation Accuracy : 98.2038\n",
            "=========================\n",
            "Epoch no. 5 Train Loss : 0.027 Train Accuray :98.6016\n",
            "          Validation loss : 0.0057 Validation Accuracy : 98.4238\n",
            "=========================\n",
            "Epoch no. 6 Train Loss : 0.0226 Train Accuray :98.6959\n",
            "          Validation loss : 0.0049 Validation Accuracy : 98.4604\n",
            "=========================\n",
            "Epoch no. 7 Train Loss : 0.0202 Train Accuray :98.7273\n",
            "          Validation loss : 0.0045 Validation Accuracy : 98.5704\n",
            "=========================\n",
            "Epoch no. 8 Train Loss : 0.0187 Train Accuray :98.6723\n",
            "          Validation loss : 0.0043 Validation Accuracy : 98.607\n",
            "=========================\n",
            "Epoch no. 9 Train Loss : 0.0176 Train Accuray :98.7273\n",
            "          Validation loss : 0.0041 Validation Accuracy : 98.4238\n",
            "=========================\n",
            "Epoch no. 10 Train Loss : 0.0169 Train Accuray :98.688\n",
            "          Validation loss : 0.004 Validation Accuracy : 98.4604\n",
            "=========================\n"
          ]
        }
      ]
    },
    {
      "cell_type": "markdown",
      "source": [
        "## Testing"
      ],
      "metadata": {
        "id": "KG3vBDAekmm9"
      }
    },
    {
      "cell_type": "code",
      "source": [
        "with torch.no_grad():\n",
        "  total_loss_test = 0\n",
        "  total_acc_test = 0\n",
        "\n",
        "  for data in testing_dataloader:\n",
        "    inputs, labels = data\n",
        "\n",
        "    prediction = model(inputs).squeeze(1)\n",
        "\n",
        "    batch_loss_test = criterion(prediction, labels).item()\n",
        "    total_loss_test += batch_loss_test\n",
        "\n",
        "    acc = ((prediction).round() == labels).sum().item()\n",
        "\n",
        "    total_acc_test += acc\n",
        "\n",
        "print(\"Accuracy:\", round(total_acc_test/(testing_data.__len__()) * 100, 4))"
      ],
      "metadata": {
        "colab": {
          "base_uri": "https://localhost:8080/"
        },
        "id": "UEzyUlyEkURy",
        "outputId": "486d40a1-9ec3-4eea-836c-1945e172e08e"
      },
      "execution_count": 21,
      "outputs": [
        {
          "output_type": "stream",
          "name": "stdout",
          "text": [
            "Accuracy: 98.5337\n"
          ]
        }
      ]
    },
    {
      "cell_type": "code",
      "source": [
        "fig, axs = plt.subplots(nrows = 1, ncols = 2, figsize = (15,5))\n",
        "\n",
        "axs[0].plot(total_loss_train_plot, label=\"Training Loss\")\n",
        "axs[0].plot(total_loss_validation_plot, label=\"Validation Loss\")\n",
        "axs[0].set_title(\"Training and Validation loss over epochs\")\n",
        "axs[0].set_xlabel(\"Epochs\")\n",
        "axs[0].set_ylabel(\"Loss\")\n",
        "axs[0].set_ylim([0,2])\n",
        "axs[0].legend()\n",
        "\n",
        "\n",
        "axs[1].plot(total_acc_train_plot, label=\"Training Accuracy\")\n",
        "axs[1].plot(total_acc_validation_plot, label=\"Validation Accuracy\")\n",
        "axs[1].set_title(\"Training and Validation Accuracy over epochs\")\n",
        "axs[1].set_xlabel(\"Epochs\")\n",
        "axs[1].set_ylabel(\"Accuracy\")\n",
        "axs[1].set_ylim([0,100])\n",
        "axs[1].legend()\n",
        "\n",
        "plt.show()"
      ],
      "metadata": {
        "colab": {
          "base_uri": "https://localhost:8080/",
          "height": 391
        },
        "id": "TWmvidxjlwa0",
        "outputId": "647a8665-a981-493a-fb90-d6400e1a994c"
      },
      "execution_count": 22,
      "outputs": [
        {
          "output_type": "display_data",
          "data": {
            "text/plain": [
              "<Figure size 1500x500 with 2 Axes>"
            ],
            "image/png": "[encoded data removed]"
          },
          "metadata": {}
        }
      ]
    },
    {
      "cell_type": "markdown",
      "source": [
        "# The same problem for Production Approach"
      ],
      "metadata": {
        "id": "nz5Uj0qVWcBY"
      }
    },
    {
      "cell_type": "code",
      "source": [
        "!pip install torchmetrics --quiet"
      ],
      "metadata": {
        "colab": {
          "base_uri": "https://localhost:8080/"
        },
        "id": "9X_OgXjjWm_M",
        "outputId": "a00f376e-00fd-43fa-e4f0-79e03196b86f"
      },
      "execution_count": 23,
      "outputs": [
        {
          "output_type": "stream",
          "name": "stdout",
          "text": [
            "\u001b[?25l   \u001b[90m━━━━━━━━━━━━━━━━━━━━━━━━━━━━━━━━━━━━━━━━\u001b[0m \u001b[32m0.0/983.2 kB\u001b[0m \u001b[31m?\u001b[0m eta \u001b[36m-:--:--\u001b[0m\r\u001b[2K   \u001b[91m━━━━━━━━━━━━━━━━━━━━━━━━━━━━━━━━━━━━━━━\u001b[0m\u001b[91m╸\u001b[0m \u001b[32m983.0/983.2 kB\u001b[0m \u001b[31m41.2 MB/s\u001b[0m eta \u001b[36m0:00:01\u001b[0m\r\u001b[2K   \u001b[90m━━━━━━━━━━━━━━━━━━━━━━━━━━━━━━━━━━━━━━━━\u001b[0m \u001b[32m983.2/983.2 kB\u001b[0m \u001b[31m27.7 MB/s\u001b[0m eta \u001b[36m0:00:00\u001b[0m\n",
            "\u001b[?25h"
          ]
        }
      ]
    },
    {
      "cell_type": "code",
      "source": [
        "import torch\n",
        "import torch.nn as nn\n",
        "from torch.optim import Adam\n",
        "from torch.utils.data import TensorDataset, DataLoader\n",
        "import pandas as pd\n",
        "import numpy as np\n",
        "from sklearn.model_selection import train_test_split\n",
        "from sklearn.preprocessing import StandardScaler\n",
        "from sklearn.pipeline import Pipeline\n",
        "import torchmetrics  # For better metric calculation\n",
        "import matplotlib.pyplot as plt\n",
        "\n",
        "# Device setup\n",
        "device = 'cuda' if torch.cuda.is_available() else 'cpu'\n",
        "print(f\"Using device: {device}\")"
      ],
      "metadata": {
        "colab": {
          "base_uri": "https://localhost:8080/"
        },
        "id": "msxjJDvWrdsx",
        "outputId": "36b089bc-c49d-4ec1-8199-a359c4d7da7c"
      },
      "execution_count": 24,
      "outputs": [
        {
          "output_type": "stream",
          "name": "stdout",
          "text": [
            "Using device: cuda\n"
          ]
        }
      ]
    },
    {
      "cell_type": "markdown",
      "source": [
        "### Data loading and spliting"
      ],
      "metadata": {
        "id": "dQNBdH3NW3e3"
      }
    },
    {
      "cell_type": "code",
      "source": [
        "# Load\n",
        "data_df = pd.read_csv(\"/content/rice-type-classification/riceClassification.csv\")\n",
        "data_df = data_df.drop('id', axis=1)\n",
        "\n",
        "# Separate features (X) and target (y)\n",
        "X = data_df.drop('Class', axis=1)\n",
        "y = data_df['Class']\n",
        "\n",
        "# Create a 3-way split (Train, Validation, Test)\n",
        "# Note: stratify=y is CRITICAL. It ensures the class balance (55/45)\n",
        "# is preserved in all three of your splits.\n",
        "X_train, X_temp, y_train, y_temp = train_test_split(X, y, test_size=0.3, stratify=y, random_state=42)\n",
        "X_val, X_test, y_val, y_test = train_test_split(X_temp, y_temp, test_size=0.5, stratify=y_temp, random_state=42)\n",
        "\n",
        "print(f\"Train shape: {X_train.shape}, Val shape: {X_val.shape}, Test shape: {X_test.shape}\")"
      ],
      "metadata": {
        "colab": {
          "base_uri": "https://localhost:8080/"
        },
        "id": "K0pneWOnWh5e",
        "outputId": "d515b383-9ee7-45cc-d599-317026512fb1"
      },
      "execution_count": 25,
      "outputs": [
        {
          "output_type": "stream",
          "name": "stdout",
          "text": [
            "Train shape: (12729, 10), Val shape: (2728, 10), Test shape: (2728, 10)\n"
          ]
        }
      ]
    },
    {
      "cell_type": "markdown",
      "source": [
        "### Feature Engineering"
      ],
      "metadata": {
        "id": "kOjHPMlUXJ5Q"
      }
    },
    {
      "cell_type": "code",
      "source": [
        "# 1. Define the preprocessing pipeline\n",
        "#    For this data, we just need to scale all numeric features.\n",
        "preprocessor = Pipeline([\n",
        "    ('scaler', StandardScaler())\n",
        "])\n",
        "\n",
        "# 2. Fit the pipeline ONLY on the training data\n",
        "X_train_scaled = preprocessor.fit_transform(X_train)\n",
        "\n",
        "# 3. Transform the val and test data using the *same* (fitted) pipeline\n",
        "X_val_scaled = preprocessor.transform(X_val)\n",
        "X_test_scaled = preprocessor.transform(X_test)"
      ],
      "metadata": {
        "id": "ArojkMqEXBRX"
      },
      "execution_count": 26,
      "outputs": []
    },
    {
      "cell_type": "code",
      "source": [
        "print(type(y_train.values))\n",
        "print(type(y_train))\n",
        "print(type(X_t))"
      ],
      "metadata": {
        "colab": {
          "base_uri": "https://localhost:8080/"
        },
        "id": "lnBxS8i8vmqW",
        "outputId": "d7e7e661-7297-47f9-b31a-add10cc35cb4"
      },
      "execution_count": 31,
      "outputs": [
        {
          "output_type": "stream",
          "name": "stdout",
          "text": [
            "<class 'numpy.ndarray'>\n",
            "<class 'pandas.core.series.Series'>\n"
          ]
        }
      ]
    },
    {
      "cell_type": "markdown",
      "source": [
        "### Scalable Dataloaders"
      ],
      "metadata": {
        "id": "ws7OloZyXZ5d"
      }
    },
    {
      "cell_type": "code",
      "source": [
        "# Convert numpy arrays to torch tensors\n",
        "# We keep them as float32 for the model and long for the labels\n",
        "X_train_t = torch.tensor(X_train_scaled, dtype=torch.float32)\n",
        "y_train_t = torch.tensor(y_train.values, dtype=torch.float32)\n",
        "X_val_t = torch.tensor(X_val_scaled, dtype=torch.float32)\n",
        "y_val_t = torch.tensor(y_val.values, dtype=torch.float32)\n",
        "X_test_t = torch.tensor(X_test_scaled, dtype=torch.float32)\n",
        "y_test_t = torch.tensor(y_test.values, dtype=torch.float32)\n",
        "\n",
        "# Create TensorDatasets\n",
        "train_dataset = TensorDataset(X_train_t, y_train_t)\n",
        "val_dataset = TensorDataset(X_val_t, y_val_t)\n",
        "test_dataset = TensorDataset(X_test_t, y_test_t)\n",
        "\n",
        "# Create DataLoaders\n",
        "BATCH_SIZE = 32\n",
        "train_loader = DataLoader(train_dataset, batch_size=BATCH_SIZE, shuffle=True)\n",
        "val_loader = DataLoader(val_dataset, batch_size=BATCH_SIZE, shuffle=False)\n",
        "test_loader = DataLoader(test_dataset, batch_size=BATCH_SIZE, shuffle=False)"
      ],
      "metadata": {
        "id": "Qd_h58WZXMkJ"
      },
      "execution_count": 32,
      "outputs": []
    },
    {
      "cell_type": "markdown",
      "source": [
        "### Production Model"
      ],
      "metadata": {
        "id": "qzwKQWk8X13E"
      }
    },
    {
      "cell_type": "code",
      "source": [
        "class ProductionModel(nn.Module):\n",
        "    def __init__(self, input_features, hidden_units):\n",
        "        super().__init__()\n",
        "        self.layer_stack = nn.Sequential(\n",
        "            nn.Linear(input_features, hidden_units),\n",
        "            nn.ReLU(),  # <--- Added Non-linearity\n",
        "            nn.Dropout(0.3),  # <--- Added Regularization\n",
        "            nn.Linear(hidden_units, hidden_units // 2),\n",
        "            nn.ReLU(),\n",
        "            nn.Dropout(0.2),\n",
        "            nn.Linear(hidden_units // 2, 1) # <--- Output is raw logits\n",
        "        )\n",
        "\n",
        "    def forward(self, x):\n",
        "        return self.layer_stack(x)\n",
        "\n",
        "# Note: X_train_scaled.shape[1] is the number of input features (10)\n",
        "model = ProductionModel(\n",
        "    input_features=X_train_scaled.shape[1],\n",
        "    hidden_units=64  # Let's try a larger model\n",
        ").to(device)\n",
        "\n",
        "summary(model, (X_train_scaled.shape[1],))"
      ],
      "metadata": {
        "colab": {
          "base_uri": "https://localhost:8080/"
        },
        "id": "23zuXlDaX4BY",
        "outputId": "688bce0e-fbaa-40da-f96a-21b0444b2413"
      },
      "execution_count": 33,
      "outputs": [
        {
          "output_type": "stream",
          "name": "stdout",
          "text": [
            "----------------------------------------------------------------\n",
            "        Layer (type)               Output Shape         Param #\n",
            "================================================================\n",
            "            Linear-1                   [-1, 64]             704\n",
            "              ReLU-2                   [-1, 64]               0\n",
            "           Dropout-3                   [-1, 64]               0\n",
            "            Linear-4                   [-1, 32]           2,080\n",
            "              ReLU-5                   [-1, 32]               0\n",
            "           Dropout-6                   [-1, 32]               0\n",
            "            Linear-7                    [-1, 1]              33\n",
            "================================================================\n",
            "Total params: 2,817\n",
            "Trainable params: 2,817\n",
            "Non-trainable params: 0\n",
            "----------------------------------------------------------------\n",
            "Input size (MB): 0.00\n",
            "Forward/backward pass size (MB): 0.00\n",
            "Params size (MB): 0.01\n",
            "Estimated Total Size (MB): 0.01\n",
            "----------------------------------------------------------------\n"
          ]
        }
      ]
    },
    {
      "cell_type": "code",
      "source": [
        "# --- Hyperparameters ---\n",
        "EPOCHS = 20\n",
        "LR = 0.001\n",
        "\n",
        "# --- Loss and Optimizer ---\n",
        "# USE BCEWithLogitsLoss. It's numerically more stable than\n",
        "# a separate Sigmoid layer + BCELoss. It expects RAW LOGITS.\n",
        "criterion = nn.BCEWithLogitsLoss()\n",
        "optimizer = Adam(model.parameters(), lr=LR)\n",
        "\n",
        "# --- Metrics ---\n",
        "# Use torchmetrics for reliable accuracy\n",
        "train_acc = torchmetrics.Accuracy(task=\"binary\").to(device)\n",
        "val_acc = torchmetrics.Accuracy(task=\"binary\").to(device)\n",
        "\n",
        "# --- History ---\n",
        "history = {\"train_loss\": [], \"train_acc\": [], \"val_loss\": [], \"val_acc\": []}\n",
        "\n",
        "\n",
        "for epoch in range(EPOCHS):\n",
        "    # --- Training ---\n",
        "    model.train() # <--- Set model to TRAINING mode (enables Dropout)\n",
        "    train_loss = 0\n",
        "    for X_batch, y_batch in train_loader:\n",
        "        # Move THIS BATCH to the device\n",
        "        X_batch, y_batch = X_batch.to(device), y_batch.to(device).unsqueeze(1)\n",
        "\n",
        "        # 1. Forward pass\n",
        "        y_logits = model(X_batch)\n",
        "\n",
        "        # 2. Calculate loss\n",
        "        loss = criterion(y_logits, y_batch)\n",
        "        train_loss += loss.item()\n",
        "\n",
        "        # 3. Optimizer zero grad\n",
        "        optimizer.zero_grad()\n",
        "\n",
        "        # 4. Loss backward\n",
        "        loss.backward()\n",
        "\n",
        "        # 5. Optimizer step\n",
        "        optimizer.step()\n",
        "\n",
        "        # 6. Update accuracy\n",
        "        train_acc.update(y_logits, y_batch)\n",
        "\n",
        "    # Calculate average loss and acc for the epoch\n",
        "    avg_train_loss = train_loss / len(train_loader)\n",
        "    epoch_train_acc = train_acc.compute()\n",
        "    train_acc.reset() # Reset for next epoch\n",
        "\n",
        "    # --- Validation ---\n",
        "    model.eval() # <--- Set model to EVALUATION mode (disables Dropout)\n",
        "    val_loss = 0\n",
        "    with torch.no_grad():\n",
        "        for X_batch_val, y_batch_val in val_loader:\n",
        "            X_batch_val, y_batch_val = X_batch_val.to(device), y_batch_val.to(device).unsqueeze(1)\n",
        "\n",
        "            y_val_logits = model(X_batch_val)\n",
        "            loss = criterion(y_val_logits, y_batch_val)\n",
        "            val_loss += loss.item()\n",
        "            val_acc.update(y_val_logits, y_batch_val)\n",
        "\n",
        "    avg_val_loss = val_loss / len(val_loader)\n",
        "    epoch_val_acc = val_acc.compute()\n",
        "    val_acc.reset()\n",
        "\n",
        "    print(f\"Epoch {epoch+1}/{EPOCHS} | \"\n",
        "          f\"Train Loss: {avg_train_loss:.4f}, Train Acc: {epoch_train_acc:.4f} | \"\n",
        "          f\"Val Loss: {avg_val_loss:.4f}, Val Acc: {epoch_val_acc:.4f}\")\n",
        "\n",
        "    history[\"train_loss\"].append(avg_train_loss)\n",
        "    history[\"train_acc\"].append(epoch_train_acc.item())\n",
        "    history[\"val_loss\"].append(avg_val_loss)\n",
        "    history[\"val_acc\"].append(epoch_val_acc.item())"
      ],
      "metadata": {
        "colab": {
          "base_uri": "https://localhost:8080/"
        },
        "id": "sjhnQzf9X4wK",
        "outputId": "78b6d009-8db7-436e-99bb-5124ec1d27ab"
      },
      "execution_count": 33,
      "outputs": [
        {
          "output_type": "stream",
          "name": "stdout",
          "text": [
            "Epoch 1/20 | Train Loss: 0.4944, Train Acc: 0.9795 | Val Loss: 0.4932, Val Acc: 0.9835\n",
            "Epoch 2/20 | Train Loss: 0.4935, Train Acc: 0.9831 | Val Loss: 0.4921, Val Acc: 0.9857\n",
            "Epoch 3/20 | Train Loss: 0.4932, Train Acc: 0.9837 | Val Loss: 0.4916, Val Acc: 0.9872\n",
            "Epoch 4/20 | Train Loss: 0.4928, Train Acc: 0.9841 | Val Loss: 0.4917, Val Acc: 0.9864\n",
            "Epoch 5/20 | Train Loss: 0.4926, Train Acc: 0.9845 | Val Loss: 0.4913, Val Acc: 0.9879\n",
            "Epoch 6/20 | Train Loss: 0.4923, Train Acc: 0.9852 | Val Loss: 0.4913, Val Acc: 0.9872\n",
            "Epoch 7/20 | Train Loss: 0.4921, Train Acc: 0.9852 | Val Loss: 0.4912, Val Acc: 0.9879\n",
            "Epoch 8/20 | Train Loss: 0.4920, Train Acc: 0.9855 | Val Loss: 0.4910, Val Acc: 0.9886\n",
            "Epoch 9/20 | Train Loss: 0.4918, Train Acc: 0.9857 | Val Loss: 0.4910, Val Acc: 0.9879\n",
            "Epoch 10/20 | Train Loss: 0.4917, Train Acc: 0.9857 | Val Loss: 0.4911, Val Acc: 0.9879\n",
            "Epoch 11/20 | Train Loss: 0.4915, Train Acc: 0.9862 | Val Loss: 0.4913, Val Acc: 0.9868\n",
            "Epoch 12/20 | Train Loss: 0.4916, Train Acc: 0.9859 | Val Loss: 0.4911, Val Acc: 0.9883\n",
            "Epoch 13/20 | Train Loss: 0.4915, Train Acc: 0.9862 | Val Loss: 0.4911, Val Acc: 0.9883\n",
            "Epoch 14/20 | Train Loss: 0.4913, Train Acc: 0.9865 | Val Loss: 0.4910, Val Acc: 0.9875\n",
            "Epoch 15/20 | Train Loss: 0.4912, Train Acc: 0.9865 | Val Loss: 0.4910, Val Acc: 0.9875\n",
            "Epoch 16/20 | Train Loss: 0.4912, Train Acc: 0.9870 | Val Loss: 0.4911, Val Acc: 0.9872\n",
            "Epoch 17/20 | Train Loss: 0.4911, Train Acc: 0.9869 | Val Loss: 0.4910, Val Acc: 0.9868\n",
            "Epoch 18/20 | Train Loss: 0.4911, Train Acc: 0.9870 | Val Loss: 0.4910, Val Acc: 0.9868\n",
            "Epoch 19/20 | Train Loss: 0.4910, Train Acc: 0.9871 | Val Loss: 0.4909, Val Acc: 0.9868\n",
            "Epoch 20/20 | Train Loss: 0.4910, Train Acc: 0.9872 | Val Loss: 0.4908, Val Acc: 0.9875\n"
          ]
        }
      ]
    },
    {
      "cell_type": "code",
      "source": [
        "# Plot the history\n",
        "fig, axs = plt.subplots(nrows=1, ncols=2, figsize=(15, 5))\n",
        "\n",
        "axs[0].plot(history['train_loss'], label=\"Training Loss\")\n",
        "axs[0].plot(history['val_loss'], label=\"Validation Loss\")\n",
        "axs[0].set_title(\"Loss over Epochs\")\n",
        "axs[0].legend()\n",
        "\n",
        "axs[1].plot(history['train_acc'], label=\"Training Accuracy\")\n",
        "axs[1].plot(history['val_acc'], label=\"Validation Accuracy\")\n",
        "axs[1].set_title(\"Accuracy over Epochs\")\n",
        "axs[1].legend()\n",
        "\n",
        "plt.show()\n",
        "\n",
        "# --- Final Test ---\n",
        "# Evaluate the model on the unseen test set\n",
        "test_acc = torchmetrics.Accuracy(task=\"binary\").to(device)\n",
        "model.eval()\n",
        "with torch.no_grad():\n",
        "    for X_batch_test, y_batch_test in test_loader:\n",
        "        X_batch_test, y_batch_test = X_batch_test.to(device), y_batch_test.to(device).unsqueeze(1)\n",
        "        y_test_logits = model(X_batch_test)\n",
        "        test_acc.update(y_test_logits, y_batch_test)\n",
        "\n",
        "final_test_accuracy = test_acc.compute()\n",
        "print(f\"Final Test Accuracy: {final_test_accuracy.item():.4f}\")"
      ],
      "metadata": {
        "colab": {
          "base_uri": "https://localhost:8080/",
          "height": 395
        },
        "id": "aYBvqoXoX4uF",
        "outputId": "0bed5415-c830-43f3-8dee-38e64a8774ce"
      },
      "execution_count": 34,
      "outputs": [
        {
          "output_type": "display_data",
          "data": {
            "text/plain": [
              "<Figure size 1500x500 with 2 Axes>"
            ],
            "image/png": "[encoded data removed]"
          },
          "metadata": {}
        },
        {
          "output_type": "stream",
          "name": "stdout",
          "text": [
            "Final Test Accuracy: 0.9905\n"
          ]
        }
      ]
    },
    {
      "cell_type": "code",
      "source": [],
      "metadata": {
        "id": "LXz5gfFNX4ru"
      },
      "execution_count": null,
      "outputs": []
    },
    {
      "cell_type": "markdown",
      "source": [
        "# Tensorflow Production flow"
      ],
      "metadata": {
        "id": "Zy5pZIjbDeiv"
      }
    },
    {
      "cell_type": "code",
      "source": [
        "import pandas as pd\n",
        "import numpy as np\n",
        "import tensorflow as tf\n",
        "from tensorflow import keras\n",
        "from tensorflow.keras import layers\n",
        "from sklearn.model_selection import train_test_split\n",
        "from sklearn.preprocessing import StandardScaler\n",
        "from sklearn.pipeline import Pipeline\n",
        "import joblib  # For saving the sklearn preprocessor\n",
        "import matplotlib.pyplot as plt\n",
        "\n",
        "# Check for GPU\n",
        "print(\"TensorFlow version:\", tf.__version__)\n",
        "print(\"Num GPUs Available: \", len(tf.config.list_physical_devices('GPU')))"
      ],
      "metadata": {
        "colab": {
          "base_uri": "https://localhost:8080/"
        },
        "id": "kTrA2sAWX4po",
        "outputId": "f9856f6f-6470-4e2a-83be-4e511c83fdbc"
      },
      "execution_count": 35,
      "outputs": [
        {
          "output_type": "stream",
          "name": "stdout",
          "text": [
            "TensorFlow version: 2.19.0\n",
            "Num GPUs Available:  1\n"
          ]
        }
      ]
    },
    {
      "cell_type": "code",
      "source": [
        "# Load\n",
        "data_df = pd.read_csv(\"/content/rice-type-classification/riceClassification.csv\")\n",
        "data_df = data_df.drop('id', axis=1)\n",
        "\n",
        "# Separate features (X) and target (y)\n",
        "X = data_df.drop('Class', axis=1)\n",
        "y = data_df['Class']\n",
        "\n",
        "# Create a 3-way split (Train, Validation, Test)\n",
        "X_train, X_temp, y_train, y_temp = train_test_split(\n",
        "    X, y, test_size=0.3, stratify=y, random_state=42\n",
        ")\n",
        "X_val, X_test, y_val, y_test = train_test_split(\n",
        "    X_temp, y_temp, test_size=0.5, stratify=y_temp, random_state=42\n",
        ")"
      ],
      "metadata": {
        "id": "yYkNkDupX4nY"
      },
      "execution_count": 36,
      "outputs": []
    },
    {
      "cell_type": "markdown",
      "source": [
        "## Preprocessing"
      ],
      "metadata": {
        "id": "M7qHUGVqDzF2"
      }
    },
    {
      "cell_type": "code",
      "source": [
        "# 1. Define the preprocessing pipeline\n",
        "preprocessor = Pipeline([\n",
        "    ('scaler', StandardScaler())\n",
        "])\n",
        "\n",
        "# 2. Fit the pipeline ONLY on the training data\n",
        "X_train_scaled = preprocessor.fit_transform(X_train)\n",
        "\n",
        "# 3. Transform the val and test data\n",
        "X_val_scaled = preprocessor.transform(X_val)\n",
        "X_test_scaled = preprocessor.transform(X_test)"
      ],
      "metadata": {
        "id": "l5W01ULODvUW"
      },
      "execution_count": 37,
      "outputs": []
    },
    {
      "cell_type": "markdown",
      "source": [
        "## Keras Model subclassing"
      ],
      "metadata": {
        "id": "BbBeP8BmEBhT"
      }
    },
    {
      "cell_type": "code",
      "source": [
        "class ProductionModel(keras.Model):\n",
        "    def __init__(self, input_features, hidden_units):\n",
        "        super().__init__()\n",
        "        # Define the layers in the constructor\n",
        "        self.dense1 = layers.Dense(hidden_units, activation=\"relu\")\n",
        "        self.dropout1 = layers.Dropout(0.3)\n",
        "        self.dense2 = layers.Dense(hidden_units // 2, activation=\"relu\")\n",
        "        self.dropout2 = layers.Dropout(0.2)\n",
        "        # Final output layer: 1 unit, NO activation (outputs logits)\n",
        "        self.output_layer = layers.Dense(1)\n",
        "\n",
        "    def call(self, x, training=False):\n",
        "        # Define the forward pass in the 'call' method\n",
        "        x = self.dense1(x)\n",
        "        # The 'training' flag is crucial for Dropout\n",
        "        # It tells Dropout to be active during training and inactive during inference\n",
        "        x = self.dropout1(x, training=training)\n",
        "        x = self.dense2(x)\n",
        "        x = self.dropout2(x, training=training)\n",
        "        return self.output_layer(x)\n",
        "\n",
        "# --- Hyperparameters ---\n",
        "INPUT_FEATURES = X_train_scaled.shape[1] # 10\n",
        "HIDDEN_UNITS = 64\n",
        "EPOCHS = 20\n",
        "BATCH_SIZE = 32\n",
        "LEARNING_RATE = 0.001\n",
        "\n",
        "# Instantiate the model\n",
        "model = ProductionModel(input_features=INPUT_FEATURES, hidden_units=HIDDEN_UNITS)\n",
        "\n",
        "# You can even build it and see a summary\n",
        "model.build(input_shape=(None, INPUT_FEATURES))\n",
        "model.summary()"
      ],
      "metadata": {
        "colab": {
          "base_uri": "https://localhost:8080/",
          "height": 353
        },
        "id": "dR6BLF4gD2_X",
        "outputId": "32b34575-bc47-4e31-b337-310427e8a2f7"
      },
      "execution_count": 38,
      "outputs": [
        {
          "output_type": "stream",
          "name": "stderr",
          "text": [
            "/usr/local/lib/python3.12/dist-packages/keras/src/layers/layer.py:421: UserWarning: `build()` was called on layer 'production_model', however the layer does not have a `build()` method implemented and it looks like it has unbuilt state. This will cause the layer to be marked as built, despite not being actually built, which may cause failures down the line. Make sure to implement a proper `build()` method.\n",
            "  warnings.warn(\n"
          ]
        },
        {
          "output_type": "display_data",
          "data": {
            "text/plain": [
              "\u001b[1mModel: \"production_model\"\u001b[0m\n"
            ],
            "text/html": [
              "<pre style=\"white-space:pre;overflow-x:auto;line-height:normal;font-family:Menlo,'DejaVu Sans Mono',consolas,'Courier New',monospace\"><span style=\"font-weight: bold\">Model: \"production_model\"</span>\n",
              "</pre>\n"
            ]
          },
          "metadata": {}
        },
        {
          "output_type": "display_data",
          "data": {
            "text/plain": [
              "┏━━━━━━━━━━━━━━━━━━━━━━━━━━━━━━━━━┳━━━━━━━━━━━━━━━━━━━━━━━━┳━━━━━━━━━━━━━━━┓\n",
              "┃\u001b[1m \u001b[0m\u001b[1mLayer (type)                   \u001b[0m\u001b[1m \u001b[0m┃\u001b[1m \u001b[0m\u001b[1mOutput Shape          \u001b[0m\u001b[1m \u001b[0m┃\u001b[1m \u001b[0m\u001b[1m      Param #\u001b[0m\u001b[1m \u001b[0m┃\n",
              "┡━━━━━━━━━━━━━━━━━━━━━━━━━━━━━━━━━╇━━━━━━━━━━━━━━━━━━━━━━━━╇━━━━━━━━━━━━━━━┩\n",
              "│ dense (\u001b[38;5;33mDense\u001b[0m)                   │ ?                      │   \u001b[38;5;34m0\u001b[0m (unbuilt) │\n",
              "├─────────────────────────────────┼────────────────────────┼───────────────┤\n",
              "│ dropout (\u001b[38;5;33mDropout\u001b[0m)               │ ?                      │             \u001b[38;5;34m0\u001b[0m │\n",
              "├─────────────────────────────────┼────────────────────────┼───────────────┤\n",
              "│ dense_1 (\u001b[38;5;33mDense\u001b[0m)                 │ ?                      │   \u001b[38;5;34m0\u001b[0m (unbuilt) │\n",
              "├─────────────────────────────────┼────────────────────────┼───────────────┤\n",
              "│ dropout_1 (\u001b[38;5;33mDropout\u001b[0m)             │ ?                      │             \u001b[38;5;34m0\u001b[0m │\n",
              "├─────────────────────────────────┼────────────────────────┼───────────────┤\n",
              "│ dense_2 (\u001b[38;5;33mDense\u001b[0m)                 │ ?                      │   \u001b[38;5;34m0\u001b[0m (unbuilt) │\n",
              "└─────────────────────────────────┴────────────────────────┴───────────────┘\n"
            ],
            "text/html": [
              "<pre style=\"white-space:pre;overflow-x:auto;line-height:normal;font-family:Menlo,'DejaVu Sans Mono',consolas,'Courier New',monospace\">┏━━━━━━━━━━━━━━━━━━━━━━━━━━━━━━━━━┳━━━━━━━━━━━━━━━━━━━━━━━━┳━━━━━━━━━━━━━━━┓\n",
              "┃<span style=\"font-weight: bold\"> Layer (type)                    </span>┃<span style=\"font-weight: bold\"> Output Shape           </span>┃<span style=\"font-weight: bold\">       Param # </span>┃\n",
              "┡━━━━━━━━━━━━━━━━━━━━━━━━━━━━━━━━━╇━━━━━━━━━━━━━━━━━━━━━━━━╇━━━━━━━━━━━━━━━┩\n",
              "│ dense (<span style=\"color: #0087ff; text-decoration-color: #0087ff\">Dense</span>)                   │ ?                      │   <span style=\"color: #00af00; text-decoration-color: #00af00\">0</span> (unbuilt) │\n",
              "├─────────────────────────────────┼────────────────────────┼───────────────┤\n",
              "│ dropout (<span style=\"color: #0087ff; text-decoration-color: #0087ff\">Dropout</span>)               │ ?                      │             <span style=\"color: #00af00; text-decoration-color: #00af00\">0</span> │\n",
              "├─────────────────────────────────┼────────────────────────┼───────────────┤\n",
              "│ dense_1 (<span style=\"color: #0087ff; text-decoration-color: #0087ff\">Dense</span>)                 │ ?                      │   <span style=\"color: #00af00; text-decoration-color: #00af00\">0</span> (unbuilt) │\n",
              "├─────────────────────────────────┼────────────────────────┼───────────────┤\n",
              "│ dropout_1 (<span style=\"color: #0087ff; text-decoration-color: #0087ff\">Dropout</span>)             │ ?                      │             <span style=\"color: #00af00; text-decoration-color: #00af00\">0</span> │\n",
              "├─────────────────────────────────┼────────────────────────┼───────────────┤\n",
              "│ dense_2 (<span style=\"color: #0087ff; text-decoration-color: #0087ff\">Dense</span>)                 │ ?                      │   <span style=\"color: #00af00; text-decoration-color: #00af00\">0</span> (unbuilt) │\n",
              "└─────────────────────────────────┴────────────────────────┴───────────────┘\n",
              "</pre>\n"
            ]
          },
          "metadata": {}
        },
        {
          "output_type": "display_data",
          "data": {
            "text/plain": [
              "\u001b[1m Total params: \u001b[0m\u001b[38;5;34m0\u001b[0m (0.00 B)\n"
            ],
            "text/html": [
              "<pre style=\"white-space:pre;overflow-x:auto;line-height:normal;font-family:Menlo,'DejaVu Sans Mono',consolas,'Courier New',monospace\"><span style=\"font-weight: bold\"> Total params: </span><span style=\"color: #00af00; text-decoration-color: #00af00\">0</span> (0.00 B)\n",
              "</pre>\n"
            ]
          },
          "metadata": {}
        },
        {
          "output_type": "display_data",
          "data": {
            "text/plain": [
              "\u001b[1m Trainable params: \u001b[0m\u001b[38;5;34m0\u001b[0m (0.00 B)\n"
            ],
            "text/html": [
              "<pre style=\"white-space:pre;overflow-x:auto;line-height:normal;font-family:Menlo,'DejaVu Sans Mono',consolas,'Courier New',monospace\"><span style=\"font-weight: bold\"> Trainable params: </span><span style=\"color: #00af00; text-decoration-color: #00af00\">0</span> (0.00 B)\n",
              "</pre>\n"
            ]
          },
          "metadata": {}
        },
        {
          "output_type": "display_data",
          "data": {
            "text/plain": [
              "\u001b[1m Non-trainable params: \u001b[0m\u001b[38;5;34m0\u001b[0m (0.00 B)\n"
            ],
            "text/html": [
              "<pre style=\"white-space:pre;overflow-x:auto;line-height:normal;font-family:Menlo,'DejaVu Sans Mono',consolas,'Courier New',monospace\"><span style=\"font-weight: bold\"> Non-trainable params: </span><span style=\"color: #00af00; text-decoration-color: #00af00\">0</span> (0.00 B)\n",
              "</pre>\n"
            ]
          },
          "metadata": {}
        }
      ]
    },
    {
      "cell_type": "markdown",
      "source": [
        "## Dataloader to Tensorflow"
      ],
      "metadata": {
        "id": "f3K2ygseEMVz"
      }
    },
    {
      "cell_type": "code",
      "source": [
        "# Create tf.data.Dataset objects\n",
        "# from_tensor_slices is perfect for in-memory data\n",
        "train_dataset = tf.data.Dataset.from_tensor_slices((X_train_scaled, y_train.values))\n",
        "val_dataset = tf.data.Dataset.from_tensor_slices((X_val_scaled, y_val.values))\n",
        "test_dataset = tf.data.Dataset.from_tensor_slices((X_test_scaled, y_test.values))\n",
        "\n",
        "# Optimize the pipelines\n",
        "train_dataset = train_dataset.shuffle(buffer_size=len(X_train_scaled))\\\n",
        "                             .batch(BATCH_SIZE)\\\n",
        "                             .prefetch(tf.data.AUTOTUNE)\n",
        "\n",
        "val_dataset = val_dataset.batch(BATCH_SIZE)\\\n",
        "                           .prefetch(tf.data.AUTOTUNE)\n",
        "\n",
        "test_dataset = test_dataset.batch(BATCH_SIZE)\\\n",
        "                            .prefetch(tf.data.AUTOTUNE)"
      ],
      "metadata": {
        "id": "A-iwjkIWEFHH"
      },
      "execution_count": 39,
      "outputs": []
    },
    {
      "cell_type": "markdown",
      "source": [
        "## Keras Training loop"
      ],
      "metadata": {
        "id": "j9nUWS1oEVKo"
      }
    },
    {
      "cell_type": "code",
      "source": [
        "# --- Loss, Optimizer, and Metrics ---\n",
        "\n",
        "# 1. Loss: The direct equivalent of nn.BCEWithLogitsLoss\n",
        "# It expects raw logits from the model.\n",
        "loss_fn = tf.keras.losses.BinaryCrossentropy(from_logits=True)\n",
        "\n",
        "# 2. Optimizer:\n",
        "optimizer = tf.keras.optimizers.Adam(learning_rate=LEARNING_RATE)\n",
        "\n",
        "# 3. Metrics: Keras objects to track state\n",
        "train_acc_metric = tf.keras.metrics.BinaryAccuracy()\n",
        "val_acc_metric = tf.keras.metrics.BinaryAccuracy()\n",
        "train_loss_metric = tf.keras.metrics.Mean()\n",
        "val_loss_metric = tf.keras.metrics.Mean()\n",
        "\n",
        "# Use @tf.function to compile these steps into a high-performance graph\n",
        "@tf.function\n",
        "def train_step(x, y):\n",
        "    with tf.GradientTape() as tape:\n",
        "        # Get logits, making sure to set training=True for Dropout\n",
        "        logits = model(x, training=True)\n",
        "        # Ensure y has the same shape as logits [batch, 1]\n",
        "        y_true = tf.expand_dims(tf.cast(y, tf.float32), axis=1)\n",
        "        # Calculate loss\n",
        "        loss = loss_fn(y_true, logits)\n",
        "\n",
        "    # Calculate gradients and update weights\n",
        "    grads = tape.gradient(loss, model.trainable_weights)\n",
        "    optimizer.apply_gradients(zip(grads, model.trainable_weights))\n",
        "\n",
        "    # Update metrics\n",
        "    # We apply sigmoid here *only for the accuracy metric*\n",
        "    train_acc_metric.update_state(y_true, tf.nn.sigmoid(logits))\n",
        "    train_loss_metric.update_state(loss)\n",
        "    return loss\n",
        "\n",
        "@tf.function\n",
        "def val_step(x, y):\n",
        "    # Get logits, setting training=False to disable Dropout\n",
        "    val_logits = model(x, training=False)\n",
        "    y_true = tf.expand_dims(tf.cast(y, tf.float32), axis=1)\n",
        "\n",
        "    # Calculate loss and update metrics\n",
        "    loss = loss_fn(y_true, val_logits)\n",
        "    val_acc_metric.update_state(y_true, tf.nn.sigmoid(val_logits))\n",
        "    val_loss_metric.update_state(loss)\n",
        "\n",
        "# --- The Main Loop ---\n",
        "history = {\"train_loss\": [], \"train_acc\": [], \"val_loss\": [], \"val_acc\": []}\n",
        "\n",
        "for epoch in range(EPOCHS):\n",
        "    # --- Training ---\n",
        "    for x_batch, y_batch in train_dataset:\n",
        "        train_step(x_batch, y_batch)\n",
        "\n",
        "    # --- Validation ---\n",
        "    for x_batch_val, y_batch_val in val_dataset:\n",
        "        val_step(x_batch_val, y_batch_val)\n",
        "\n",
        "    # Get and print results\n",
        "    train_loss = train_loss_metric.result()\n",
        "    train_acc = train_acc_metric.result()\n",
        "    val_loss = val_loss_metric.result()\n",
        "    val_acc = val_acc_metric.result()\n",
        "\n",
        "    print(f\"Epoch {epoch+1}/{EPOCHS} | \"\n",
        "          f\"Train Loss: {train_loss:.4f}, Train Acc: {train_acc:.4f} | \"\n",
        "          f\"Val Loss: {val_loss:.4f}, Val Acc: {val_acc:.4f}\")\n",
        "\n",
        "    # Save history\n",
        "    history[\"train_loss\"].append(train_loss)\n",
        "    history[\"train_acc\"].append(train_acc)\n",
        "    history[\"val_loss\"].append(val_loss)\n",
        "    history[\"val_acc\"].append(val_acc)\n",
        "\n",
        "    # Reset metrics for the next epoch!\n",
        "    train_acc_metric.reset_state()\n",
        "    val_acc_metric.reset_state()\n",
        "    train_loss_metric.reset_state()\n",
        "    val_loss_metric.reset_state()"
      ],
      "metadata": {
        "colab": {
          "base_uri": "https://localhost:8080/"
        },
        "id": "DIPMMKf9EPNK",
        "outputId": "3e14a653-be87-495e-a550-80dac6067ef0"
      },
      "execution_count": 41,
      "outputs": [
        {
          "output_type": "stream",
          "name": "stdout",
          "text": [
            "Epoch 1/20 | Train Loss: 0.0396, Train Acc: 0.9865 | Val Loss: 0.0335, Val Acc: 0.9890\n",
            "Epoch 2/20 | Train Loss: 0.0381, Train Acc: 0.9871 | Val Loss: 0.0333, Val Acc: 0.9901\n",
            "Epoch 3/20 | Train Loss: 0.0365, Train Acc: 0.9888 | Val Loss: 0.0333, Val Acc: 0.9905\n",
            "Epoch 4/20 | Train Loss: 0.0376, Train Acc: 0.9882 | Val Loss: 0.0324, Val Acc: 0.9905\n",
            "Epoch 5/20 | Train Loss: 0.0361, Train Acc: 0.9881 | Val Loss: 0.0327, Val Acc: 0.9897\n",
            "Epoch 6/20 | Train Loss: 0.0353, Train Acc: 0.9889 | Val Loss: 0.0325, Val Acc: 0.9901\n",
            "Epoch 7/20 | Train Loss: 0.0346, Train Acc: 0.9883 | Val Loss: 0.0324, Val Acc: 0.9905\n",
            "Epoch 8/20 | Train Loss: 0.0350, Train Acc: 0.9889 | Val Loss: 0.0319, Val Acc: 0.9908\n",
            "Epoch 9/20 | Train Loss: 0.0335, Train Acc: 0.9891 | Val Loss: 0.0326, Val Acc: 0.9897\n",
            "Epoch 10/20 | Train Loss: 0.0343, Train Acc: 0.9886 | Val Loss: 0.0329, Val Acc: 0.9897\n",
            "Epoch 11/20 | Train Loss: 0.0335, Train Acc: 0.9892 | Val Loss: 0.0335, Val Acc: 0.9897\n",
            "Epoch 12/20 | Train Loss: 0.0341, Train Acc: 0.9891 | Val Loss: 0.0324, Val Acc: 0.9897\n",
            "Epoch 13/20 | Train Loss: 0.0338, Train Acc: 0.9886 | Val Loss: 0.0325, Val Acc: 0.9890\n",
            "Epoch 14/20 | Train Loss: 0.0322, Train Acc: 0.9899 | Val Loss: 0.0323, Val Acc: 0.9894\n",
            "Epoch 15/20 | Train Loss: 0.0328, Train Acc: 0.9895 | Val Loss: 0.0323, Val Acc: 0.9912\n",
            "Epoch 16/20 | Train Loss: 0.0325, Train Acc: 0.9896 | Val Loss: 0.0319, Val Acc: 0.9905\n",
            "Epoch 17/20 | Train Loss: 0.0323, Train Acc: 0.9894 | Val Loss: 0.0313, Val Acc: 0.9908\n",
            "Epoch 18/20 | Train Loss: 0.0331, Train Acc: 0.9893 | Val Loss: 0.0325, Val Acc: 0.9901\n",
            "Epoch 19/20 | Train Loss: 0.0328, Train Acc: 0.9895 | Val Loss: 0.0317, Val Acc: 0.9901\n",
            "Epoch 20/20 | Train Loss: 0.0322, Train Acc: 0.9890 | Val Loss: 0.0318, Val Acc: 0.9916\n"
          ]
        }
      ]
    },
    {
      "cell_type": "code",
      "source": [
        "# 1. Save the sklearn preprocessor\n",
        "joblib.dump(preprocessor, 'rice_preprocessor.joblib')\n",
        "\n",
        "# 2. Save the TensorFlow model weights\n",
        "model.save_weights('rice_model_tf_weights.weights.h5')\n",
        "\n",
        "print(\"Model and preprocessor saved.\")"
      ],
      "metadata": {
        "colab": {
          "base_uri": "https://localhost:8080/"
        },
        "id": "roNTUr_2EW_U",
        "outputId": "f87f2370-e275-4c8b-adf7-aff13ed2be21"
      },
      "execution_count": 42,
      "outputs": [
        {
          "output_type": "stream",
          "name": "stdout",
          "text": [
            "Model and preprocessor saved.\n"
          ]
        }
      ]
    },
    {
      "cell_type": "code",
      "source": [],
      "metadata": {
        "id": "w0FtCJvdE8Kf"
      },
      "execution_count": null,
      "outputs": []
    },
    {
      "cell_type": "markdown",
      "source": [
        "## Inference"
      ],
      "metadata": {
        "id": "9zurPy_xFFP9"
      }
    },
    {
      "cell_type": "code",
      "source": [
        "# --- 1. Load the artifacts ---\n",
        "print(\"\\n--- Starting Inference ---\")\n",
        "# Create a new instance of the model\n",
        "inference_model = ProductionModel(input_features=INPUT_FEATURES, hidden_units=HIDDEN_UNITS)\n",
        "# Build the model\n",
        "inference_model.build(input_shape=(None, INPUT_FEATURES))\n",
        "# Load the saved weights\n",
        "inference_model.load_weights('/content/rice_model_tf_weights.weights.h5')\n",
        "\n",
        "# Load the saved preprocessor\n",
        "loaded_preprocessor = joblib.load('/content/rice_preprocessor.joblib')\n",
        "\n",
        "# --- 2. Get new, raw data ---\n",
        "# Let's grab one sample from our *unscaled* test set (as a pandas Series)\n",
        "raw_new_sample_data = X_test.iloc[0]\n",
        "print(f\"Raw Input Data:\\n{raw_new_sample_data}\")\n",
        "print(f\"True Class: {y_test.iloc[0]}\")\n",
        "\n",
        "# --- 3. Apply Preprocessing ---\n",
        "# The preprocessor expects a 2D array, so we convert the Series\n",
        "# [raw_new_sample_data] creates a list with the Series,\n",
        "# and the DataFrame constructor converts it to a 1-row DataFrame.\n",
        "raw_df = pd.DataFrame([raw_new_sample_data])\n",
        "scaled_data = loaded_preprocessor.transform(raw_df)\n",
        "\n",
        "# Convert to a TensorFlow tensor\n",
        "input_tensor = tf.convert_to_tensor(scaled_data, dtype=tf.float32)\n",
        "print(f\"\\nScaled Input Tensor shape: {input_tensor.shape}\")\n",
        "\n",
        "# --- 4. Make Prediction ---\n",
        "# Set training=False to ensure Dropout is off!\n",
        "logit_output = inference_model(input_tensor, training=False)\n",
        "logit_value = logit_output.numpy()[0][0] # Get the single number\n",
        "\n",
        "# --- 5. Interpret the Output ---\n",
        "# Convert the logit to a probability\n",
        "probability = tf.nn.sigmoid(logit_output).numpy()[0][0]\n",
        "\n",
        "# Convert the probability to a class\n",
        "if probability > 0.5:\n",
        "    prediction = 1\n",
        "    class_name = \"Jasmine\" # Assuming 1 is Jasmine\n",
        "else:\n",
        "    prediction = 0\n",
        "    class_name = \"Gonen\"   # Assuming 0 is Gonen\n",
        "\n",
        "print(\"\\n--- Prediction Results ---\")\n",
        "print(f\"Raw Logit: {logit_value:.4f}\")\n",
        "print(f\"Probability: {probability:.4f}\")\n",
        "print(f\"Predicted Class: {prediction} ({class_name})\")"
      ],
      "metadata": {
        "colab": {
          "base_uri": "https://localhost:8080/"
        },
        "id": "tzJ7-usSFE_Q",
        "outputId": "736ba743-69d0-4d36-82a4-0f60052c3b79"
      },
      "execution_count": 48,
      "outputs": [
        {
          "output_type": "stream",
          "name": "stdout",
          "text": [
            "\n",
            "--- Starting Inference ---\n",
            "Raw Input Data:\n",
            "Area               8491.000000\n",
            "MajorAxisLength     152.758821\n",
            "MinorAxisLength      71.598276\n",
            "Eccentricity          0.883357\n",
            "ConvexArea         8715.000000\n",
            "EquivDiameter       103.976329\n",
            "Extent                0.662531\n",
            "Perimeter           366.568000\n",
            "Roundness             0.794071\n",
            "AspectRation          2.133554\n",
            "Name: 12101, dtype: float64\n",
            "True Class: 0\n",
            "\n",
            "Scaled Input Tensor shape: (1, 10)\n",
            "\n",
            "--- Prediction Results ---\n",
            "Raw Logit: 0.2084\n",
            "Probability: 0.5519\n",
            "Predicted Class: 1 (Jasmine)\n"
          ]
        },
        {
          "output_type": "stream",
          "name": "stderr",
          "text": [
            "/usr/local/lib/python3.12/dist-packages/keras/src/layers/layer.py:421: UserWarning: `build()` was called on layer 'production_model_5', however the layer does not have a `build()` method implemented and it looks like it has unbuilt state. This will cause the layer to be marked as built, despite not being actually built, which may cause failures down the line. Make sure to implement a proper `build()` method.\n",
            "  warnings.warn(\n"
          ]
        }
      ]
    },
    {
      "cell_type": "code",
      "source": [],
      "metadata": {
        "id": "o1FsN9eaFH4M"
      },
      "execution_count": null,
      "outputs": []
    }
  ]
}