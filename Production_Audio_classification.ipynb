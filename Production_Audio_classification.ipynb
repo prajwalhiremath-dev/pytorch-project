{
  "cells": [
    {
      "cell_type": "code",
      "execution_count": null,
      "metadata": {
        "colab": {
          "base_uri": "https://localhost:8080/"
        },
        "id": "vrLPL7o3d_fJ",
        "outputId": "7648776d-4631-4e5a-c2c0-b3721a5417f7"
      },
      "outputs": [],
      "source": [
        "!pip install opendatasets --quiet\n",
        "import opendatasets as od\n",
        "od.download(\"https://www.kaggle.com/datasets/mohammedalrajeh/quran-recitations-for-audio-classification\")"
      ]
    },
    {
      "cell_type": "markdown",
      "metadata": {
        "id": "bM_S0MqhFeNa"
      },
      "source": [
        "# Production level Audio Classification"
      ]
    },
    {
      "cell_type": "code",
      "execution_count": 2,
      "metadata": {
        "colab": {
          "base_uri": "https://localhost:8080/"
        },
        "id": "xZqToxz4Hnz3",
        "outputId": "ac21b72a-f72b-457e-c25d-738d41ad2966"
      },
      "outputs": [
        {
          "name": "stdout",
          "output_type": "stream",
          "text": [
            "\u001b[?25l   \u001b[90m━━━━━━━━━━━━━━━━━━━━━━━━━━━━━━━━━━━━━━━━\u001b[0m \u001b[32m0.0/983.2 kB\u001b[0m \u001b[31m?\u001b[0m eta \u001b[36m-:--:--\u001b[0m\r\u001b[2K   \u001b[91m━━━━━━━━━━━━━━━━━━━━━━━━━━━━━━━━━━━━━━━\u001b[0m\u001b[91m╸\u001b[0m \u001b[32m983.0/983.2 kB\u001b[0m \u001b[31m38.3 MB/s\u001b[0m eta \u001b[36m0:00:01\u001b[0m\r\u001b[2K   \u001b[90m━━━━━━━━━━━━━━━━━━━━━━━━━━━━━━━━━━━━━━━━\u001b[0m \u001b[32m983.2/983.2 kB\u001b[0m \u001b[31m26.4 MB/s\u001b[0m eta \u001b[36m0:00:00\u001b[0m\n",
            "\u001b[?25h"
          ]
        }
      ],
      "source": [
        "!pip install torchmetrics --quiet"
      ]
    },
    {
      "cell_type": "code",
      "execution_count": 3,
      "metadata": {
        "id": "Moy2zkVGFiFO"
      },
      "outputs": [],
      "source": [
        "import torch\n",
        "import torch.nn as nn\n",
        "import torch.optim as optim\n",
        "from torch.utils.data import Dataset, DataLoader\n",
        "from sklearn.model_selection import train_test_split\n",
        "from sklearn.preprocessing import LabelEncoder\n",
        "from sklearn.metrics import classification_report\n",
        "import librosa\n",
        "import librosa.display\n",
        "import numpy as np\n",
        "import pandas as pd\n",
        "from skimage.transform import resize # Using skimage for resizing spectrogram\n",
        "import os\n",
        "import time\n",
        "import copy # For saving best model weights\n",
        "import joblib # For saving/loading LabelEncoder\n",
        "import torchmetrics\n",
        "import matplotlib.pyplot as plt\n",
        "from tqdm import tqdm\n",
        "import warnings"
      ]
    },
    {
      "cell_type": "code",
      "execution_count": 4,
      "metadata": {
        "colab": {
          "base_uri": "https://localhost:8080/"
        },
        "id": "PyuWEEobFrly",
        "outputId": "0e1e410b-c308-433a-af63-d141de550895"
      },
      "outputs": [
        {
          "name": "stdout",
          "output_type": "stream",
          "text": [
            "Using device: cuda\n"
          ]
        }
      ],
      "source": [
        "# --- Configuration ---\n",
        "# Data Paths\n",
        "CSV_PATH = \"/content/quran-recitations-for-audio-classification/files_paths.csv\"\n",
        "BASE_AUDIO_DIR = \"/content/quran-recitations-for-audio-classification/Dataset\"\n",
        "\n",
        "# Model Saving\n",
        "MODEL_SAVE_PATH = \"best_audio_cnn_model.pth\"\n",
        "ENCODER_SAVE_PATH = \"audio_label_encoder.joblib\"\n",
        "\n",
        "# Feature Extraction Parameters\n",
        "SAMPLE_RATE = 22050\n",
        "DURATION = 5 # seconds\n",
        "N_MELS = 128 # Height of spectrogram\n",
        "SPEC_WIDTH = 256 # Target width of spectrogram (time dimension)\n",
        "N_FFT = 2048\n",
        "HOP_LENGTH = 512\n",
        "\n",
        "# Training Parameters\n",
        "BATCH_SIZE = 32 # Adjusted batch size\n",
        "EPOCHS = 50 # Adjusted epochs, early stopping will likely trigger sooner\n",
        "LEARNING_RATE = 1e-4\n",
        "RANDOM_STATE = 42\n",
        "DEVICE = \"cuda\" if torch.cuda.is_available() else \"cpu\"\n",
        "NUM_WORKERS = 2\n",
        "EARLY_STOPPING_PATIENCE = 7 # Increased patience slightly\n",
        "print(f\"Using device: {DEVICE}\")"
      ]
    },
    {
      "cell_type": "markdown",
      "metadata": {
        "id": "LWR3nUJSF0dk"
      },
      "source": [
        "## --- 1. Data Loading and Preparation ---"
      ]
    },
    {
      "cell_type": "code",
      "execution_count": 5,
      "metadata": {
        "colab": {
          "base_uri": "https://localhost:8080/"
        },
        "id": "kqIwEZVoF1hI",
        "outputId": "31ff7039-d61c-4015-a475-18241e8d65c6"
      },
      "outputs": [
        {
          "name": "stdout",
          "output_type": "stream",
          "text": [
            "Initial data shape: (6687, 2)\n",
            "Class distribution:\n",
            "Class\n",
            "Saud_Alshuraim          696\n",
            "Saad_Alghamdi           688\n",
            "AbdulRahman_Alsudais    648\n",
            "Yasser_Aldossary        576\n",
            "Ali_Alhothaify          576\n",
            "Bander_Balilah          576\n",
            "Maher_Almuaiqly         576\n",
            "Abdullah_Albuaijan      504\n",
            "Mohammed_Ayoub          480\n",
            "Nasser_Alqutami         456\n",
            "AbdulBari_Althubaity    456\n",
            "Mohammed_Aluhaidan      455\n",
            "Name: count, dtype: int64\n",
            "\n",
            "Number of classes found: 12\n",
            "Class mapping: {'AbdulBari_Althubaity': 0, 'AbdulRahman_Alsudais': 1, 'Abdullah_Albuaijan': 2, 'Ali_Alhothaify': 3, 'Bander_Balilah': 4, 'Maher_Almuaiqly': 5, 'Mohammed_Aluhaidan': 6, 'Mohammed_Ayoub': 7, 'Nasser_Alqutami': 8, 'Saad_Alghamdi': 9, 'Saud_Alshuraim': 10, 'Yasser_Aldossary': 11}\n",
            "\n",
            "Dataset split:\n",
            "Train: 4680 samples\n",
            "Validation: 1003 samples\n",
            "Test: 1004 samples\n",
            "LabelEncoder saved to audio_label_encoder.joblib\n"
          ]
        }
      ],
      "source": [
        "def load_and_prepare_data(csv_path, base_audio_dir):\n",
        "    \"\"\"Loads CSV, corrects paths, encodes labels, and splits data.\"\"\"\n",
        "    try:\n",
        "        df = pd.read_csv(csv_path)\n",
        "        # Correct file paths\n",
        "        df['FilePath'] = base_audio_dir + df['FilePath'].str[1:]\n",
        "        # Ensure 'Class' column exists\n",
        "        if 'Class' not in df.columns:\n",
        "            raise ValueError(\"CSV must contain a 'Class' column for labels.\")\n",
        "\n",
        "        print(f\"Initial data shape: {df.shape}\")\n",
        "        print(f\"Class distribution:\\n{df['Class'].value_counts()}\")\n",
        "\n",
        "        # Encode string labels to integers\n",
        "        label_encoder = LabelEncoder()\n",
        "        df['label_idx'] = label_encoder.fit_transform(df['Class'])\n",
        "        num_classes = len(label_encoder.classes_)\n",
        "        print(f\"\\nNumber of classes found: {num_classes}\")\n",
        "        print(f\"Class mapping: {dict(zip(label_encoder.classes_, range(num_classes)))}\")\n",
        "\n",
        "        # Split data (Train/Val/Test: 70%/15%/15%)\n",
        "        train_df, temp_df = train_test_split(\n",
        "            df,\n",
        "            test_size=0.3,\n",
        "            random_state=RANDOM_STATE,\n",
        "            stratify=df['label_idx'] # Stratify based on encoded labels\n",
        "        )\n",
        "        val_df, test_df = train_test_split(\n",
        "            temp_df,\n",
        "            test_size=0.5,\n",
        "            random_state=RANDOM_STATE,\n",
        "            stratify=temp_df['label_idx']\n",
        "        )\n",
        "\n",
        "        print(f\"\\nDataset split:\")\n",
        "        print(f\"Train: {len(train_df)} samples\")\n",
        "        print(f\"Validation: {len(val_df)} samples\")\n",
        "        print(f\"Test: {len(test_df)} samples\")\n",
        "\n",
        "        # Save the fitted encoder\n",
        "        joblib.dump(label_encoder, ENCODER_SAVE_PATH)\n",
        "        print(f\"LabelEncoder saved to {ENCODER_SAVE_PATH}\")\n",
        "\n",
        "        return train_df, val_df, test_df, num_classes, label_encoder\n",
        "\n",
        "    except FileNotFoundError:\n",
        "        raise ValueError(f\"CSV file not found at {csv_path}\")\n",
        "    except Exception as e:\n",
        "        raise RuntimeError(f\"Error during data loading/preparation: {e}\")\n",
        "\n",
        "try:\n",
        "    train_df, val_df, test_df, NUM_CLASSES, label_encoder = load_and_prepare_data(CSV_PATH, BASE_AUDIO_DIR)\n",
        "except (ValueError, RuntimeError) as e:\n",
        "    print(str(e))\n",
        "    # exit()"
      ]
    },
    {
      "cell_type": "markdown",
      "metadata": {
        "id": "bm3EDcjJGK4P"
      },
      "source": [
        "## --- 2. Spectrogram Extraction Function ---"
      ]
    },
    {
      "cell_type": "code",
      "execution_count": 6,
      "metadata": {
        "id": "LowtA8nuGE4p"
      },
      "outputs": [],
      "source": [
        "def get_spectrogram(file_path, sr=SAMPLE_RATE, duration=DURATION, n_mels=N_MELS, img_width=SPEC_WIDTH):\n",
        "    \"\"\"Loads audio, computes Mel Spectrogram, converts to dB, and resizes.\"\"\"\n",
        "    try:\n",
        "        # Load audio, resample, trim/pad\n",
        "        # Use res_type='kaiser_fast' for potentially faster loading\n",
        "        with warnings.catch_warnings(): # Suppress librosa warnings if needed\n",
        "            warnings.simplefilter(\"ignore\")\n",
        "            signal, current_sr = librosa.load(file_path, sr=sr, duration=duration, res_type='kaiser_fast')\n",
        "\n",
        "        # Pad signal if shorter than duration * sr (important for fixed size)\n",
        "        expected_length = sr * duration\n",
        "        if len(signal) < expected_length:\n",
        "            signal = np.pad(signal, (0, expected_length - len(signal)), 'constant')\n",
        "\n",
        "        # Compute Mel Spectrogram\n",
        "        spec = librosa.feature.melspectrogram(y=signal, sr=sr, n_fft=N_FFT, hop_length=HOP_LENGTH, n_mels=n_mels)\n",
        "        # Convert to dB\n",
        "        spec_db = librosa.power_to_db(spec, ref=np.max)\n",
        "\n",
        "        # Ensure consistent time dimension length BEFORE resizing (more robust)\n",
        "        # expected_time_frames = int(np.ceil(expected_length / HOP_LENGTH)) # Rough calculation\n",
        "        # if spec_db.shape[1] < expected_time_frames:\n",
        "        #     spec_db = np.pad(spec_db, ((0,0), (0, expected_time_frames - spec_db.shape[1])), mode='constant', constant_values=np.min(spec_db))\n",
        "        # elif spec_db.shape[1] > expected_time_frames:\n",
        "        #     spec_db = spec_db[:, :expected_time_frames]\n",
        "\n",
        "        # Resize using skimage - Ensure output is float32 for PyTorch\n",
        "        spec_resized = resize(spec_db, (n_mels, img_width), anti_aliasing=True, mode='constant', preserve_range=True) # preserve_range for dB\n",
        "        return spec_resized.astype(np.float32)\n",
        "\n",
        "    except Exception as e:\n",
        "        print(f\"Error processing {file_path}: {e}\")\n",
        "        return None # Return None on error"
      ]
    },
    {
      "cell_type": "markdown",
      "metadata": {
        "id": "luiGAhUXGR6f"
      },
      "source": [
        "## --- 3. Custom PyTorch Dataset (On-the-fly processing) ---"
      ]
    },
    {
      "cell_type": "code",
      "execution_count": 7,
      "metadata": {
        "id": "RMDCg5z1GSaN"
      },
      "outputs": [],
      "source": [
        "class CustomAudioDataset(Dataset):\n",
        "    def __init__(self, dataframe):\n",
        "        self.dataframe = dataframe\n",
        "        # Store paths and numerical labels\n",
        "        self.file_paths = dataframe['FilePath'].tolist()\n",
        "        self.labels = dataframe['label_idx'].tolist()\n",
        "\n",
        "    def __len__(self):\n",
        "        return len(self.dataframe)\n",
        "\n",
        "    def __getitem__(self, idx):\n",
        "        audio_path = self.file_paths[idx]\n",
        "        label = self.labels[idx]\n",
        "\n",
        "        # Generate spectrogram on the fly\n",
        "        spectrogram = get_spectrogram(audio_path)\n",
        "\n",
        "        # Handle potential errors during spectrogram generation\n",
        "        if spectrogram is None:\n",
        "            print(f\"Warning: Spectrogram for index {idx} ({audio_path}) is None. Returning dummy data.\")\n",
        "            # Return dummy data matching expected dimensions, and a special label maybe\n",
        "            spectrogram = np.zeros((N_MELS, SPEC_WIDTH), dtype=np.float32)\n",
        "            label = -1 # Or another way to flag invalid data\n",
        "\n",
        "        # Convert to tensor, add channel dimension\n",
        "        # Data is kept on CPU here, moved to DEVICE in training loop\n",
        "        audio_tensor = torch.tensor(spectrogram, dtype=torch.float32).unsqueeze(0)\n",
        "        label_tensor = torch.tensor(label, dtype=torch.long)\n",
        "\n",
        "        return audio_tensor, label_tensor"
      ]
    },
    {
      "cell_type": "markdown",
      "metadata": {
        "id": "CCw-EmmTGYfz"
      },
      "source": [
        "## --- 4. Create Datasets and DataLoaders ---"
      ]
    },
    {
      "cell_type": "code",
      "execution_count": 8,
      "metadata": {
        "colab": {
          "base_uri": "https://localhost:8080/"
        },
        "id": "GncwR8IgGZBp",
        "outputId": "b06e8088-9087-4b03-c2ff-9f571bef2683"
      },
      "outputs": [
        {
          "name": "stdout",
          "output_type": "stream",
          "text": [
            "\n",
            "Datasets and DataLoaders created.\n"
          ]
        }
      ],
      "source": [
        "train_dataset = CustomAudioDataset(train_df)\n",
        "val_dataset = CustomAudioDataset(val_df)\n",
        "test_dataset = CustomAudioDataset(test_df)\n",
        "\n",
        "train_loader = DataLoader(train_dataset, batch_size=BATCH_SIZE, shuffle=True, num_workers=NUM_WORKERS, pin_memory=True if DEVICE == \"cuda\" else False)\n",
        "val_loader = DataLoader(val_dataset, batch_size=BATCH_SIZE, shuffle=False, num_workers=NUM_WORKERS, pin_memory=True if DEVICE == \"cuda\" else False)\n",
        "test_loader = DataLoader(test_dataset, batch_size=BATCH_SIZE, shuffle=False, num_workers=NUM_WORKERS, pin_memory=True if DEVICE == \"cuda\" else False)\n",
        "\n",
        "print(\"\\nDatasets and DataLoaders created.\")"
      ]
    },
    {
      "cell_type": "markdown",
      "metadata": {
        "id": "Apvr7O-vGfaC"
      },
      "source": [
        "## --- 5. Define the CNN Model (with BatchNorm and dynamic sizing) ---"
      ]
    },
    {
      "cell_type": "code",
      "execution_count": 9,
      "metadata": {
        "colab": {
          "base_uri": "https://localhost:8080/"
        },
        "id": "gtgEC5e4GgBp",
        "outputId": "c75464b9-a35c-4434-a3ee-5ec37799b97e"
      },
      "outputs": [
        {
          "name": "stdout",
          "output_type": "stream",
          "text": [
            "Calculated flattened size for linear layers: 32768\n",
            "\n",
            "Model created.\n"
          ]
        }
      ],
      "source": [
        "class Net(nn.Module):\n",
        "    def __init__(self, num_classes) -> None:\n",
        "        super().__init__()\n",
        "        # Convolutional layers with BatchNorm\n",
        "        self.conv_block1 = nn.Sequential(\n",
        "            nn.Conv2d(1, 16, kernel_size=3, padding=1),\n",
        "            nn.BatchNorm2d(16),\n",
        "            nn.ReLU(),\n",
        "            nn.MaxPool2d(2, 2)\n",
        "        )\n",
        "        self.conv_block2 = nn.Sequential(\n",
        "            nn.Conv2d(16, 32, kernel_size=3, padding=1),\n",
        "            nn.BatchNorm2d(32),\n",
        "            nn.ReLU(),\n",
        "            nn.MaxPool2d(2, 2)\n",
        "        )\n",
        "        self.conv_block3 = nn.Sequential(\n",
        "            nn.Conv2d(32, 64, kernel_size=3, padding=1),\n",
        "            nn.BatchNorm2d(64),\n",
        "            nn.ReLU(),\n",
        "            nn.MaxPool2d(2, 2)\n",
        "        )\n",
        "        self.flatten = nn.Flatten()\n",
        "\n",
        "        # Calculate flattened size dynamically\n",
        "        # Perform a dummy forward pass with a sample input tensor\n",
        "        with torch.no_grad():\n",
        "            # Use cpu explicitly for this calculation\n",
        "            dummy_input_cpu = torch.zeros(1, 1, N_MELS, SPEC_WIDTH)\n",
        "            x = self.conv_block1(dummy_input_cpu)\n",
        "            x = self.conv_block2(x)\n",
        "            x = self.conv_block3(x)\n",
        "            flattened_size = self.flatten(x).shape[1] # Get the size after flattening\n",
        "            print(f\"Calculated flattened size for linear layers: {flattened_size}\")\n",
        "\n",
        "        # Fully connected layers with Dropout\n",
        "        self.fc_block = nn.Sequential(\n",
        "            nn.Linear(flattened_size, 4096),\n",
        "            nn.ReLU(),\n",
        "            nn.Dropout(0.5),\n",
        "            nn.Linear(4096, 1024),\n",
        "            nn.ReLU(),\n",
        "            nn.Dropout(0.5),\n",
        "            nn.Linear(1024, 512),\n",
        "            nn.ReLU(),\n",
        "            nn.Dropout(0.5),\n",
        "            nn.Linear(512, num_classes) # Output raw logits\n",
        "        )\n",
        "\n",
        "    def forward(self, x):\n",
        "        x = self.conv_block1(x)\n",
        "        x = self.conv_block2(x)\n",
        "        x = self.conv_block3(x)\n",
        "        x = self.flatten(x)\n",
        "        x = self.fc_block(x)\n",
        "        return x\n",
        "\n",
        "model = Net(num_classes=NUM_CLASSES).to(DEVICE)\n",
        "print(\"\\nModel created.\")"
      ]
    },
    {
      "cell_type": "code",
      "execution_count": 10,
      "metadata": {
        "colab": {
          "base_uri": "https://localhost:8080/"
        },
        "id": "SOZsGOz5Go76",
        "outputId": "27b340ae-85b0-4082-f5f5-cdb2e2559f63"
      },
      "outputs": [
        {
          "name": "stdout",
          "output_type": "stream",
          "text": [
            "----------------------------------------------------------------\n",
            "        Layer (type)               Output Shape         Param #\n",
            "================================================================\n",
            "            Conv2d-1         [-1, 16, 128, 256]             160\n",
            "       BatchNorm2d-2         [-1, 16, 128, 256]              32\n",
            "              ReLU-3         [-1, 16, 128, 256]               0\n",
            "         MaxPool2d-4          [-1, 16, 64, 128]               0\n",
            "            Conv2d-5          [-1, 32, 64, 128]           4,640\n",
            "       BatchNorm2d-6          [-1, 32, 64, 128]              64\n",
            "              ReLU-7          [-1, 32, 64, 128]               0\n",
            "         MaxPool2d-8           [-1, 32, 32, 64]               0\n",
            "            Conv2d-9           [-1, 64, 32, 64]          18,496\n",
            "      BatchNorm2d-10           [-1, 64, 32, 64]             128\n",
            "             ReLU-11           [-1, 64, 32, 64]               0\n",
            "        MaxPool2d-12           [-1, 64, 16, 32]               0\n",
            "          Flatten-13                [-1, 32768]               0\n",
            "           Linear-14                 [-1, 4096]     134,221,824\n",
            "             ReLU-15                 [-1, 4096]               0\n",
            "          Dropout-16                 [-1, 4096]               0\n",
            "           Linear-17                 [-1, 1024]       4,195,328\n",
            "             ReLU-18                 [-1, 1024]               0\n",
            "          Dropout-19                 [-1, 1024]               0\n",
            "           Linear-20                  [-1, 512]         524,800\n",
            "             ReLU-21                  [-1, 512]               0\n",
            "          Dropout-22                  [-1, 512]               0\n",
            "           Linear-23                   [-1, 12]           6,156\n",
            "================================================================\n",
            "Total params: 138,971,628\n",
            "Trainable params: 138,971,628\n",
            "Non-trainable params: 0\n",
            "----------------------------------------------------------------\n",
            "Input size (MB): 0.12\n",
            "Forward/backward pass size (MB): 23.13\n",
            "Params size (MB): 530.13\n",
            "Estimated Total Size (MB): 553.39\n",
            "----------------------------------------------------------------\n"
          ]
        }
      ],
      "source": [
        "# Optional: Print summary\n",
        "try:\n",
        "    from torchsummary import summary\n",
        "    # Correct input size (Channels, Height, Width)\n",
        "    summary(model, input_size=(1, N_MELS, SPEC_WIDTH))\n",
        "except ImportError:\n",
        "    print(\"\\nInstall torchinfo for model summary: pip install torchsummary\")\n",
        "except Exception as e:\n",
        "    print(f\"\\nCould not print model summary: {e}\")"
      ]
    },
    {
      "cell_type": "markdown",
      "metadata": {
        "id": "wlI9IFG0GuMW"
      },
      "source": [
        "## --- 6. Loss, Optimizer, Scheduler, Metrics ---"
      ]
    },
    {
      "cell_type": "code",
      "execution_count": 11,
      "metadata": {
        "id": "NfHJnJM9GuoB"
      },
      "outputs": [],
      "source": [
        "criterion = nn.CrossEntropyLoss()\n",
        "optimizer = optim.Adam(model.parameters(), lr=LEARNING_RATE)\n",
        "scheduler = optim.lr_scheduler.ReduceLROnPlateau(optimizer, mode='min', factor=0.1, patience=3)\n",
        "\n",
        "train_accuracy = torchmetrics.Accuracy(task=\"multiclass\", num_classes=NUM_CLASSES).to(DEVICE)\n",
        "val_accuracy = torchmetrics.Accuracy(task=\"multiclass\", num_classes=NUM_CLASSES).to(DEVICE)\n"
      ]
    },
    {
      "cell_type": "markdown",
      "metadata": {
        "id": "SPkaqmDYG01q"
      },
      "source": [
        "## --- 7. Training and Validation Functions ---"
      ]
    },
    {
      "cell_type": "code",
      "execution_count": 12,
      "metadata": {
        "id": "e0c9gYM4G1pA"
      },
      "outputs": [],
      "source": [
        "def train_one_epoch(model, loader, criterion, optimizer, device, metric):\n",
        "    model.train()\n",
        "    running_loss = 0.0\n",
        "    metric.reset()\n",
        "    num_samples = 0\n",
        "\n",
        "    for inputs, labels in tqdm(loader, desc=\"Training\", leave=False):\n",
        "         # Filter potentially invalid data flagged by Dataset\n",
        "        valid_indices = labels != -1\n",
        "        if not valid_indices.all():\n",
        "            inputs = inputs[valid_indices]\n",
        "            labels = labels[valid_indices]\n",
        "            if inputs.shape[0] == 0: continue # Skip empty batch\n",
        "\n",
        "        inputs, labels = inputs.to(device), labels.to(device)\n",
        "        num_samples += inputs.size(0)\n",
        "\n",
        "        optimizer.zero_grad()\n",
        "        outputs = model(inputs)\n",
        "        loss = criterion(outputs, labels)\n",
        "        loss.backward()\n",
        "        optimizer.step()\n",
        "\n",
        "        running_loss += loss.item() * inputs.size(0)\n",
        "        metric.update(outputs, labels)\n",
        "\n",
        "    # Avoid division by zero\n",
        "    avg_loss = running_loss / num_samples if num_samples > 0 else 0.0\n",
        "    epoch_acc = metric.compute()\n",
        "    return avg_loss, epoch_acc.item()\n",
        "\n",
        "\n",
        "def validate_one_epoch(model, loader, criterion, device, metric):\n",
        "    model.eval()\n",
        "    running_loss = 0.0\n",
        "    metric.reset()\n",
        "    num_samples = 0\n",
        "\n",
        "    with torch.no_grad():\n",
        "        for inputs, labels in tqdm(loader, desc=\"Validation\", leave=False):\n",
        "            valid_indices = labels != -1\n",
        "            if not valid_indices.all():\n",
        "                inputs = inputs[valid_indices]\n",
        "                labels = labels[valid_indices]\n",
        "                if inputs.shape[0] == 0: continue\n",
        "\n",
        "            inputs, labels = inputs.to(device), labels.to(device)\n",
        "            num_samples += inputs.size(0)\n",
        "\n",
        "            outputs = model(inputs)\n",
        "            loss = criterion(outputs, labels)\n",
        "\n",
        "            running_loss += loss.item() * inputs.size(0)\n",
        "            metric.update(outputs, labels)\n",
        "\n",
        "    # Avoid division by zero\n",
        "    avg_loss = running_loss / num_samples if num_samples > 0 else 0.0\n",
        "    epoch_acc = metric.compute()\n",
        "    return avg_loss, epoch_acc.item()"
      ]
    },
    {
      "cell_type": "markdown",
      "metadata": {
        "id": "h5KL5s95G7vl"
      },
      "source": [
        "## --- 8. Main Training Loop ---"
      ]
    },
    {
      "cell_type": "code",
      "execution_count": 13,
      "metadata": {
        "colab": {
          "base_uri": "https://localhost:8080/"
        },
        "id": "d49PeYYvJP5c",
        "outputId": "b458fef9-9e00-4cc3-c78b-b44c30b004d2"
      },
      "outputs": [
        {
          "name": "stdout",
          "output_type": "stream",
          "text": [
            "\u001b[?25l   \u001b[90m━━━━━━━━━━━━━━━━━━━━━━━━━━━━━━━━━━━━━━━━\u001b[0m \u001b[32m0.0/3.1 MB\u001b[0m \u001b[31m?\u001b[0m eta \u001b[36m-:--:--\u001b[0m\r\u001b[2K   \u001b[91m━━━━━━━━━━━━\u001b[0m\u001b[91m╸\u001b[0m\u001b[90m━━━━━━━━━━━━━━━━━━━━━━━━━━━\u001b[0m \u001b[32m1.0/3.1 MB\u001b[0m \u001b[31m29.7 MB/s\u001b[0m eta \u001b[36m0:00:01\u001b[0m\r\u001b[2K   \u001b[90m━━━━━━━━━━━━━━━━━━━━━━━━━━━━━━━━━━━━━━━━\u001b[0m \u001b[32m3.1/3.1 MB\u001b[0m \u001b[31m50.2 MB/s\u001b[0m eta \u001b[36m0:00:00\u001b[0m\n",
            "\u001b[?25h"
          ]
        }
      ],
      "source": [
        "!pip install resampy --quiet"
      ]
    },
    {
      "cell_type": "code",
      "execution_count": 14,
      "metadata": {
        "colab": {
          "base_uri": "https://localhost:8080/",
          "height": 829
        },
        "collapsed": true,
        "id": "26NmKmHvG8cV",
        "outputId": "8fbbb2c1-0697-4c9a-d83c-9dedb6259696"
      },
      "outputs": [
        {
          "name": "stdout",
          "output_type": "stream",
          "text": [
            "\n",
            "Starting Training...\n"
          ]
        },
        {
          "name": "stderr",
          "output_type": "stream",
          "text": []
        },
        {
          "name": "stdout",
          "output_type": "stream",
          "text": [
            "Epoch 1/50 [430.15s] - Train Loss: 2.4901, Train Acc: 0.1316 | Val Loss: 2.2111, Val Acc: 0.2014\n",
            "Validation loss improved (inf -> 2.2111). Saving model...\n"
          ]
        },
        {
          "name": "stderr",
          "output_type": "stream",
          "text": []
        },
        {
          "name": "stdout",
          "output_type": "stream",
          "text": [
            "Epoch 2/50 [406.32s] - Train Loss: 1.9003, Train Acc: 0.3449 | Val Loss: 0.9502, Val Acc: 0.7468\n",
            "Validation loss improved (2.2111 -> 0.9502). Saving model...\n"
          ]
        },
        {
          "name": "stderr",
          "output_type": "stream",
          "text": []
        },
        {
          "name": "stdout",
          "output_type": "stream",
          "text": [
            "Epoch 3/50 [408.26s] - Train Loss: 0.8591, Train Acc: 0.7026 | Val Loss: 0.3587, Val Acc: 0.8843\n",
            "Validation loss improved (0.9502 -> 0.3587). Saving model...\n"
          ]
        },
        {
          "name": "stderr",
          "output_type": "stream",
          "text": []
        },
        {
          "name": "stdout",
          "output_type": "stream",
          "text": [
            "Epoch 4/50 [411.92s] - Train Loss: 0.4493, Train Acc: 0.8573 | Val Loss: 0.1940, Val Acc: 0.9372\n",
            "Validation loss improved (0.3587 -> 0.1940). Saving model...\n"
          ]
        },
        {
          "name": "stderr",
          "output_type": "stream",
          "text": []
        },
        {
          "name": "stdout",
          "output_type": "stream",
          "text": [
            "Epoch 5/50 [408.97s] - Train Loss: 0.2753, Train Acc: 0.9107 | Val Loss: 0.1113, Val Acc: 0.9641\n",
            "Validation loss improved (0.1940 -> 0.1113). Saving model...\n"
          ]
        },
        {
          "name": "stderr",
          "output_type": "stream",
          "text": []
        },
        {
          "name": "stdout",
          "output_type": "stream",
          "text": [
            "Epoch 6/50 [409.75s] - Train Loss: 0.1561, Train Acc: 0.9481 | Val Loss: 0.1017, Val Acc: 0.9651\n",
            "Validation loss improved (0.1113 -> 0.1017). Saving model...\n"
          ]
        },
        {
          "name": "stderr",
          "output_type": "stream",
          "text": []
        },
        {
          "name": "stdout",
          "output_type": "stream",
          "text": [
            "Epoch 7/50 [411.86s] - Train Loss: 0.1302, Train Acc: 0.9622 | Val Loss: 0.0914, Val Acc: 0.9731\n",
            "Validation loss improved (0.1017 -> 0.0914). Saving model...\n"
          ]
        },
        {
          "name": "stderr",
          "output_type": "stream",
          "text": []
        },
        {
          "name": "stdout",
          "output_type": "stream",
          "text": [
            "Epoch 8/50 [404.76s] - Train Loss: 0.0798, Train Acc: 0.9752 | Val Loss: 0.0540, Val Acc: 0.9850\n",
            "Validation loss improved (0.0914 -> 0.0540). Saving model...\n"
          ]
        },
        {
          "name": "stderr",
          "output_type": "stream",
          "text": []
        },
        {
          "name": "stdout",
          "output_type": "stream",
          "text": [
            "Epoch 9/50 [406.31s] - Train Loss: 0.0795, Train Acc: 0.9735 | Val Loss: 0.0476, Val Acc: 0.9850\n",
            "Validation loss improved (0.0540 -> 0.0476). Saving model...\n"
          ]
        },
        {
          "name": "stderr",
          "output_type": "stream",
          "text": []
        },
        {
          "name": "stdout",
          "output_type": "stream",
          "text": [
            "Epoch 10/50 [409.26s] - Train Loss: 0.0607, Train Acc: 0.9814 | Val Loss: 0.0319, Val Acc: 0.9910\n",
            "Validation loss improved (0.0476 -> 0.0319). Saving model...\n"
          ]
        },
        {
          "name": "stderr",
          "output_type": "stream",
          "text": []
        },
        {
          "name": "stdout",
          "output_type": "stream",
          "text": [
            "Epoch 11/50 [407.70s] - Train Loss: 0.0513, Train Acc: 0.9846 | Val Loss: 0.0360, Val Acc: 0.9880\n"
          ]
        },
        {
          "name": "stderr",
          "output_type": "stream",
          "text": []
        },
        {
          "name": "stdout",
          "output_type": "stream",
          "text": [
            "Epoch 12/50 [406.59s] - Train Loss: 0.0550, Train Acc: 0.9840 | Val Loss: 0.0241, Val Acc: 0.9900\n",
            "Validation loss improved (0.0319 -> 0.0241). Saving model...\n"
          ]
        },
        {
          "name": "stderr",
          "output_type": "stream",
          "text": []
        },
        {
          "ename": "KeyboardInterrupt",
          "evalue": "",
          "output_type": "error",
          "traceback": [
            "\u001b[0;31m---------------------------------------------------------------------------\u001b[0m",
            "\u001b[0;31mKeyboardInterrupt\u001b[0m                         Traceback (most recent call last)",
            "\u001b[0;32m/tmp/ipython-input-3284158609.py\u001b[0m in \u001b[0;36m<cell line: 0>\u001b[0;34m()\u001b[0m\n\u001b[1;32m     10\u001b[0m     \u001b[0mepoch_start_time\u001b[0m \u001b[0;34m=\u001b[0m \u001b[0mtime\u001b[0m\u001b[0;34m.\u001b[0m\u001b[0mtime\u001b[0m\u001b[0;34m(\u001b[0m\u001b[0;34m)\u001b[0m\u001b[0;34m\u001b[0m\u001b[0;34m\u001b[0m\u001b[0m\n\u001b[1;32m     11\u001b[0m \u001b[0;34m\u001b[0m\u001b[0m\n\u001b[0;32m---> 12\u001b[0;31m     \u001b[0mtrain_loss\u001b[0m\u001b[0;34m,\u001b[0m \u001b[0mtrain_acc\u001b[0m \u001b[0;34m=\u001b[0m \u001b[0mtrain_one_epoch\u001b[0m\u001b[0;34m(\u001b[0m\u001b[0mmodel\u001b[0m\u001b[0;34m,\u001b[0m \u001b[0mtrain_loader\u001b[0m\u001b[0;34m,\u001b[0m \u001b[0mcriterion\u001b[0m\u001b[0;34m,\u001b[0m \u001b[0moptimizer\u001b[0m\u001b[0;34m,\u001b[0m \u001b[0mDEVICE\u001b[0m\u001b[0;34m,\u001b[0m \u001b[0mtrain_accuracy\u001b[0m\u001b[0;34m)\u001b[0m\u001b[0;34m\u001b[0m\u001b[0;34m\u001b[0m\u001b[0m\n\u001b[0m\u001b[1;32m     13\u001b[0m     \u001b[0mval_loss\u001b[0m\u001b[0;34m,\u001b[0m \u001b[0mval_acc\u001b[0m \u001b[0;34m=\u001b[0m \u001b[0mvalidate_one_epoch\u001b[0m\u001b[0;34m(\u001b[0m\u001b[0mmodel\u001b[0m\u001b[0;34m,\u001b[0m \u001b[0mval_loader\u001b[0m\u001b[0;34m,\u001b[0m \u001b[0mcriterion\u001b[0m\u001b[0;34m,\u001b[0m \u001b[0mDEVICE\u001b[0m\u001b[0;34m,\u001b[0m \u001b[0mval_accuracy\u001b[0m\u001b[0;34m)\u001b[0m\u001b[0;34m\u001b[0m\u001b[0;34m\u001b[0m\u001b[0m\n\u001b[1;32m     14\u001b[0m \u001b[0;34m\u001b[0m\u001b[0m\n",
            "\u001b[0;32m/tmp/ipython-input-308143544.py\u001b[0m in \u001b[0;36mtrain_one_epoch\u001b[0;34m(model, loader, criterion, optimizer, device, metric)\u001b[0m\n\u001b[1;32m      5\u001b[0m     \u001b[0mnum_samples\u001b[0m \u001b[0;34m=\u001b[0m \u001b[0;36m0\u001b[0m\u001b[0;34m\u001b[0m\u001b[0;34m\u001b[0m\u001b[0m\n\u001b[1;32m      6\u001b[0m \u001b[0;34m\u001b[0m\u001b[0m\n\u001b[0;32m----> 7\u001b[0;31m     \u001b[0;32mfor\u001b[0m \u001b[0minputs\u001b[0m\u001b[0;34m,\u001b[0m \u001b[0mlabels\u001b[0m \u001b[0;32min\u001b[0m \u001b[0mtqdm\u001b[0m\u001b[0;34m(\u001b[0m\u001b[0mloader\u001b[0m\u001b[0;34m,\u001b[0m \u001b[0mdesc\u001b[0m\u001b[0;34m=\u001b[0m\u001b[0;34m\"Training\"\u001b[0m\u001b[0;34m,\u001b[0m \u001b[0mleave\u001b[0m\u001b[0;34m=\u001b[0m\u001b[0;32mFalse\u001b[0m\u001b[0;34m)\u001b[0m\u001b[0;34m:\u001b[0m\u001b[0;34m\u001b[0m\u001b[0;34m\u001b[0m\u001b[0m\n\u001b[0m\u001b[1;32m      8\u001b[0m          \u001b[0;31m# Filter potentially invalid data flagged by Dataset\u001b[0m\u001b[0;34m\u001b[0m\u001b[0;34m\u001b[0m\u001b[0m\n\u001b[1;32m      9\u001b[0m         \u001b[0mvalid_indices\u001b[0m \u001b[0;34m=\u001b[0m \u001b[0mlabels\u001b[0m \u001b[0;34m!=\u001b[0m \u001b[0;34m-\u001b[0m\u001b[0;36m1\u001b[0m\u001b[0;34m\u001b[0m\u001b[0;34m\u001b[0m\u001b[0m\n",
            "\u001b[0;32m/usr/local/lib/python3.12/dist-packages/tqdm/std.py\u001b[0m in \u001b[0;36m__iter__\u001b[0;34m(self)\u001b[0m\n\u001b[1;32m   1179\u001b[0m \u001b[0;34m\u001b[0m\u001b[0m\n\u001b[1;32m   1180\u001b[0m         \u001b[0;32mtry\u001b[0m\u001b[0;34m:\u001b[0m\u001b[0;34m\u001b[0m\u001b[0;34m\u001b[0m\u001b[0m\n\u001b[0;32m-> 1181\u001b[0;31m             \u001b[0;32mfor\u001b[0m \u001b[0mobj\u001b[0m \u001b[0;32min\u001b[0m \u001b[0miterable\u001b[0m\u001b[0;34m:\u001b[0m\u001b[0;34m\u001b[0m\u001b[0;34m\u001b[0m\u001b[0m\n\u001b[0m\u001b[1;32m   1182\u001b[0m                 \u001b[0;32myield\u001b[0m \u001b[0mobj\u001b[0m\u001b[0;34m\u001b[0m\u001b[0;34m\u001b[0m\u001b[0m\n\u001b[1;32m   1183\u001b[0m                 \u001b[0;31m# Update and possibly print the progressbar.\u001b[0m\u001b[0;34m\u001b[0m\u001b[0;34m\u001b[0m\u001b[0m\n",
            "\u001b[0;32m/usr/local/lib/python3.12/dist-packages/torch/utils/data/dataloader.py\u001b[0m in \u001b[0;36m__next__\u001b[0;34m(self)\u001b[0m\n\u001b[1;32m    732\u001b[0m                 \u001b[0;31m# TODO(https://github.com/pytorch/pytorch/issues/76750)\u001b[0m\u001b[0;34m\u001b[0m\u001b[0;34m\u001b[0m\u001b[0m\n\u001b[1;32m    733\u001b[0m                 \u001b[0mself\u001b[0m\u001b[0;34m.\u001b[0m\u001b[0m_reset\u001b[0m\u001b[0;34m(\u001b[0m\u001b[0;34m)\u001b[0m  \u001b[0;31m# type: ignore[call-arg]\u001b[0m\u001b[0;34m\u001b[0m\u001b[0;34m\u001b[0m\u001b[0m\n\u001b[0;32m--> 734\u001b[0;31m             \u001b[0mdata\u001b[0m \u001b[0;34m=\u001b[0m \u001b[0mself\u001b[0m\u001b[0;34m.\u001b[0m\u001b[0m_next_data\u001b[0m\u001b[0;34m(\u001b[0m\u001b[0;34m)\u001b[0m\u001b[0;34m\u001b[0m\u001b[0;34m\u001b[0m\u001b[0m\n\u001b[0m\u001b[1;32m    735\u001b[0m             \u001b[0mself\u001b[0m\u001b[0;34m.\u001b[0m\u001b[0m_num_yielded\u001b[0m \u001b[0;34m+=\u001b[0m \u001b[0;36m1\u001b[0m\u001b[0;34m\u001b[0m\u001b[0;34m\u001b[0m\u001b[0m\n\u001b[1;32m    736\u001b[0m             if (\n",
            "\u001b[0;32m/usr/local/lib/python3.12/dist-packages/torch/utils/data/dataloader.py\u001b[0m in \u001b[0;36m_next_data\u001b[0;34m(self)\u001b[0m\n\u001b[1;32m   1490\u001b[0m \u001b[0;34m\u001b[0m\u001b[0m\n\u001b[1;32m   1491\u001b[0m             \u001b[0;32massert\u001b[0m \u001b[0;32mnot\u001b[0m \u001b[0mself\u001b[0m\u001b[0;34m.\u001b[0m\u001b[0m_shutdown\u001b[0m \u001b[0;32mand\u001b[0m \u001b[0mself\u001b[0m\u001b[0;34m.\u001b[0m\u001b[0m_tasks_outstanding\u001b[0m \u001b[0;34m>\u001b[0m \u001b[0;36m0\u001b[0m\u001b[0;34m\u001b[0m\u001b[0;34m\u001b[0m\u001b[0m\n\u001b[0;32m-> 1492\u001b[0;31m             \u001b[0midx\u001b[0m\u001b[0;34m,\u001b[0m \u001b[0mdata\u001b[0m \u001b[0;34m=\u001b[0m \u001b[0mself\u001b[0m\u001b[0;34m.\u001b[0m\u001b[0m_get_data\u001b[0m\u001b[0;34m(\u001b[0m\u001b[0;34m)\u001b[0m\u001b[0;34m\u001b[0m\u001b[0;34m\u001b[0m\u001b[0m\n\u001b[0m\u001b[1;32m   1493\u001b[0m             \u001b[0mself\u001b[0m\u001b[0;34m.\u001b[0m\u001b[0m_tasks_outstanding\u001b[0m \u001b[0;34m-=\u001b[0m \u001b[0;36m1\u001b[0m\u001b[0;34m\u001b[0m\u001b[0;34m\u001b[0m\u001b[0m\n\u001b[1;32m   1494\u001b[0m             \u001b[0;32mif\u001b[0m \u001b[0mself\u001b[0m\u001b[0;34m.\u001b[0m\u001b[0m_dataset_kind\u001b[0m \u001b[0;34m==\u001b[0m \u001b[0m_DatasetKind\u001b[0m\u001b[0;34m.\u001b[0m\u001b[0mIterable\u001b[0m\u001b[0;34m:\u001b[0m\u001b[0;34m\u001b[0m\u001b[0;34m\u001b[0m\u001b[0m\n",
            "\u001b[0;32m/usr/local/lib/python3.12/dist-packages/torch/utils/data/dataloader.py\u001b[0m in \u001b[0;36m_get_data\u001b[0;34m(self)\u001b[0m\n\u001b[1;32m   1442\u001b[0m         \u001b[0;32melif\u001b[0m \u001b[0mself\u001b[0m\u001b[0;34m.\u001b[0m\u001b[0m_pin_memory\u001b[0m\u001b[0;34m:\u001b[0m\u001b[0;34m\u001b[0m\u001b[0;34m\u001b[0m\u001b[0m\n\u001b[1;32m   1443\u001b[0m             \u001b[0;32mwhile\u001b[0m \u001b[0mself\u001b[0m\u001b[0;34m.\u001b[0m\u001b[0m_pin_memory_thread\u001b[0m\u001b[0;34m.\u001b[0m\u001b[0mis_alive\u001b[0m\u001b[0;34m(\u001b[0m\u001b[0;34m)\u001b[0m\u001b[0;34m:\u001b[0m\u001b[0;34m\u001b[0m\u001b[0;34m\u001b[0m\u001b[0m\n\u001b[0;32m-> 1444\u001b[0;31m                 \u001b[0msuccess\u001b[0m\u001b[0;34m,\u001b[0m \u001b[0mdata\u001b[0m \u001b[0;34m=\u001b[0m \u001b[0mself\u001b[0m\u001b[0;34m.\u001b[0m\u001b[0m_try_get_data\u001b[0m\u001b[0;34m(\u001b[0m\u001b[0;34m)\u001b[0m\u001b[0;34m\u001b[0m\u001b[0;34m\u001b[0m\u001b[0m\n\u001b[0m\u001b[1;32m   1445\u001b[0m                 \u001b[0;32mif\u001b[0m \u001b[0msuccess\u001b[0m\u001b[0;34m:\u001b[0m\u001b[0;34m\u001b[0m\u001b[0;34m\u001b[0m\u001b[0m\n\u001b[1;32m   1446\u001b[0m                     \u001b[0;32mreturn\u001b[0m \u001b[0mdata\u001b[0m\u001b[0;34m\u001b[0m\u001b[0;34m\u001b[0m\u001b[0m\n",
            "\u001b[0;32m/usr/local/lib/python3.12/dist-packages/torch/utils/data/dataloader.py\u001b[0m in \u001b[0;36m_try_get_data\u001b[0;34m(self, timeout)\u001b[0m\n\u001b[1;32m   1283\u001b[0m         \u001b[0;31m#   (bool: whether successfully get data, any: data if successful else None)\u001b[0m\u001b[0;34m\u001b[0m\u001b[0;34m\u001b[0m\u001b[0m\n\u001b[1;32m   1284\u001b[0m         \u001b[0;32mtry\u001b[0m\u001b[0;34m:\u001b[0m\u001b[0;34m\u001b[0m\u001b[0;34m\u001b[0m\u001b[0m\n\u001b[0;32m-> 1285\u001b[0;31m             \u001b[0mdata\u001b[0m \u001b[0;34m=\u001b[0m \u001b[0mself\u001b[0m\u001b[0;34m.\u001b[0m\u001b[0m_data_queue\u001b[0m\u001b[0;34m.\u001b[0m\u001b[0mget\u001b[0m\u001b[0;34m(\u001b[0m\u001b[0mtimeout\u001b[0m\u001b[0;34m=\u001b[0m\u001b[0mtimeout\u001b[0m\u001b[0;34m)\u001b[0m\u001b[0;34m\u001b[0m\u001b[0;34m\u001b[0m\u001b[0m\n\u001b[0m\u001b[1;32m   1286\u001b[0m             \u001b[0;32mreturn\u001b[0m \u001b[0;34m(\u001b[0m\u001b[0;32mTrue\u001b[0m\u001b[0;34m,\u001b[0m \u001b[0mdata\u001b[0m\u001b[0;34m)\u001b[0m\u001b[0;34m\u001b[0m\u001b[0;34m\u001b[0m\u001b[0m\n\u001b[1;32m   1287\u001b[0m         \u001b[0;32mexcept\u001b[0m \u001b[0mException\u001b[0m \u001b[0;32mas\u001b[0m \u001b[0me\u001b[0m\u001b[0;34m:\u001b[0m\u001b[0;34m\u001b[0m\u001b[0;34m\u001b[0m\u001b[0m\n",
            "\u001b[0;32m/usr/lib/python3.12/queue.py\u001b[0m in \u001b[0;36mget\u001b[0;34m(self, block, timeout)\u001b[0m\n\u001b[1;32m    178\u001b[0m                     \u001b[0;32mif\u001b[0m \u001b[0mremaining\u001b[0m \u001b[0;34m<=\u001b[0m \u001b[0;36m0.0\u001b[0m\u001b[0;34m:\u001b[0m\u001b[0;34m\u001b[0m\u001b[0;34m\u001b[0m\u001b[0m\n\u001b[1;32m    179\u001b[0m                         \u001b[0;32mraise\u001b[0m \u001b[0mEmpty\u001b[0m\u001b[0;34m\u001b[0m\u001b[0;34m\u001b[0m\u001b[0m\n\u001b[0;32m--> 180\u001b[0;31m                     \u001b[0mself\u001b[0m\u001b[0;34m.\u001b[0m\u001b[0mnot_empty\u001b[0m\u001b[0;34m.\u001b[0m\u001b[0mwait\u001b[0m\u001b[0;34m(\u001b[0m\u001b[0mremaining\u001b[0m\u001b[0;34m)\u001b[0m\u001b[0;34m\u001b[0m\u001b[0;34m\u001b[0m\u001b[0m\n\u001b[0m\u001b[1;32m    181\u001b[0m             \u001b[0mitem\u001b[0m \u001b[0;34m=\u001b[0m \u001b[0mself\u001b[0m\u001b[0;34m.\u001b[0m\u001b[0m_get\u001b[0m\u001b[0;34m(\u001b[0m\u001b[0;34m)\u001b[0m\u001b[0;34m\u001b[0m\u001b[0;34m\u001b[0m\u001b[0m\n\u001b[1;32m    182\u001b[0m             \u001b[0mself\u001b[0m\u001b[0;34m.\u001b[0m\u001b[0mnot_full\u001b[0m\u001b[0;34m.\u001b[0m\u001b[0mnotify\u001b[0m\u001b[0;34m(\u001b[0m\u001b[0;34m)\u001b[0m\u001b[0;34m\u001b[0m\u001b[0;34m\u001b[0m\u001b[0m\n",
            "\u001b[0;32m/usr/lib/python3.12/threading.py\u001b[0m in \u001b[0;36mwait\u001b[0;34m(self, timeout)\u001b[0m\n\u001b[1;32m    357\u001b[0m             \u001b[0;32melse\u001b[0m\u001b[0;34m:\u001b[0m\u001b[0;34m\u001b[0m\u001b[0;34m\u001b[0m\u001b[0m\n\u001b[1;32m    358\u001b[0m                 \u001b[0;32mif\u001b[0m \u001b[0mtimeout\u001b[0m \u001b[0;34m>\u001b[0m \u001b[0;36m0\u001b[0m\u001b[0;34m:\u001b[0m\u001b[0;34m\u001b[0m\u001b[0;34m\u001b[0m\u001b[0m\n\u001b[0;32m--> 359\u001b[0;31m                     \u001b[0mgotit\u001b[0m \u001b[0;34m=\u001b[0m \u001b[0mwaiter\u001b[0m\u001b[0;34m.\u001b[0m\u001b[0macquire\u001b[0m\u001b[0;34m(\u001b[0m\u001b[0;32mTrue\u001b[0m\u001b[0;34m,\u001b[0m \u001b[0mtimeout\u001b[0m\u001b[0;34m)\u001b[0m\u001b[0;34m\u001b[0m\u001b[0;34m\u001b[0m\u001b[0m\n\u001b[0m\u001b[1;32m    360\u001b[0m                 \u001b[0;32melse\u001b[0m\u001b[0;34m:\u001b[0m\u001b[0;34m\u001b[0m\u001b[0;34m\u001b[0m\u001b[0m\n\u001b[1;32m    361\u001b[0m                     \u001b[0mgotit\u001b[0m \u001b[0;34m=\u001b[0m \u001b[0mwaiter\u001b[0m\u001b[0;34m.\u001b[0m\u001b[0macquire\u001b[0m\u001b[0;34m(\u001b[0m\u001b[0;32mFalse\u001b[0m\u001b[0;34m)\u001b[0m\u001b[0;34m\u001b[0m\u001b[0;34m\u001b[0m\u001b[0m\n",
            "\u001b[0;31mKeyboardInterrupt\u001b[0m: "
          ]
        }
      ],
      "source": [
        "history = {'train_loss': [], 'val_loss': [], 'train_acc': [], 'val_acc': []}\n",
        "best_val_loss = float('inf')\n",
        "best_model_wts = None\n",
        "patience_counter = 0\n",
        "\n",
        "print(\"\\nStarting Training...\")\n",
        "start_time = time.time()\n",
        "\n",
        "for epoch in range(EPOCHS):\n",
        "    epoch_start_time = time.time()\n",
        "\n",
        "    train_loss, train_acc = train_one_epoch(model, train_loader, criterion, optimizer, DEVICE, train_accuracy)\n",
        "    val_loss, val_acc = validate_one_epoch(model, val_loader, criterion, DEVICE, val_accuracy)\n",
        "\n",
        "    history['train_loss'].append(train_loss)\n",
        "    history['train_acc'].append(train_acc)\n",
        "    history['val_loss'].append(val_loss)\n",
        "    history['val_acc'].append(val_acc)\n",
        "\n",
        "    epoch_duration = time.time() - epoch_start_time\n",
        "    print(f\"Epoch {epoch+1}/{EPOCHS} [{epoch_duration:.2f}s] - \"\n",
        "          f\"Train Loss: {train_loss:.4f}, Train Acc: {train_acc:.4f} | \"\n",
        "          f\"Val Loss: {val_loss:.4f}, Val Acc: {val_acc:.4f}\")\n",
        "\n",
        "    scheduler.step(val_loss) # Step based on validation loss\n",
        "\n",
        "    # Save the best model based on validation loss\n",
        "    if val_loss < best_val_loss:\n",
        "        print(f\"Validation loss improved ({best_val_loss:.4f} -> {val_loss:.4f}). Saving model...\")\n",
        "        best_val_loss = val_loss\n",
        "        best_model_wts = copy.deepcopy(model.state_dict())\n",
        "        torch.save(best_model_wts, MODEL_SAVE_PATH)\n",
        "        patience_counter = 0\n",
        "    else:\n",
        "        patience_counter += 1\n",
        "\n",
        "    if patience_counter >= EARLY_STOPPING_PATIENCE:\n",
        "        print(f\"Early stopping triggered after {epoch+1} epochs.\")\n",
        "        break\n",
        "\n",
        "total_training_time = time.time() - start_time\n",
        "print(f\"\\nTraining Finished. Total time: {total_training_time:.2f}s\")\n",
        "print(f\"Best Validation Loss: {best_val_loss:.4f}\")"
      ]
    },
    {
      "cell_type": "markdown",
      "metadata": {
        "id": "h_o-Q370HCkz"
      },
      "source": [
        "## --- 9. Plot Training History ---"
      ]
    },
    {
      "cell_type": "code",
      "execution_count": 15,
      "metadata": {
        "colab": {
          "base_uri": "https://localhost:8080/",
          "height": 342
        },
        "id": "Z9T39owFHDK4",
        "outputId": "4512585b-6c23-41c2-f625-2463ccc99812"
      },
      "outputs": [
        {
          "data": {
            "image/png": "[encoded data removed]",
            "text/plain": [
              "<Figure size 1500x500 with 2 Axes>"
            ]
          },
          "metadata": {},
          "output_type": "display_data"
        }
      ],
      "source": [
        "plt.style.use('ggplot')\n",
        "fig, axs = plt.subplots(1, 2, figsize=(15, 5))\n",
        "axs[0].plot(history['train_loss'], label='Training Loss')\n",
        "axs[0].plot(history['val_loss'], label='Validation Loss')\n",
        "axs[0].set_title('Loss vs. Epochs'); axs[0].set_xlabel('Epochs'); axs[0].set_ylabel('Loss'); axs[0].legend()\n",
        "axs[1].plot(history['train_acc'], label='Training Accuracy')\n",
        "axs[1].plot(history['val_acc'], label='Validation Accuracy')\n",
        "axs[1].set_title('Accuracy vs. Epochs'); axs[1].set_xlabel('Epochs'); axs[1].set_ylabel('Accuracy'); axs[1].legend()\n",
        "plt.tight_layout(); plt.show()"
      ]
    },
    {
      "cell_type": "markdown",
      "metadata": {
        "id": "1fhaVk6yHHrX"
      },
      "source": [
        "## --- 10. Final Testing ---"
      ]
    },
    {
      "cell_type": "code",
      "execution_count": 16,
      "metadata": {
        "colab": {
          "base_uri": "https://localhost:8080/"
        },
        "id": "TWV3fOElHILK",
        "outputId": "b7748cd8-6040-477c-c38f-c92e7838fb89"
      },
      "outputs": [
        {
          "name": "stdout",
          "output_type": "stream",
          "text": [
            "\n",
            "Evaluating on Test Set using best model weights...\n"
          ]
        },
        {
          "name": "stderr",
          "output_type": "stream",
          "text": [
            "                                                           "
          ]
        },
        {
          "name": "stdout",
          "output_type": "stream",
          "text": [
            "\n",
            "Final Test Loss: 0.0419, Final Test Accuracy: 0.9851\n"
          ]
        },
        {
          "name": "stderr",
          "output_type": "stream",
          "text": [
            "\r"
          ]
        }
      ],
      "source": [
        "print(\"\\nEvaluating on Test Set using best model weights...\")\n",
        "if best_model_wts:\n",
        "    model.load_state_dict(best_model_wts)\n",
        "else:\n",
        "    print(\"Warning: No best model weights saved. Evaluating with final weights.\")\n",
        "\n",
        "test_loss, test_acc = validate_one_epoch(model, test_loader, criterion, DEVICE, val_accuracy) # Reuse validate function\n",
        "print(f\"\\nFinal Test Loss: {test_loss:.4f}, Final Test Accuracy: {test_acc:.4f}\")\n"
      ]
    },
    {
      "cell_type": "code",
      "execution_count": 17,
      "metadata": {
        "colab": {
          "base_uri": "https://localhost:8080/"
        },
        "id": "fpkQEzxVHNkb",
        "outputId": "b71b14e1-c18e-4489-e8a5-f48eb33eee86"
      },
      "outputs": [
        {
          "name": "stdout",
          "output_type": "stream",
          "text": [
            "\n",
            "Classification Report (Test Set):\n",
            "                      precision    recall  f1-score   support\n",
            "\n",
            "AbdulBari_Althubaity       1.00      1.00      1.00        68\n",
            "AbdulRahman_Alsudais       0.99      1.00      0.99        97\n",
            "  Abdullah_Albuaijan       1.00      0.99      0.99        75\n",
            "      Ali_Alhothaify       1.00      0.98      0.99        87\n",
            "      Bander_Balilah       0.97      0.99      0.98        87\n",
            "     Maher_Almuaiqly       1.00      1.00      1.00        87\n",
            "  Mohammed_Aluhaidan       1.00      0.97      0.99        68\n",
            "      Mohammed_Ayoub       0.99      0.96      0.97        72\n",
            "     Nasser_Alqutami       0.94      0.99      0.96        68\n",
            "       Saad_Alghamdi       0.99      0.99      0.99       103\n",
            "      Saud_Alshuraim       0.97      0.99      0.98       105\n",
            "    Yasser_Aldossary       0.98      0.97      0.97        87\n",
            "\n",
            "            accuracy                           0.99      1004\n",
            "           macro avg       0.99      0.98      0.98      1004\n",
            "        weighted avg       0.99      0.99      0.99      1004\n",
            "\n"
          ]
        }
      ],
      "source": [
        "# Optional: Detailed classification report\n",
        "model.eval()\n",
        "all_preds = []\n",
        "all_labels = []\n",
        "with torch.no_grad():\n",
        "    for inputs, labels in test_loader:\n",
        "        valid_indices = labels != -1\n",
        "        if not valid_indices.all():\n",
        "            inputs = inputs[valid_indices]\n",
        "            labels = labels[valid_indices]\n",
        "            if inputs.shape[0] == 0: continue\n",
        "\n",
        "        inputs, labels = inputs.to(DEVICE), labels.to(DEVICE)\n",
        "        outputs = model(inputs)\n",
        "        preds = torch.argmax(outputs, dim=1)\n",
        "        all_preds.extend(preds.cpu().numpy())\n",
        "        all_labels.extend(labels.cpu().numpy())\n",
        "\n",
        "if all_preds and all_labels:\n",
        "    try:\n",
        "        print(\"\\nClassification Report (Test Set):\")\n",
        "        print(classification_report(all_labels, all_preds, target_names=label_encoder.classes_))\n",
        "    except Exception as e:\n",
        "        print(f\"Could not generate classification report: {e}\")\n",
        "else:\n",
        "    print(\"No predictions made on test set, skipping classification report.\")\n"
      ]
    },
    {
      "cell_type": "markdown",
      "metadata": {
        "id": "_eEoywuyHS4T"
      },
      "source": [
        "## --- 11. Inference Function ---"
      ]
    },
    {
      "cell_type": "code",
      "execution_count": 19,
      "metadata": {
        "id": "Df9Ev-PKHQd2"
      },
      "outputs": [],
      "source": [
        "def predict_audio_file(file_path, model_path, encoder_path, device):\n",
        "    \"\"\"Loads model and encoder, processes audio file, predicts class name.\"\"\"\n",
        "    try:\n",
        "        # Load the fitted label encoder\n",
        "        le = joblib.load(encoder_path)\n",
        "        num_classes_inf = len(le.classes_)\n",
        "\n",
        "        # Process the audio file to get spectrogram\n",
        "        spectrogram = get_spectrogram(file_path)\n",
        "        if spectrogram is None:\n",
        "            return \"Error processing audio file.\", 0.0\n",
        "\n",
        "        # Convert to tensor, add channel & batch dim, move to device\n",
        "        input_tensor = torch.tensor(spectrogram, dtype=torch.float32).unsqueeze(0).unsqueeze(0).to(device)\n",
        "\n",
        "        # Load model structure and weights\n",
        "        inf_model = Net(num_classes=num_classes_inf).to(device)\n",
        "        inf_model.load_state_dict(torch.load(model_path, map_location=device))\n",
        "        inf_model.eval()\n",
        "\n",
        "        # Predict\n",
        "        with torch.no_grad():\n",
        "            output = inf_model(input_tensor)\n",
        "            probabilities = torch.softmax(output, dim=1)\n",
        "            confidence, predicted_idx = torch.max(probabilities, 1)\n",
        "            predicted_label_name = le.inverse_transform([predicted_idx.item()])[0]\n",
        "\n",
        "        return predicted_label_name, confidence.item()\n",
        "\n",
        "    except FileNotFoundError:\n",
        "        return f\"Error: File not found ({file_path}, {model_path}, or {encoder_path}).\", 0.0\n",
        "    except Exception as e:\n",
        "        return f\"An error occurred during prediction: {e}\", 0.0\n"
      ]
    },
    {
      "cell_type": "code",
      "execution_count": 20,
      "metadata": {
        "colab": {
          "base_uri": "https://localhost:8080/"
        },
        "id": "pv5c_-RqHbTW",
        "outputId": "db5e1b84-b1c5-4412-9afa-8a2af271e10d"
      },
      "outputs": [
        {
          "name": "stdout",
          "output_type": "stream",
          "text": [
            "Calculated flattened size for linear layers: 32768\n",
            "\n",
            "Inference on 'Saud_149.wav':\n",
            "True Class: Saud_Alshuraim (Index: 10)\n",
            "Predicted Class: Saud_Alshuraim\n",
            "Confidence: 0.9956\n"
          ]
        }
      ],
      "source": [
        "# --- Example Inference ---\n",
        "# Use a file from the test set for example\n",
        "if len(test_df) > 0 and os.path.exists(MODEL_SAVE_PATH) and os.path.exists(ENCODER_SAVE_PATH):\n",
        "    example_audio_path = test_df['FilePath'].iloc[0]\n",
        "    true_label_idx = test_df['label_idx'].iloc[0]\n",
        "    true_label_name = label_encoder.inverse_transform([true_label_idx])[0]\n",
        "\n",
        "    predicted_class, confidence_score = predict_audio_file(\n",
        "        example_audio_path,\n",
        "        MODEL_SAVE_PATH,\n",
        "        ENCODER_SAVE_PATH,\n",
        "        DEVICE\n",
        "    )\n",
        "    print(f\"\\nInference on '{os.path.basename(example_audio_path)}':\")\n",
        "    print(f\"True Class: {true_label_name} (Index: {true_label_idx})\")\n",
        "    print(f\"Predicted Class: {predicted_class}\")\n",
        "    print(f\"Confidence: {confidence_score:.4f}\")\n",
        "else:\n",
        "    print(\"\\nSkipping inference example: Test data or saved model/encoder not found.\")"
      ]
    }
  ],
  "metadata": {
    "accelerator": "GPU",
    "colab": {
      "gpuType": "L4",
      "machine_shape": "hm",
      "provenance": []
    },
    "kernelspec": {
      "display_name": "Python 3",
      "name": "python3"
    },
    "language_info": {
      "name": "python"
    }
  },
  "nbformat": 4,
  "nbformat_minor": 0
}
