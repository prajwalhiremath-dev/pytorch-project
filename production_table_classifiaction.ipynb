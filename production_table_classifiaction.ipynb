{
 "cells": [
  {
   "cell_type": "code",
   "execution_count": null,
   "id": "2814d871",
   "metadata": {},
   "outputs": [],
   "source": [
    "!pip install torchmetrics --quiet"
   ]
  },
  {
   "cell_type": "code",
   "execution_count": null,
   "id": "f405f991",
   "metadata": {},
   "outputs": [],
   "source": [
    "!pip install opendatasets --quiet\n",
    "import opendatasets as od\n",
    "od.download(\"https://www.kaggle.com/datasets/mssmartypants/rice-type-classification\")"
   ]
  },
  {
   "cell_type": "code",
   "execution_count": null,
   "id": "791623ba",
   "metadata": {},
   "outputs": [],
   "source": [
    "import torch\n",
    "import torch.nn as nn\n",
    "from torch.optim import Adam\n",
    "from torch.utils.data import TensorDataset, DataLoader\n",
    "import pandas as pd\n",
    "import numpy as np\n",
    "from sklearn.model_selection import train_test_split\n",
    "from sklearn.preprocessing import StandardScaler\n",
    "from sklearn.pipeline import Pipeline\n",
    "import torchmetrics  # For better metric calculation\n",
    "import matplotlib.pyplot as plt\n",
    "\n",
    "# Device setup\n",
    "device = 'cuda' if torch.cuda.is_available() else 'cpu'\n",
    "print(f\"Using device: {device}\")"
   ]
  },
  {
   "cell_type": "markdown",
   "id": "c3f9f0e9",
   "metadata": {},
   "source": [
    "## Data Loading"
   ]
  },
  {
   "cell_type": "code",
   "execution_count": null,
   "id": "cfa22ae0",
   "metadata": {},
   "outputs": [],
   "source": [
    "# Load\n",
    "data_df = pd.read_csv(\"/content/rice-type-classification/riceClassification.csv\")\n",
    "data_df = data_df.drop('id', axis=1)\n",
    "\n",
    "# Separate features (X) and target (y)\n",
    "X = data_df.drop('Class', axis=1)\n",
    "y = data_df['Class']\n",
    "\n",
    "# Create a 3-way split (Train, Validation, Test)\n",
    "# Note: stratify=y is CRITICAL. It ensures the class balance (55/45)\n",
    "# is preserved in all three of your splits.\n",
    "X_train, X_temp, y_train, y_temp = train_test_split(X, y, test_size=0.3, stratify=y, random_state=42)\n",
    "X_val, X_test, y_val, y_test = train_test_split(X_temp, y_temp, test_size=0.5, stratify=y_temp, random_state=42)\n",
    "\n",
    "print(f\"Train shape: {X_train.shape}, Val shape: {X_val.shape}, Test shape: {X_test.shape}\")"
   ]
  },
  {
   "cell_type": "markdown",
   "id": "8b850391",
   "metadata": {},
   "source": [
    "## Feature Engineering"
   ]
  },
  {
   "cell_type": "markdown",
   "id": "c688d5f8",
   "metadata": {},
   "source": [
    "# 1. Define the preprocessing pipeline\n",
    "#    For this data, we just need to scale all numeric features.\n",
    "preprocessor = Pipeline([\n",
    "    ('scaler', StandardScaler())\n",
    "])\n",
    "\n",
    "# 2. Fit the pipeline ONLY on the training data\n",
    "X_train_scaled = preprocessor.fit_transform(X_train)\n",
    "\n",
    "# 3. Transform the val and test data using the *same* (fitted) pipeline\n",
    "X_val_scaled = preprocessor.transform(X_val)\n",
    "X_test_scaled = preprocessor.transform(X_test)"
   ]
  },
  {
   "cell_type": "code",
   "execution_count": null,
   "id": "45738afd",
   "metadata": {},
   "outputs": [],
   "source": [
    "print(type(y_train.values))\n",
    "print(type(y_train))"
   ]
  },
  {
   "cell_type": "markdown",
   "id": "cbd255d3",
   "metadata": {},
   "source": [
    "## Scalable Dataloaders"
   ]
  },
  {
   "cell_type": "code",
   "execution_count": null,
   "id": "894f104c",
   "metadata": {},
   "outputs": [],
   "source": [
    "# Convert numpy arrays to torch tensors\n",
    "# We keep them as float32 for the model and long for the labels\n",
    "X_train_t = torch.tensor(X_train_scaled, dtype=torch.float32)\n",
    "y_train_t = torch.tensor(y_train.values, dtype=torch.float32)\n",
    "X_val_t = torch.tensor(X_val_scaled, dtype=torch.float32)\n",
    "y_val_t = torch.tensor(y_val.values, dtype=torch.float32)\n",
    "X_test_t = torch.tensor(X_test_scaled, dtype=torch.float32)\n",
    "y_test_t = torch.tensor(y_test.values, dtype=torch.float32)\n",
    "\n",
    "# Create TensorDatasets\n",
    "train_dataset = TensorDataset(X_train_t, y_train_t)\n",
    "val_dataset = TensorDataset(X_val_t, y_val_t)\n",
    "test_dataset = TensorDataset(X_test_t, y_test_t)\n",
    "\n",
    "# Create DataLoaders\n",
    "BATCH_SIZE = 32\n",
    "train_loader = DataLoader(train_dataset, batch_size=BATCH_SIZE, shuffle=True)\n",
    "val_loader = DataLoader(val_dataset, batch_size=BATCH_SIZE, shuffle=False)\n",
    "test_loader = DataLoader(test_dataset, batch_size=BATCH_SIZE, shuffle=False)"
   ]
  },
  {
   "cell_type": "markdown",
   "id": "e93118ab",
   "metadata": {},
   "source": [
    "## Model"
   ]
  },
  {
   "cell_type": "markdown",
   "id": "48ef93ad",
   "metadata": {},
   "source": [
    "class ProductionModel(nn.Module):\n",
    "    def __init__(self, input_features, hidden_units):\n",
    "        super().__init__()\n",
    "        self.layer_stack = nn.Sequential(\n",
    "            nn.Linear(input_features, hidden_units),\n",
    "            nn.ReLU(),  # <--- Added Non-linearity\n",
    "            nn.Dropout(0.3),  # <--- Added Regularization\n",
    "            nn.Linear(hidden_units, hidden_units // 2),\n",
    "            nn.ReLU(),\n",
    "            nn.Dropout(0.2),\n",
    "            nn.Linear(hidden_units // 2, 1) # <--- Output is raw logits\n",
    "        )\n",
    "\n",
    "    def forward(self, x):\n",
    "        return self.layer_stack(x)\n",
    "\n",
    "# Note: X_train_scaled.shape[1] is the number of input features (10)\n",
    "model = ProductionModel(\n",
    "    input_features=X_train_scaled.shape[1],\n",
    "    hidden_units=64  # Let's try a larger model\n",
    ").to(device)\n",
    "\n",
    "summary(model, (X_train_scaled.shape[1],))"
   ]
  },
  {
   "cell_type": "code",
   "execution_count": null,
   "id": "f1a18954",
   "metadata": {},
   "outputs": [],
   "source": [
    "# --- Hyperparameters ---\n",
    "EPOCHS = 20\n",
    "LR = 0.001\n",
    "\n",
    "# --- Loss and Optimizer ---\n",
    "# USE BCEWithLogitsLoss. It's numerically more stable than\n",
    "# a separate Sigmoid layer + BCELoss. It expects RAW LOGITS.\n",
    "criterion = nn.BCEWithLogitsLoss()\n",
    "optimizer = Adam(model.parameters(), lr=LR)\n",
    "\n",
    "# --- Metrics ---\n",
    "# Use torchmetrics for reliable accuracy\n",
    "train_acc = torchmetrics.Accuracy(task=\"binary\").to(device)\n",
    "val_acc = torchmetrics.Accuracy(task=\"binary\").to(device)\n",
    "\n",
    "# --- History ---\n",
    "history = {\"train_loss\": [], \"train_acc\": [], \"val_loss\": [], \"val_acc\": []}\n",
    "\n",
    "\n",
    "for epoch in range(EPOCHS):\n",
    "    # --- Training ---\n",
    "    model.train() # <--- Set model to TRAINING mode (enables Dropout)\n",
    "    train_loss = 0\n",
    "    for X_batch, y_batch in train_loader:\n",
    "        # Move THIS BATCH to the device\n",
    "        X_batch, y_batch = X_batch.to(device), y_batch.to(device).unsqueeze(1)\n",
    "\n",
    "        # 1. Forward pass\n",
    "        y_logits = model(X_batch)\n",
    "\n",
    "        # 2. Calculate loss\n",
    "        loss = criterion(y_logits, y_batch)\n",
    "        train_loss += loss.item()\n",
    "\n",
    "        # 3. Optimizer zero grad\n",
    "        optimizer.zero_grad()\n",
    "\n",
    "        # 4. Loss backward\n",
    "        loss.backward()\n",
    "\n",
    "        # 5. Optimizer step\n",
    "        optimizer.step()\n",
    "\n",
    "        # 6. Update accuracy\n",
    "        train_acc.update(y_logits, y_batch)\n",
    "\n",
    "    # Calculate average loss and acc for the epoch\n",
    "    avg_train_loss = train_loss / len(train_loader)\n",
    "    epoch_train_acc = train_acc.compute()\n",
    "    train_acc.reset() # Reset for next epoch\n",
    "\n",
    "    # --- Validation ---\n",
    "    model.eval() # <--- Set model to EVALUATION mode (disables Dropout)\n",
    "    val_loss = 0\n",
    "    with torch.no_grad():\n",
    "        for X_batch_val, y_batch_val in val_loader:\n",
    "            X_batch_val, y_batch_val = X_batch_val.to(device), y_batch_val.to(device).unsqueeze(1)\n",
    "\n",
    "            y_val_logits = model(X_batch_val)\n",
    "            loss = criterion(y_val_logits, y_batch_val)\n",
    "            val_loss += loss.item()\n",
    "            val_acc.update(y_val_logits, y_batch_val)\n",
    "\n",
    "    avg_val_loss = val_loss / len(val_loader)\n",
    "    epoch_val_acc = val_acc.compute()\n",
    "    val_acc.reset()\n",
    "\n",
    "    print(f\"Epoch {epoch+1}/{EPOCHS} | \"\n",
    "          f\"Train Loss: {avg_train_loss:.4f}, Train Acc: {epoch_train_acc:.4f} | \"\n",
    "          f\"Val Loss: {avg_val_loss:.4f}, Val Acc: {epoch_val_acc:.4f}\")\n",
    "\n",
    "    history[\"train_loss\"].append(avg_train_loss)\n",
    "    history[\"train_acc\"].append(epoch_train_acc.item())\n",
    "    history[\"val_loss\"].append(avg_val_loss)\n",
    "    history[\"val_acc\"].append(epoch_val_acc.item())"
   ]
  },
  {
   "cell_type": "code",
   "execution_count": null,
   "id": "a133eff7",
   "metadata": {},
   "outputs": [],
   "source": [
    "# Plot the history\n",
    "fig, axs = plt.subplots(nrows=1, ncols=2, figsize=(15, 5))\n",
    "\n",
    "axs[0].plot(history['train_loss'], label=\"Training Loss\")\n",
    "axs[0].plot(history['val_loss'], label=\"Validation Loss\")\n",
    "axs[0].set_title(\"Loss over Epochs\")\n",
    "axs[0].legend()\n",
    "\n",
    "axs[1].plot(history['train_acc'], label=\"Training Accuracy\")\n",
    "axs[1].plot(history['val_acc'], label=\"Validation Accuracy\")\n",
    "axs[1].set_title(\"Accuracy over Epochs\")\n",
    "axs[1].legend()\n",
    "\n",
    "plt.show()\n",
    "\n",
    "# --- Final Test ---\n",
    "# Evaluate the model on the unseen test set\n",
    "test_acc = torchmetrics.Accuracy(task=\"binary\").to(device)\n",
    "model.eval()\n",
    "with torch.no_grad():\n",
    "    for X_batch_test, y_batch_test in test_loader:\n",
    "        X_batch_test, y_batch_test = X_batch_test.to(device), y_batch_test.to(device).unsqueeze(1)\n",
    "        y_test_logits = model(X_batch_test)\n",
    "        test_acc.update(y_test_logits, y_batch_test)\n",
    "\n",
    "final_test_accuracy = test_acc.compute()\n",
    "print(f\"Final Test Accuracy: {final_test_accuracy.item():.4f}\")"
   ]
  }
 ],
 "metadata": {
  "language_info": {
   "name": "python"
  }
 },
 "nbformat": 4,
 "nbformat_minor": 5
}
