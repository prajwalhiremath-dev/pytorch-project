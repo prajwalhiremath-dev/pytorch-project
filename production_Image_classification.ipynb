{
  "cells": [
    {
      "cell_type": "code",
      "execution_count": null,
      "metadata": {
        "colab": {
          "base_uri": "https://localhost:8080/"
        },
        "id": "unBmELyPX_0Y",
        "outputId": "bdcff454-2487-4d40-966d-0763573c9e6a"
      },
      "outputs": [],
      "source": [
        "!pip install opendatasets --quiet\n",
        "import opendatasets as od\n",
        "od.download(\"https://www.kaggle.com/datasets/andrewmvd/animal-faces\")"
      ]
    },
    {
      "cell_type": "markdown",
      "metadata": {
        "id": "Y8Sp0dVppB4O"
      },
      "source": [
        "# Productin ready Image Classification"
      ]
    },
    {
      "cell_type": "code",
      "execution_count": 1,
      "metadata": {
        "colab": {
          "base_uri": "https://localhost:8080/"
        },
        "id": "YRTKD3i2qAwe",
        "outputId": "50feb694-b76a-49ca-e18c-a41862c0d764"
      },
      "outputs": [
        {
          "name": "stdout",
          "output_type": "stream",
          "text": [
            "\u001b[?25l   \u001b[90m━━━━━━━━━━━━━━━━━━━━━━━━━━━━━━━━━━━━━━━━\u001b[0m \u001b[32m0.0/983.2 kB\u001b[0m \u001b[31m?\u001b[0m eta \u001b[36m-:--:--\u001b[0m\r\u001b[2K   \u001b[90m━━━━━━━━━━━━━━━━━━━━━━━━━━━━━━━━━━━━━━━━\u001b[0m \u001b[32m983.2/983.2 kB\u001b[0m \u001b[31m54.0 MB/s\u001b[0m eta \u001b[36m0:00:00\u001b[0m\n",
            "\u001b[?25h"
          ]
        }
      ],
      "source": [
        "!pip install torchmetrics --quiet"
      ]
    },
    {
      "cell_type": "code",
      "execution_count": 2,
      "metadata": {
        "id": "nKhBSKIyty9Y"
      },
      "outputs": [],
      "source": [
        "import torch\n",
        "import torch.nn as nn\n",
        "import torch.optim as optim\n",
        "from torch.utils.data import Dataset, DataLoader\n",
        "import torchvision.transforms as transforms\n",
        "from torchvision.transforms.functional import InterpolationMode #for new torchvision\n",
        "from sklearn.model_selection import train_test_split\n",
        "from sklearn.metrics import accuracy_score, classification_report\n",
        "from PIL import Image\n",
        "import pandas as pd\n",
        "import numpy as np\n",
        "import os\n",
        "import time\n",
        "import json\n",
        "import torchmetrics\n",
        "import matplotlib.pyplot as plt\n",
        "import copy"
      ]
    },
    {
      "cell_type": "markdown",
      "metadata": {
        "id": "FSeCpuLLqLUy"
      },
      "source": [
        "## configuration"
      ]
    },
    {
      "cell_type": "code",
      "execution_count": 3,
      "metadata": {
        "colab": {
          "base_uri": "https://localhost:8080/"
        },
        "id": "dSLIApxNqKEY",
        "outputId": "5435dc4c-0563-4e3e-ef0a-e6275710b530"
      },
      "outputs": [
        {
          "name": "stdout",
          "output_type": "stream",
          "text": [
            "Please provide your Kaggle credentials to download this dataset. Learn more: http://bit.ly/kaggle-creds\n",
            "Your Kaggle username: prajwalhiremath\n",
            "Your Kaggle Key: ··········\n",
            "Dataset URL: https://www.kaggle.com/datasets/andrewmvd/animal-faces\n",
            "Downloading animal-faces.zip to ./animal-faces\n"
          ]
        },
        {
          "name": "stderr",
          "output_type": "stream",
          "text": [
            "100%|██████████| 696M/696M [00:00<00:00, 1.67GB/s]\n"
          ]
        },
        {
          "name": "stdout",
          "output_type": "stream",
          "text": [
            "\n"
          ]
        }
      ],
      "source": [
        "!pip install opendatasets --quiet\n",
        "import opendatasets as od\n",
        "od.download(\"https://www.kaggle.com/datasets/andrewmvd/animal-faces\")"
      ]
    },
    {
      "cell_type": "code",
      "execution_count": 66,
      "metadata": {
        "colab": {
          "base_uri": "https://localhost:8080/"
        },
        "id": "F9XRkK47qVaF",
        "outputId": "b2f551c0-f6ad-4ab2-c0c8-c01b3c79a55e"
      },
      "outputs": [
        {
          "name": "stdout",
          "output_type": "stream",
          "text": [
            "Using Device : cuda\n"
          ]
        }
      ],
      "source": [
        "DATA_DIR = \"/content/animal-faces/afhq\" #Base directory of the dataset\n",
        "MODEL_SAVE_PATH = \"best_animal_classifier.pth\"\n",
        "LABEL_MAP_PATH = \"label_mapping.json\"\n",
        "IMAGE_SIZE = 128\n",
        "BATCH_SIZE = 32\n",
        "EPOCHS = 20\n",
        "LEARNING_RATE = 1e-4\n",
        "RANDOM_STATE = 42\n",
        "DEVICE = \"cuda\" if torch.cuda.is_available() else \"cpu\"\n",
        "NUM_WORKERS = 2 #For DataLoader, adjust based on the system\n",
        "\n",
        "print(f\"Using Device : {DEVICE}\")"
      ]
    },
    {
      "cell_type": "markdown",
      "metadata": {
        "id": "eSJxLk6orq35"
      },
      "source": [
        "## 1. DATA Loading and Preparation"
      ]
    },
    {
      "cell_type": "code",
      "execution_count": 67,
      "metadata": {
        "id": "SvRETqrWrOJ8"
      },
      "outputs": [],
      "source": [
        "def load_image_paths(data_dir):\n",
        "  image_paths = []\n",
        "  labels = []\n",
        "  class_names = set()\n",
        "\n",
        "  for split in os.listdir(data_dir):\n",
        "    split_path = os.path.join(data_dir, split)\n",
        "    if not os.path.isdir(split_path):\n",
        "      continue\n",
        "    for label in os.listdir(split_path):\n",
        "      label_path = os.path.join(split_path, label)\n",
        "      if not os.path.isdir(label_path):\n",
        "        continue\n",
        "      class_names.add(label)\n",
        "      for image_file in os.listdir(label_path):\n",
        "        if image_file.lower().endswith(('.png','.jpg','.jpeg')):\n",
        "          image_paths.append(os.path.join(label_path, image_file))\n",
        "          labels.append(label)\n",
        "  if not image_paths:\n",
        "    raise ValueError(f\"No images found in {data_dir}. Check the directory\")\n",
        "  df = pd.DataFrame({\"image_path\":image_paths, \"label\":labels})\n",
        "  sorted_classes = sorted(list(class_names))\n",
        "  label_map = {name: idx for idx, name in enumerate(sorted_classes)}\n",
        "  df['label_idx'] = df['label'].map(label_map)\n",
        "\n",
        "  print(f\"Found {len(df)} images belonging to {len(label_map)} classes\")\n",
        "  print(f\"Class distribution:\\n{df['label'].value_counts()}\")\n",
        "  return df, label_map"
      ]
    },
    {
      "cell_type": "markdown",
      "metadata": {
        "id": "vb2191Smucsg"
      },
      "source": [
        "### Load data and create label map"
      ]
    },
    {
      "cell_type": "code",
      "execution_count": 68,
      "metadata": {
        "colab": {
          "base_uri": "https://localhost:8080/"
        },
        "id": "mWCxPU0FuY6c",
        "outputId": "49c67147-1a47-4b5a-ffe7-81f430bb3f01"
      },
      "outputs": [
        {
          "name": "stdout",
          "output_type": "stream",
          "text": [
            "Found 16130 images belonging to 3 classes\n",
            "Class distribution:\n",
            "label\n",
            "cat     5653\n",
            "dog     5239\n",
            "wild    5238\n",
            "Name: count, dtype: int64\n",
            "Label mapping saved to : label_mapping.json\n",
            "Label Map : {'cat': 0, 'dog': 1, 'wild': 2}\n",
            "\n",
            "Dataset split:\n",
            "\n",
            "Train: 11291 samples\n",
            "Validation: 2419 samples\n",
            "Test: 2420 samples\n"
          ]
        }
      ],
      "source": [
        "try:\n",
        "  data_df, label_map = load_image_paths(DATA_DIR)\n",
        "  num_classes = len(label_map)\n",
        "\n",
        "  #save label mapping for inference later\n",
        "  with open(LABEL_MAP_PATH, 'w') as f:\n",
        "    json.dump(label_map, f)\n",
        "  print(f\"Label mapping saved to : {LABEL_MAP_PATH}\")\n",
        "  print(f\"Label Map : {label_map}\")\n",
        "\n",
        "  #split data (using sklearn for startification)\n",
        "  #train, val, test -> 70%, 15%, 15%\n",
        "  train_df, temp_df = train_test_split(\n",
        "      data_df,\n",
        "      test_size=0.3,\n",
        "      random_state=RANDOM_STATE,\n",
        "      stratify=data_df['label_idx']\n",
        "  )\n",
        "  val_df, test_df = train_test_split(\n",
        "      temp_df,\n",
        "      test_size=0.5,\n",
        "      random_state=RANDOM_STATE,\n",
        "      stratify=temp_df['label_idx']\n",
        "  )\n",
        "  print(f\"\\nDataset split:\\n\")\n",
        "  print(f\"Train: {len(train_df)} samples\")\n",
        "  print(f\"Validation: {len(val_df)} samples\")\n",
        "  print(f\"Test: {len(test_df)} samples\")\n",
        "except ValueError as e:\n",
        "  print(f\"Error loading data: {e}\")\n",
        "  exit()\n",
        "except Exception as e:\n",
        "  print(f\"Error during data loading : {e}\")\n",
        "  exit()"
      ]
    },
    {
      "cell_type": "markdown",
      "metadata": {
        "id": "pRzd5tEWwu_q"
      },
      "source": [
        "## 2. Define Transforms"
      ]
    },
    {
      "cell_type": "markdown",
      "metadata": {
        "id": "RPTDWsTVw96g"
      },
      "source": [
        "Different transforms for training (agumentation) and val/testing"
      ]
    },
    {
      "cell_type": "code",
      "execution_count": 69,
      "metadata": {
        "id": "k58BNRqjwgJ7"
      },
      "outputs": [],
      "source": [
        "train_transform = transforms.Compose([\n",
        "    transforms.Resize((IMAGE_SIZE, IMAGE_SIZE), interpolation=InterpolationMode.BILINEAR),\n",
        "    transforms.RandomHorizontalFlip(p=0.5), #simple augemtation\n",
        "    transforms.RandomRotation(10),#simple augemtation\n",
        "    transforms.ColorJitter(brightness=0.1, contrast=0.1, saturation=0.1, hue=0.1),#More agumentation\n",
        "    transforms.ToTensor(),\n",
        "    transforms.ConvertImageDtype(torch.float),\n",
        "    transforms.Normalize(mean=[0.485, 0.456, 0.406], std=[0.229, 0.224, 0.225])#imagenet stats often work well\n",
        "])\n",
        "val_test_transform = transforms.Compose([\n",
        "    transforms.Resize((IMAGE_SIZE, IMAGE_SIZE), interpolation=InterpolationMode.BILINEAR),\n",
        "    transforms.ToTensor(),\n",
        "    transforms.ConvertImageDtype(torch.float),\n",
        "    transforms.Normalize(mean=[0.485, 0.456, 0.406], std=[0.229, 0.224, 0.225])\n",
        "])"
      ]
    },
    {
      "cell_type": "markdown",
      "metadata": {
        "id": "vovMSQl7ysPQ"
      },
      "source": [
        "## 3. Custom Dataset"
      ]
    },
    {
      "cell_type": "code",
      "execution_count": 70,
      "metadata": {
        "id": "okmUthH6yreD"
      },
      "outputs": [],
      "source": [
        "class AnimalDataset(Dataset):\n",
        "  def __init__(self, dataframe, transform=None):\n",
        "    self.dataframe = dataframe\n",
        "    self.transform = transform\n",
        "    #store the paths and labels directly\n",
        "    self.image_paths = dataframe['image_path'].tolist()\n",
        "    self.labels = dataframe['label_idx'].tolist()\n",
        "\n",
        "  def __len__(self):\n",
        "    return len(self.dataframe)\n",
        "\n",
        "  def __getitem__(self, idx):\n",
        "    img_path = self.image_paths[idx]\n",
        "    label = self.labels[idx]\n",
        "\n",
        "    try:\n",
        "      #open image and ensure it's RGB\n",
        "      image = Image.open(img_path).convert('RGB')\n",
        "    except FileNotFoundError:\n",
        "      print(f\"Image not found {img_path}. Skipping\")\n",
        "      return torch.zeros(3, IMAGE_SIZE, IMAGE_SIZE), -1\n",
        "    except Exception as e:\n",
        "      print(f\"Warning: Error opening image {img_path}:{e}, skipping\")\n",
        "      return torch.zeros(3, IMAGE_SIZE, IMAGE_SIZE), -1\n",
        "\n",
        "    if self.transform:\n",
        "      image = self.transform(image)\n",
        "\n",
        "    return image, torch.tensor(label, dtype = torch.long) #CrossEntropyLoss expects long tensors for labels\n",
        "\n"
      ]
    },
    {
      "cell_type": "markdown",
      "metadata": {
        "id": "7cWrtnr80ktV"
      },
      "source": [
        "## 4. Create Datasets and DataLoaders"
      ]
    },
    {
      "cell_type": "code",
      "execution_count": 71,
      "metadata": {
        "id": "pagCxypM0kEh"
      },
      "outputs": [],
      "source": [
        "train_dataset = AnimalDataset(train_df, transform=train_transform)\n",
        "val_dataset = AnimalDataset(val_df, transform=val_test_transform)\n",
        "test_dataset = AnimalDataset(test_df, transform=val_test_transform)"
      ]
    },
    {
      "cell_type": "code",
      "execution_count": 72,
      "metadata": {
        "colab": {
          "base_uri": "https://localhost:8080/"
        },
        "id": "tyjBrPbF1C_9",
        "outputId": "35595294-c001-47e7-dcb2-00522ae1c3ab"
      },
      "outputs": [
        {
          "name": "stdout",
          "output_type": "stream",
          "text": [
            "\n",
            "DataLoaders Created.\n",
            "\n"
          ]
        }
      ],
      "source": [
        "#Use Persistent_workers=True if available for faster startup after first epoch\n",
        "train_loader = DataLoader(\n",
        "    train_dataset,\n",
        "    batch_size=BATCH_SIZE,\n",
        "    shuffle=True,\n",
        "    num_workers=NUM_WORKERS,\n",
        "    pin_memory=True if DEVICE == \"cuda\" else False,\n",
        "    persistent_workers=True if NUM_WORKERS > 0 else False,\n",
        ")\n",
        "val_loader = DataLoader(\n",
        "    val_dataset,\n",
        "    batch_size=BATCH_SIZE,\n",
        "    shuffle=False, #No need\n",
        "    num_workers=NUM_WORKERS,\n",
        "    pin_memory= True if DEVICE == \"cuda\" else False,\n",
        "    persistent_workers=True if NUM_WORKERS > 0 else False,\n",
        ")\n",
        "test_loader = DataLoader(\n",
        "    test_dataset,\n",
        "    batch_size=BATCH_SIZE,\n",
        "    shuffle=False,\n",
        "    num_workers=NUM_WORKERS,\n",
        "    pin_memory=True if DEVICE==\"cuda\" else False,\n",
        "    persistent_workers=True if NUM_WORKERS > 0 else False,\n",
        ")\n",
        "\n",
        "print(\"\\nDataLoaders Created.\\n\")"
      ]
    },
    {
      "cell_type": "markdown",
      "metadata": {
        "id": "QLhyaIKy2Qo6"
      },
      "source": [
        "##  5. Define the Model"
      ]
    },
    {
      "cell_type": "code",
      "execution_count": 73,
      "metadata": {
        "id": "IfxGqGd92MRB"
      },
      "outputs": [],
      "source": [
        "class Net(nn.Module):\n",
        "    def __init__(self, num_classes):\n",
        "        super().__init__()\n",
        "        # Conv Block 1\n",
        "        self.conv1 = nn.Conv2d(3, 32, kernel_size=3, padding=1)\n",
        "        self.bn1 = nn.BatchNorm2d(32) # Added BatchNorm\n",
        "        # Conv Block 2\n",
        "        self.conv2 = nn.Conv2d(32, 64, kernel_size=3, padding=1)\n",
        "        self.bn2 = nn.BatchNorm2d(64) # Added BatchNorm\n",
        "        # Conv Block 3\n",
        "        self.conv3 = nn.Conv2d(64, 128, kernel_size=3, padding=1)\n",
        "        self.bn3 = nn.BatchNorm2d(128) # Added BatchNorm\n",
        "\n",
        "        self.pooling = nn.MaxPool2d(2, 2)\n",
        "        self.relu = nn.ReLU()\n",
        "        self.flatten = nn.Flatten()\n",
        "        # Calculate the flattened size dynamically (robust to IMAGE_SIZE changes)\n",
        "        # We need to do a dummy forward pass to determine the size\n",
        "        # This assumes IMAGE_SIZE is divisible by 2 three times (due to 3 pooling layers)\n",
        "        if IMAGE_SIZE % 8 != 0:\n",
        "             print(\"Warning: Image size might not be perfectly divisible by pooling layers.\")\n",
        "\n",
        "        # Determine flattened size after conv/pool blocks\n",
        "        # Dummy input: batch_size=1, channels=3, height=IMAGE_SIZE, width=IMAGE_SIZE\n",
        "        with torch.no_grad():\n",
        "             dummy_input = torch.zeros(1, 3, IMAGE_SIZE, IMAGE_SIZE).to(DEVICE)\n",
        "             # Pass the dummy input through the convolutional part of the network\n",
        "             # Note: Model needs to be on DEVICE before this calculation if using GPU\n",
        "             temp_model = nn.Sequential( # Create temporary sequence for calculation\n",
        "                 self.conv1, self.pooling, self.bn1, self.relu,\n",
        "                 self.conv2, self.pooling, self.bn2, self.relu,\n",
        "                 self.conv3, self.pooling, self.bn3, self.relu\n",
        "             ).to(DEVICE) # Ensure temp model is on device\n",
        "             temp_model.eval() # Set to eval mode for calculation consistency\n",
        "             x = temp_model(dummy_input)\n",
        "             # Correctly calculate the flattened size: C * H * W\n",
        "             flattened_size = x.shape[1] * x.shape[2] * x.shape[3]\n",
        "             # Clean up temporary model if needed (optional)\n",
        "             del temp_model\n",
        "             if DEVICE == \"cuda\": torch.cuda.empty_cache() # Clear cache if on GPU\n",
        "\n",
        "        self.linear1 = nn.Linear(flattened_size, 128) # Use calculated size\n",
        "        self.dropout = nn.Dropout(0.5) # Added Dropout for regularization\n",
        "        self.output = nn.Linear(128, num_classes)\n",
        "\n",
        "    def forward(self, x):\n",
        "        # Convolutional blocks\n",
        "        x = self.relu(self.bn1(self.pooling(self.conv1(x))))\n",
        "        x = self.relu(self.bn2(self.pooling(self.conv2(x))))\n",
        "        x = self.relu(self.bn3(self.pooling(self.conv3(x))))\n",
        "\n",
        "        # Flatten and fully connected layers\n",
        "        x = self.flatten(x)\n",
        "        x = self.relu(self.linear1(x))\n",
        "        x = self.dropout(x) # Apply dropout before final layer\n",
        "        x = self.output(x) # Raw logits\n",
        "        return x\n"
      ]
    },
    {
      "cell_type": "code",
      "execution_count": 74,
      "metadata": {
        "id": "G_E78jOo6IVQ"
      },
      "outputs": [],
      "source": [
        "!pip install torchinfo --quiet"
      ]
    },
    {
      "cell_type": "code",
      "execution_count": 75,
      "metadata": {
        "colab": {
          "base_uri": "https://localhost:8080/"
        },
        "id": "dVCY4fvo3jwb",
        "outputId": "e00740ed-7ff5-4794-8f6b-0b3b0e705d92"
      },
      "outputs": [
        {
          "name": "stdout",
          "output_type": "stream",
          "text": [
            "\n",
            "Model created and moved to device.\n",
            "----------------------------------------------------------------\n",
            "        Layer (type)               Output Shape         Param #\n",
            "================================================================\n",
            "            Conv2d-1         [-1, 32, 128, 128]             896\n",
            "         MaxPool2d-2           [-1, 32, 64, 64]               0\n",
            "       BatchNorm2d-3           [-1, 32, 64, 64]              64\n",
            "              ReLU-4           [-1, 32, 64, 64]               0\n",
            "            Conv2d-5           [-1, 64, 64, 64]          18,496\n",
            "         MaxPool2d-6           [-1, 64, 32, 32]               0\n",
            "       BatchNorm2d-7           [-1, 64, 32, 32]             128\n",
            "              ReLU-8           [-1, 64, 32, 32]               0\n",
            "            Conv2d-9          [-1, 128, 32, 32]          73,856\n",
            "        MaxPool2d-10          [-1, 128, 16, 16]               0\n",
            "      BatchNorm2d-11          [-1, 128, 16, 16]             256\n",
            "             ReLU-12          [-1, 128, 16, 16]               0\n",
            "          Flatten-13                [-1, 32768]               0\n",
            "           Linear-14                  [-1, 128]       4,194,432\n",
            "             ReLU-15                  [-1, 128]               0\n",
            "          Dropout-16                  [-1, 128]               0\n",
            "           Linear-17                    [-1, 3]             387\n",
            "================================================================\n",
            "Total params: 4,288,515\n",
            "Trainable params: 4,288,515\n",
            "Non-trainable params: 0\n",
            "----------------------------------------------------------------\n",
            "Input size (MB): 0.19\n",
            "Forward/backward pass size (MB): 12.50\n",
            "Params size (MB): 16.36\n",
            "Estimated Total Size (MB): 29.05\n",
            "----------------------------------------------------------------\n"
          ]
        }
      ],
      "source": [
        "# Move model to device *before* dynamic size calculation if using GPU, or handle device within init\n",
        "model = Net(num_classes=num_classes).to(DEVICE)\n",
        "print(\"\\nModel created and moved to device.\")\n",
        "try:\n",
        "    from torchsummary import summary\n",
        "    # Pass the size of a SINGLE sample (C, H, W)\n",
        "    summary(model, input_size=(3, IMAGE_SIZE, IMAGE_SIZE))\n",
        "except Exception as e:\n",
        "    print(f\"\\nCould not print model summary: {e}\") # Keep detailed error reporting"
      ]
    },
    {
      "cell_type": "markdown",
      "metadata": {
        "id": "dziJAk6n6ire"
      },
      "source": [
        "## 6. Loss, Optimizer, Metrics"
      ]
    },
    {
      "cell_type": "code",
      "execution_count": 58,
      "metadata": {
        "id": "Ty6hoimQ3u1K"
      },
      "outputs": [],
      "source": [
        "criterion = nn.CrossEntropyLoss()\n",
        "optimizer = optim.Adam(model.parameters(), lr=LEARNING_RATE)\n",
        "scheduler = optim.lr_scheduler.ReduceLROnPlateau(optimizer, mode='min', factor=0.1, patience=3) # LR scheduler"
      ]
    },
    {
      "cell_type": "code",
      "execution_count": 76,
      "metadata": {
        "id": "rHvGjo1-4MP9"
      },
      "outputs": [],
      "source": [
        "#Use torchmetrics for accuracy\n",
        "train_accuracy = torchmetrics.Accuracy(task=\"multiclass\", num_classes=num_classes).to(DEVICE)\n",
        "val_accuracy = torchmetrics.Accuracy(task=\"multiclass\", num_classes=num_classes).to(DEVICE)"
      ]
    },
    {
      "cell_type": "markdown",
      "metadata": {
        "id": "Kiiq-zAa7VBm"
      },
      "source": [
        "## 7. Training Loop"
      ]
    },
    {
      "cell_type": "code",
      "execution_count": 77,
      "metadata": {
        "colab": {
          "base_uri": "https://localhost:8080/"
        },
        "id": "Rj34Bb9H3pNO",
        "outputId": "be3a1e12-65a8-49cf-dfc6-4766c25bb3ce"
      },
      "outputs": [
        {
          "name": "stdout",
          "output_type": "stream",
          "text": [
            "\n",
            "Starting Training ....\n",
            "Epoch 1/20 [41.04s] - Train Loss: 1.1100, Train Acc: 0.3400 | Val Loss: 1.0965, Val Acc: 0.3555\n",
            "Validation accuracy improved (0.0000 -> 0.3555). Saving model ...\n",
            "Epoch 2/20 [40.00s] - Train Loss: 1.1127, Train Acc: 0.3368 | Val Loss: 1.0965, Val Acc: 0.3547\n",
            "Epoch 3/20 [39.15s] - Train Loss: 1.1123, Train Acc: 0.3360 | Val Loss: 1.0968, Val Acc: 0.3506\n",
            "Epoch 4/20 [39.06s] - Train Loss: 1.1104, Train Acc: 0.3435 | Val Loss: 1.0965, Val Acc: 0.3576\n",
            "Validation accuracy improved (0.3555 -> 0.3576). Saving model ...\n",
            "Epoch 5/20 [39.29s] - Train Loss: 1.1094, Train Acc: 0.3416 | Val Loss: 1.0971, Val Acc: 0.3501\n",
            "Epoch 6/20 [41.19s] - Train Loss: 1.1108, Train Acc: 0.3400 | Val Loss: 1.0966, Val Acc: 0.3518\n",
            "Epoch 7/20 [41.34s] - Train Loss: 1.1130, Train Acc: 0.3359 | Val Loss: 1.0968, Val Acc: 0.3489\n",
            "Epoch 8/20 [39.86s] - Train Loss: 1.1120, Train Acc: 0.3366 | Val Loss: 1.0968, Val Acc: 0.3543\n",
            "Epoch 9/20 [40.09s] - Train Loss: 1.1121, Train Acc: 0.3292 | Val Loss: 1.0967, Val Acc: 0.3563\n",
            "Early stopping triggered after 9 epochs.\n",
            "\n",
            "Training Finished. Total time: 361.12s\n",
            "Best Validation Accuracy: 0.3576\n"
          ]
        }
      ],
      "source": [
        "history = {\n",
        "    'train_loss':[], 'val_loss':[],\n",
        "    'train_acc':[], 'val_acc':[]\n",
        "}\n",
        "best_val_acc = 0.0\n",
        "best_model_wts = None\n",
        "patience_counter = 0\n",
        "early_stopping_patience = 5 #stop if val loss doesn't imporve for 5 epochs\n",
        "\n",
        "print(\"\\nStarting Training ....\")\n",
        "\n",
        "start_time = time.time()\n",
        "\n",
        "for epoch in range(EPOCHS):\n",
        "  epoch_start_time = time.time()\n",
        "\n",
        "  #----Training Phase ---\n",
        "  model.train() #setting the model to training mode\n",
        "  running_train_loss = 0\n",
        "  train_accuracy.reset()\n",
        "\n",
        "  for i, (inputs, labels) in enumerate(train_loader):\n",
        "    #Filter out potential dummy data drom dataset __getitem__ error handling\n",
        "    valid_indices = labels != -1\n",
        "    if not valid_indices.all():\n",
        "      print(f\"Filtering {(~valid_indices).sum()} invalid samples in training batch.\")\n",
        "      inputs = inputs[valid_indices]\n",
        "      labels = labels[valid_indices]\n",
        "      if inputs.shape[0] == 0: continue #Skip if batch becomes empty\n",
        "    inputs, labels = inputs.to(DEVICE), labels.to(DEVICE)\n",
        "\n",
        "    optimizer.zero_grad() #zero gradients\n",
        "    outputs = model(inputs) #forward pass\n",
        "    loss = criterion(outputs, labels) #Calculate loss\n",
        "    loss.backward() #Backward pass\n",
        "    optimizer.step() #Update weights\n",
        "\n",
        "    running_train_loss += loss.item() * inputs.size(0) #Loss for the batch\n",
        "    train_accuracy.update(outputs, labels) #update accuracy metrics\n",
        "\n",
        "  epoch_train_loss = running_train_loss / len(train_dataset)\n",
        "  epoch_train_acc = train_accuracy.compute()\n",
        "\n",
        "  # --- Validation Phase ---\n",
        "  model.eval() #Setting model to evaluation mode\n",
        "  running_val_loss = 0.0\n",
        "  val_accuracy.reset()\n",
        "\n",
        "  with torch.no_grad(): #No gradients needed for validation\n",
        "    for inputs, labels in val_loader:\n",
        "      #Filter out dummy data if any were retured by dataset\n",
        "      valid_indices = labels != -1\n",
        "      if not valid_indices.all():\n",
        "        print(f\"Filtering { (~valid_indices).sum() } invalid samples in validation batch.\")\n",
        "        inputs = inputs[valid_indices]\n",
        "        labels = labels[valid_indices]\n",
        "        if inputs.shape[0] == 0: continue # Skip if batch becomes empty\n",
        "\n",
        "      inputs, labels = inputs.to(DEVICE), labels.to(DEVICE)\n",
        "      outputs = model(inputs)\n",
        "      loss = criterion(outputs, labels)\n",
        "\n",
        "      running_val_loss += loss.item() * inputs.size(0)\n",
        "      val_accuracy.update(outputs, labels)\n",
        "  #Avoid division by 0 if val_dataset is empty after filtering\n",
        "  epoch_val_acc_float = 0.0\n",
        "  if len(val_dataset) > 0:\n",
        "    epoch_val_loss = running_val_loss/len(val_dataset)\n",
        "    epoch_val_acc = val_accuracy.compute()\n",
        "    epoch_val_acc_float = epoch_val_acc.item()\n",
        "  else:\n",
        "    epoch_val_loss = 0\n",
        "    epoch_val_acc = torch.tensor(0.0).to(DEVICE)\n",
        "\n",
        "\n",
        "  #--- Logging and Saving ---\n",
        "  history['train_loss'] .append(epoch_train_loss)\n",
        "  history['train_acc'].append(epoch_train_acc.item())\n",
        "  history['val_loss'].append(epoch_val_loss)\n",
        "  history['val_acc'].append(epoch_val_acc_float)\n",
        "\n",
        "  epoch_duration = time.time() - epoch_start_time\n",
        "  print(f\"Epoch {epoch+1}/{EPOCHS} [{epoch_duration:.2f}s] - \"\n",
        "          f\"Train Loss: {epoch_train_loss:.4f}, Train Acc: {epoch_train_acc:.4f} | \"\n",
        "          f\"Val Loss: {epoch_val_loss:.4f}, Val Acc: {epoch_val_acc:.4f}\")\n",
        "\n",
        "  #step the scheduler\n",
        "  scheduler.step(epoch_val_loss)\n",
        "\n",
        "  #Save the best model based in validation accuracy\n",
        "  if epoch_val_acc > best_val_acc:\n",
        "    print(f\"Validation accuracy improved ({best_val_acc:.4f} -> {epoch_val_acc:.4f}). Saving model ...\")\n",
        "    best_val_acc = epoch_val_acc\n",
        "    best_model_wts = copy.deepcopy(model.state_dict())\n",
        "    torch.save(best_model_wts, MODEL_SAVE_PATH)\n",
        "    patience_counter=0 #reset pateince\n",
        "  else:\n",
        "    patience_counter += 1\n",
        "\n",
        "  #Early stopping\n",
        "  if patience_counter >= early_stopping_patience:\n",
        "    print(f\"Early stopping triggered after {epoch+1} epochs.\")\n",
        "    break\n",
        "\n",
        "total_training_time = time.time() - start_time\n",
        "print(f\"\\nTraining Finished. Total time: {total_training_time:.2f}s\")\n",
        "print(f\"Best Validation Accuracy: {best_val_acc:.4f}\")\n"
      ]
    },
    {
      "cell_type": "markdown",
      "metadata": {
        "id": "FJ-YB1JKD5nx"
      },
      "source": [
        "## --- 8. Plot Training History ---"
      ]
    },
    {
      "cell_type": "code",
      "execution_count": 78,
      "metadata": {
        "colab": {
          "base_uri": "https://localhost:8080/",
          "height": 342
        },
        "id": "n8Gdqiaw3s2l",
        "outputId": "283fe6d0-082e-445d-9bcd-a7b35796b271"
      },
      "outputs": [
        {
          "data": {
            "image/png": "[encoded data removed]",
            "text/plain": [
              "<Figure size 1500x500 with 2 Axes>"
            ]
          },
          "metadata": {},
          "output_type": "display_data"
        }
      ],
      "source": [
        "plt.style.use('ggplot')\n",
        "fig, axs = plt.subplots(1, 2, figsize=(15, 5))\n",
        "\n",
        "# Loss plot\n",
        "axs[0].plot(history['train_loss'], label='Training Loss')\n",
        "axs[0].plot(history['val_loss'], label='Validation Loss')\n",
        "axs[0].set_title('Loss vs. Epochs')\n",
        "axs[0].set_xlabel('Epochs')\n",
        "axs[0].set_ylabel('Loss')\n",
        "axs[0].legend()\n",
        "\n",
        "# Accuracy plot\n",
        "axs[1].plot(history['train_acc'], label='Training Accuracy')\n",
        "axs[1].plot(history['val_acc'], label='Validation Accuracy')\n",
        "axs[1].set_title('Accuracy vs. Epochs')\n",
        "axs[1].set_xlabel('Epochs')\n",
        "axs[1].set_ylabel('Accuracy')\n",
        "axs[1].legend()\n",
        "\n",
        "plt.tight_layout()\n",
        "plt.show()"
      ]
    },
    {
      "cell_type": "markdown",
      "metadata": {
        "id": "cxTFnWBmSFKt"
      },
      "source": [
        "## 9. Testing"
      ]
    },
    {
      "cell_type": "code",
      "execution_count": 79,
      "metadata": {
        "colab": {
          "base_uri": "https://localhost:8080/"
        },
        "id": "FFESfJMFSE9_",
        "outputId": "ca4529c3-6031-48db-d67a-820bc6e0ea00"
      },
      "outputs": [
        {
          "name": "stdout",
          "output_type": "stream",
          "text": [
            "\n",
            "Evaluating on Test Set...\n",
            "\n",
            "Final Test Accuracy: 0.3607\n",
            "\n",
            "Classification Report:\n",
            "              precision    recall  f1-score   support\n",
            "\n",
            "         cat       0.40      0.33      0.36       848\n",
            "         dog       0.34      0.35      0.35       786\n",
            "        wild       0.35      0.40      0.38       786\n",
            "\n",
            "    accuracy                           0.36      2420\n",
            "   macro avg       0.36      0.36      0.36      2420\n",
            "weighted avg       0.36      0.36      0.36      2420\n",
            "\n"
          ]
        }
      ],
      "source": [
        "print(\"\\nEvaluating on Test Set...\")\n",
        "if best_model_wts:\n",
        "    model.load_state_dict(best_model_wts) # Load best weights\n",
        "else:\n",
        "    print(\"Warning: No best model weights saved. Evaluating with final weights.\")\n",
        "\n",
        "model.eval()\n",
        "test_accuracy = torchmetrics.Accuracy(task=\"multiclass\", num_classes=num_classes).to(DEVICE)\n",
        "all_preds = []\n",
        "all_labels = []\n",
        "\n",
        "with torch.no_grad():\n",
        "    for inputs, labels in test_loader:\n",
        "        # Filter out dummy data if any were returned by dataset\n",
        "        valid_indices = labels != -1\n",
        "        if not valid_indices.all():\n",
        "             print(f\"Filtering { (~valid_indices).sum() } invalid samples in test batch.\")\n",
        "             inputs = inputs[valid_indices]\n",
        "             labels = labels[valid_indices]\n",
        "             if inputs.shape[0] == 0: continue # Skip if batch becomes empty\n",
        "\n",
        "        inputs, labels = inputs.to(DEVICE), labels.to(DEVICE)\n",
        "        outputs = model(inputs)\n",
        "        preds = torch.argmax(outputs, dim=1)\n",
        "\n",
        "        test_accuracy.update(preds, labels)\n",
        "        all_preds.extend(preds.cpu().numpy())\n",
        "        all_labels.extend(labels.cpu().numpy())\n",
        "\n",
        "final_test_acc = test_accuracy.compute()\n",
        "print(f\"\\nFinal Test Accuracy: {final_test_acc.item():.4f}\")\n",
        "\n",
        "# Print classification report (requires labels to be strings or mapped back)\n",
        "try:\n",
        "    inv_label_map = {v: k for k, v in label_map.items()}\n",
        "    all_preds_labels = [inv_label_map[p] for p in all_preds]\n",
        "    all_true_labels = [inv_label_map[l] for l in all_labels]\n",
        "    print(\"\\nClassification Report:\")\n",
        "    print(classification_report(all_true_labels, all_preds_labels, target_names=label_map.keys()))\n",
        "except Exception as e:\n",
        "    print(f\"\\nCould not generate classification report: {e}\")"
      ]
    },
    {
      "cell_type": "markdown",
      "metadata": {
        "id": "j8UWOH4fTLVS"
      },
      "source": [
        "## 10. Inference Function"
      ]
    },
    {
      "cell_type": "code",
      "execution_count": 80,
      "metadata": {
        "id": "Hq1p2KI-TMNp"
      },
      "outputs": [],
      "source": [
        "def predict_single_image(image_path, model_path, label_map_path, transform, device):\n",
        "    \"\"\"Loads the model and predicts the class of a single image.\"\"\"\n",
        "    try:\n",
        "        # Load label map\n",
        "        with open(label_map_path, 'r') as f:\n",
        "            label_map = json.load(f)\n",
        "        inv_label_map = {v: k for k, v in label_map.items()}\n",
        "        num_classes_inf = len(label_map)\n",
        "\n",
        "        # Load image\n",
        "        image = Image.open(image_path).convert('RGB')\n",
        "        input_tensor = transform(image).unsqueeze(0).to(device) # Apply transform and add batch dim\n",
        "\n",
        "        # Load model\n",
        "        inf_model = Net(num_classes=num_classes_inf).to(device)\n",
        "        inf_model.load_state_dict(torch.load(model_path, map_location=device))\n",
        "        inf_model.eval() # Set to evaluation mode\n",
        "\n",
        "        # Predict\n",
        "        with torch.no_grad():\n",
        "            output = inf_model(input_tensor)\n",
        "            probabilities = torch.softmax(output, dim=1) # Convert logits to probabilities\n",
        "            confidence, predicted_idx = torch.max(probabilities, 1)\n",
        "            predicted_label = inv_label_map[predicted_idx.item()]\n",
        "\n",
        "        return predicted_label, confidence.item()\n",
        "\n",
        "    except FileNotFoundError:\n",
        "        return f\"Error: File not found at {image_path} or model/map path.\", 0.0\n",
        "    except KeyError as e:\n",
        "        return f\"Error: Label mapping issue during prediction - {e}\", 0.0\n",
        "    except Exception as e:\n",
        "        return f\"An error occurred during prediction: {e}\", 0.0"
      ]
    },
    {
      "cell_type": "code",
      "execution_count": 81,
      "metadata": {
        "colab": {
          "base_uri": "https://localhost:8080/"
        },
        "id": "2pSop3QXTRPO",
        "outputId": "001224aa-b5c2-4a40-83b8-81b8f8fb7741"
      },
      "outputs": [
        {
          "name": "stdout",
          "output_type": "stream",
          "text": [
            "\n",
            "Inference on '/content/test.jpg':\n",
            "Predicted Class: wild\n",
            "Confidence: 0.3517\n"
          ]
        }
      ],
      "source": [
        "example_image_path = '/content/test.jpg' # Make sure this file exists\n",
        "if os.path.exists(example_image_path):\n",
        "    predicted_class, confidence_score = predict_single_image(\n",
        "        example_image_path,\n",
        "        MODEL_SAVE_PATH,\n",
        "        LABEL_MAP_PATH,\n",
        "        val_test_transform, # Use the non-augmenting transform\n",
        "        DEVICE\n",
        "    )\n",
        "    print(f\"\\nInference on '{example_image_path}':\")\n",
        "    print(f\"Predicted Class: {predicted_class}\")\n",
        "    print(f\"Confidence: {confidence_score:.4f}\")\n",
        "else:\n",
        "    print(f\"\\nSkipping inference example: Image '{example_image_path}' not found.\")"
      ]
    },
    {
      "cell_type": "code",
      "execution_count": null,
      "metadata": {
        "id": "G0n8QhQ2TcL6"
      },
      "outputs": [],
      "source": []
    }
  ],
  "metadata": {
    "accelerator": "GPU",
    "colab": {
      "gpuType": "A100",
      "machine_shape": "hm",
      "provenance": []
    },
    "kernelspec": {
      "display_name": "Python 3",
      "name": "python3"
    },
    "language_info": {
      "name": "python"
    }
  },
  "nbformat": 4,
  "nbformat_minor": 0
}
